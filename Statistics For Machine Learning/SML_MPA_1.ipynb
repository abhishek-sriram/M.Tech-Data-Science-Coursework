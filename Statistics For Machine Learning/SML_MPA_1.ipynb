{
 "cells": [
  {
   "cell_type": "markdown",
   "metadata": {
    "id": "_d5YE9CI77M3"
   },
   "source": [
    "<table align=\"center\" width=100%>\n",
    "    <tr>\n",
    "        <td width=\"15%\">\n",
    "            <img src=\"in_class.png\">\n",
    "        </td>\n",
    "        <td>\n",
    "            <div align=\"center\">\n",
    "                <font color=\"#21618C\" size=8px>\n",
    "                    <b> Statistics for Machine Learning <br>MPA-1\n",
    "                    </b>\n",
    "                </font>\n",
    "            </div>\n",
    "        </td>\n",
    "    </tr>\n",
    "</table>"
   ]
  },
  {
   "cell_type": "markdown",
   "metadata": {
    "id": "DR5ZcT0T77M4"
   },
   "source": [
    "### About the dataset (Adult Income Data)\n",
    "\n",
    "The dataset contains information about the individuals' age, gender, and several attributes affecting the income of a person. <br> Attribute information:\n",
    "\n",
    "**age:** Age of an individual\n",
    "\n",
    "**workclass:** Working class of the individual\n",
    "\n",
    "**fnlwgt:** Weights based on the demographic characteristics\n",
    "\n",
    "**education:** Highest education of the individual\n",
    "\n",
    "**education.num:** Education encoded with unique numbers\n",
    "\n",
    "**marital.status:** Marital status of the individual\n",
    "\n",
    "**occupation:** Occupation of the individual\n",
    "\n",
    "**relationship:** Relation of the individual in the family\n",
    "\n",
    "**race:** Race of the individual\n",
    "\n",
    "**sex:** Gender of the individual (0 = Male, 1 = Female)\n",
    "\n",
    "**capital.gain:** Gain amount of the individual\n",
    "\n",
    "**capital.loss:** Loss amount of the individual\n",
    "\n",
    "**hours.per.week:** Working hours per week\n",
    "\n",
    "**native.country:** The native country of the individual\n",
    "\n",
    "**income:** Income of the individual"
   ]
  },
  {
   "cell_type": "markdown",
   "metadata": {
    "id": "zKloz-bP77M4"
   },
   "source": [
    "##  Table of Content\n",
    "\n",
    "1. **[Understand the Dataset](#data)**\n",
    "2. **[Measures of Central Tendency](#ct)**\n",
    "3. **[Measures of Dispersion](#md)**\n",
    "4. **[Skewness and kurtosis](#sk)**\n",
    "5. **[Correlation](#corr)**\n",
    "6. **[Probability and Distributions](#prob)**"
   ]
  },
  {
   "cell_type": "markdown",
   "metadata": {
    "id": "jBlzTMJa77M5"
   },
   "source": [
    "**Import the required libraries**"
   ]
  },
  {
   "cell_type": "code",
   "execution_count": 8,
   "metadata": {
    "id": "3ihgnwSc77M6"
   },
   "outputs": [],
   "source": [
    "# import pandas\n",
    "import pandas as pd\n",
    "\n",
    "# import numpy\n",
    "import numpy as np\n",
    "\n",
    "# import matplotlib.pyplot\n",
    "import matplotlib.pyplot as plt\n",
    "\n",
    "# import seaborn\n",
    "import seaborn as sns\n",
    "\n",
    "# to suppress the warnings\n",
    "import warnings\n",
    "warnings.filterwarnings('ignore')"
   ]
  },
  {
   "cell_type": "markdown",
   "metadata": {
    "id": "MxCpQeSs77M9"
   },
   "source": [
    "**Load the adults income dataset and print first five observations**"
   ]
  },
  {
   "cell_type": "code",
   "execution_count": 15,
   "metadata": {
    "id": "FkiINfQg77M_"
   },
   "outputs": [
    {
     "data": {
      "text/html": [
       "<div>\n",
       "<style scoped>\n",
       "    .dataframe tbody tr th:only-of-type {\n",
       "        vertical-align: middle;\n",
       "    }\n",
       "\n",
       "    .dataframe tbody tr th {\n",
       "        vertical-align: top;\n",
       "    }\n",
       "\n",
       "    .dataframe thead th {\n",
       "        text-align: right;\n",
       "    }\n",
       "</style>\n",
       "<table border=\"1\" class=\"dataframe\">\n",
       "  <thead>\n",
       "    <tr style=\"text-align: right;\">\n",
       "      <th></th>\n",
       "      <th>age</th>\n",
       "      <th>workclass</th>\n",
       "      <th>fnlwgt</th>\n",
       "      <th>education</th>\n",
       "      <th>education.num</th>\n",
       "      <th>marital.status</th>\n",
       "      <th>occupation</th>\n",
       "      <th>relationship</th>\n",
       "      <th>race</th>\n",
       "      <th>sex</th>\n",
       "      <th>capital.gain</th>\n",
       "      <th>capital.loss</th>\n",
       "      <th>hours.per.week</th>\n",
       "      <th>native.country</th>\n",
       "      <th>income</th>\n",
       "    </tr>\n",
       "  </thead>\n",
       "  <tbody>\n",
       "    <tr>\n",
       "      <th>0</th>\n",
       "      <td>90</td>\n",
       "      <td>?</td>\n",
       "      <td>77053</td>\n",
       "      <td>HS-grad</td>\n",
       "      <td>9</td>\n",
       "      <td>Widowed</td>\n",
       "      <td>?</td>\n",
       "      <td>Not-in-family</td>\n",
       "      <td>White</td>\n",
       "      <td>1</td>\n",
       "      <td>0</td>\n",
       "      <td>4356</td>\n",
       "      <td>40</td>\n",
       "      <td>United-States</td>\n",
       "      <td>&lt;=50K</td>\n",
       "    </tr>\n",
       "    <tr>\n",
       "      <th>1</th>\n",
       "      <td>82</td>\n",
       "      <td>Private</td>\n",
       "      <td>132870</td>\n",
       "      <td>HS-grad</td>\n",
       "      <td>9</td>\n",
       "      <td>Widowed</td>\n",
       "      <td>Exec-managerial</td>\n",
       "      <td>Not-in-family</td>\n",
       "      <td>White</td>\n",
       "      <td>1</td>\n",
       "      <td>0</td>\n",
       "      <td>4356</td>\n",
       "      <td>18</td>\n",
       "      <td>United-States</td>\n",
       "      <td>&lt;=50K</td>\n",
       "    </tr>\n",
       "    <tr>\n",
       "      <th>2</th>\n",
       "      <td>66</td>\n",
       "      <td>?</td>\n",
       "      <td>186061</td>\n",
       "      <td>Some-college</td>\n",
       "      <td>10</td>\n",
       "      <td>Widowed</td>\n",
       "      <td>?</td>\n",
       "      <td>Unmarried</td>\n",
       "      <td>Black</td>\n",
       "      <td>1</td>\n",
       "      <td>0</td>\n",
       "      <td>4356</td>\n",
       "      <td>40</td>\n",
       "      <td>United-States</td>\n",
       "      <td>&lt;=50K</td>\n",
       "    </tr>\n",
       "    <tr>\n",
       "      <th>3</th>\n",
       "      <td>54</td>\n",
       "      <td>Private</td>\n",
       "      <td>140359</td>\n",
       "      <td>7th-8th</td>\n",
       "      <td>4</td>\n",
       "      <td>Divorced</td>\n",
       "      <td>Machine-op-inspct</td>\n",
       "      <td>Unmarried</td>\n",
       "      <td>White</td>\n",
       "      <td>1</td>\n",
       "      <td>0</td>\n",
       "      <td>3900</td>\n",
       "      <td>40</td>\n",
       "      <td>United-States</td>\n",
       "      <td>&lt;=50K</td>\n",
       "    </tr>\n",
       "    <tr>\n",
       "      <th>4</th>\n",
       "      <td>41</td>\n",
       "      <td>Private</td>\n",
       "      <td>264663</td>\n",
       "      <td>Some-college</td>\n",
       "      <td>10</td>\n",
       "      <td>Separated</td>\n",
       "      <td>Prof-specialty</td>\n",
       "      <td>Own-child</td>\n",
       "      <td>White</td>\n",
       "      <td>1</td>\n",
       "      <td>0</td>\n",
       "      <td>3900</td>\n",
       "      <td>40</td>\n",
       "      <td>United-States</td>\n",
       "      <td>&lt;=50K</td>\n",
       "    </tr>\n",
       "  </tbody>\n",
       "</table>\n",
       "</div>"
      ],
      "text/plain": [
       "   age workclass  fnlwgt     education  education.num marital.status  \\\n",
       "0   90         ?   77053       HS-grad              9        Widowed   \n",
       "1   82   Private  132870       HS-grad              9        Widowed   \n",
       "2   66         ?  186061  Some-college             10        Widowed   \n",
       "3   54   Private  140359       7th-8th              4       Divorced   \n",
       "4   41   Private  264663  Some-college             10      Separated   \n",
       "\n",
       "          occupation   relationship   race  sex  capital.gain  capital.loss  \\\n",
       "0                  ?  Not-in-family  White    1             0          4356   \n",
       "1    Exec-managerial  Not-in-family  White    1             0          4356   \n",
       "2                  ?      Unmarried  Black    1             0          4356   \n",
       "3  Machine-op-inspct      Unmarried  White    1             0          3900   \n",
       "4     Prof-specialty      Own-child  White    1             0          3900   \n",
       "\n",
       "   hours.per.week native.country income  \n",
       "0              40  United-States  <=50K  \n",
       "1              18  United-States  <=50K  \n",
       "2              40  United-States  <=50K  \n",
       "3              40  United-States  <=50K  \n",
       "4              40  United-States  <=50K  "
      ]
     },
     "execution_count": 15,
     "metadata": {},
     "output_type": "execute_result"
    }
   ],
   "source": [
    "ai = pd.read_excel(\"adult_income.xlsx\")\n",
    "ai.head()"
   ]
  },
  {
   "cell_type": "code",
   "execution_count": 14,
   "metadata": {},
   "outputs": [
    {
     "data": {
      "text/html": [
       "<div>\n",
       "<style scoped>\n",
       "    .dataframe tbody tr th:only-of-type {\n",
       "        vertical-align: middle;\n",
       "    }\n",
       "\n",
       "    .dataframe tbody tr th {\n",
       "        vertical-align: top;\n",
       "    }\n",
       "\n",
       "    .dataframe thead th {\n",
       "        text-align: right;\n",
       "    }\n",
       "</style>\n",
       "<table border=\"1\" class=\"dataframe\">\n",
       "  <thead>\n",
       "    <tr style=\"text-align: right;\">\n",
       "      <th></th>\n",
       "      <th>age</th>\n",
       "      <th>workclass</th>\n",
       "      <th>fnlwgt</th>\n",
       "      <th>education</th>\n",
       "      <th>education.num</th>\n",
       "      <th>marital.status</th>\n",
       "      <th>occupation</th>\n",
       "      <th>relationship</th>\n",
       "      <th>race</th>\n",
       "      <th>sex</th>\n",
       "      <th>capital.gain</th>\n",
       "      <th>capital.loss</th>\n",
       "      <th>hours.per.week</th>\n",
       "      <th>native.country</th>\n",
       "      <th>income</th>\n",
       "    </tr>\n",
       "  </thead>\n",
       "  <tbody>\n",
       "    <tr>\n",
       "      <th>0</th>\n",
       "      <td>90</td>\n",
       "      <td>?</td>\n",
       "      <td>77053</td>\n",
       "      <td>HS-grad</td>\n",
       "      <td>9</td>\n",
       "      <td>Widowed</td>\n",
       "      <td>?</td>\n",
       "      <td>Not-in-family</td>\n",
       "      <td>White</td>\n",
       "      <td>1</td>\n",
       "      <td>0</td>\n",
       "      <td>4356</td>\n",
       "      <td>40</td>\n",
       "      <td>United-States</td>\n",
       "      <td>&lt;=50K</td>\n",
       "    </tr>\n",
       "    <tr>\n",
       "      <th>1</th>\n",
       "      <td>82</td>\n",
       "      <td>Private</td>\n",
       "      <td>132870</td>\n",
       "      <td>HS-grad</td>\n",
       "      <td>9</td>\n",
       "      <td>Widowed</td>\n",
       "      <td>Exec-managerial</td>\n",
       "      <td>Not-in-family</td>\n",
       "      <td>White</td>\n",
       "      <td>1</td>\n",
       "      <td>0</td>\n",
       "      <td>4356</td>\n",
       "      <td>18</td>\n",
       "      <td>United-States</td>\n",
       "      <td>&lt;=50K</td>\n",
       "    </tr>\n",
       "    <tr>\n",
       "      <th>2</th>\n",
       "      <td>66</td>\n",
       "      <td>?</td>\n",
       "      <td>186061</td>\n",
       "      <td>Some-college</td>\n",
       "      <td>10</td>\n",
       "      <td>Widowed</td>\n",
       "      <td>?</td>\n",
       "      <td>Unmarried</td>\n",
       "      <td>Black</td>\n",
       "      <td>1</td>\n",
       "      <td>0</td>\n",
       "      <td>4356</td>\n",
       "      <td>40</td>\n",
       "      <td>United-States</td>\n",
       "      <td>&lt;=50K</td>\n",
       "    </tr>\n",
       "    <tr>\n",
       "      <th>3</th>\n",
       "      <td>54</td>\n",
       "      <td>Private</td>\n",
       "      <td>140359</td>\n",
       "      <td>7th-8th</td>\n",
       "      <td>4</td>\n",
       "      <td>Divorced</td>\n",
       "      <td>Machine-op-inspct</td>\n",
       "      <td>Unmarried</td>\n",
       "      <td>White</td>\n",
       "      <td>1</td>\n",
       "      <td>0</td>\n",
       "      <td>3900</td>\n",
       "      <td>40</td>\n",
       "      <td>United-States</td>\n",
       "      <td>&lt;=50K</td>\n",
       "    </tr>\n",
       "    <tr>\n",
       "      <th>4</th>\n",
       "      <td>41</td>\n",
       "      <td>Private</td>\n",
       "      <td>264663</td>\n",
       "      <td>Some-college</td>\n",
       "      <td>10</td>\n",
       "      <td>Separated</td>\n",
       "      <td>Prof-specialty</td>\n",
       "      <td>Own-child</td>\n",
       "      <td>White</td>\n",
       "      <td>1</td>\n",
       "      <td>0</td>\n",
       "      <td>3900</td>\n",
       "      <td>40</td>\n",
       "      <td>United-States</td>\n",
       "      <td>&lt;=50K</td>\n",
       "    </tr>\n",
       "  </tbody>\n",
       "</table>\n",
       "</div>"
      ],
      "text/plain": [
       "   age workclass  fnlwgt     education  education.num marital.status  \\\n",
       "0   90         ?   77053       HS-grad              9        Widowed   \n",
       "1   82   Private  132870       HS-grad              9        Widowed   \n",
       "2   66         ?  186061  Some-college             10        Widowed   \n",
       "3   54   Private  140359       7th-8th              4       Divorced   \n",
       "4   41   Private  264663  Some-college             10      Separated   \n",
       "\n",
       "          occupation   relationship   race  sex  capital.gain  capital.loss  \\\n",
       "0                  ?  Not-in-family  White    1             0          4356   \n",
       "1    Exec-managerial  Not-in-family  White    1             0          4356   \n",
       "2                  ?      Unmarried  Black    1             0          4356   \n",
       "3  Machine-op-inspct      Unmarried  White    1             0          3900   \n",
       "4     Prof-specialty      Own-child  White    1             0          3900   \n",
       "\n",
       "   hours.per.week native.country income  \n",
       "0              40  United-States  <=50K  \n",
       "1              18  United-States  <=50K  \n",
       "2              40  United-States  <=50K  \n",
       "3              40  United-States  <=50K  \n",
       "4              40  United-States  <=50K  "
      ]
     },
     "execution_count": 14,
     "metadata": {},
     "output_type": "execute_result"
    }
   ],
   "source": [
    "ai.head()"
   ]
  },
  {
   "cell_type": "markdown",
   "metadata": {
    "id": "RHCn-uCU77ND"
   },
   "source": [
    "<a id=\"data\"> </a>\n",
    "## 1. Understand the Dataset"
   ]
  },
  {
   "cell_type": "markdown",
   "metadata": {
    "id": "QIGT6lBF77ND"
   },
   "source": [
    "<table align=\"left\">\n",
    "    <tr>\n",
    "        <td width=\"6%\">\n",
    "            <img src=\"question_icon.png\">\n",
    "        </td>\n",
    "        <td>\n",
    "            <div align=\"left\", style=\"font-size:120%\">\n",
    "                <font color=\"#21618C\">\n",
    "                    <b>1. Find out the numerical and categorical variables in the data. If any variable is wrongly identified, do the needful\n",
    "</b>\n",
    "                </font>\n",
    "            </div>\n",
    "        </td>\n",
    "    </tr>\n",
    "</table>"
   ]
  },
  {
   "cell_type": "code",
   "execution_count": 17,
   "metadata": {
    "id": "PRvN3yNT9FkX",
    "scrolled": true
   },
   "outputs": [
    {
     "data": {
      "text/plain": [
       "age                int64\n",
       "workclass         object\n",
       "fnlwgt             int64\n",
       "education         object\n",
       "education.num      int64\n",
       "marital.status    object\n",
       "occupation        object\n",
       "relationship      object\n",
       "race              object\n",
       "sex                int64\n",
       "capital.gain       int64\n",
       "capital.loss       int64\n",
       "hours.per.week     int64\n",
       "native.country    object\n",
       "income            object\n",
       "dtype: object"
      ]
     },
     "execution_count": 17,
     "metadata": {},
     "output_type": "execute_result"
    }
   ],
   "source": [
    "ai.dtypes"
   ]
  },
  {
   "cell_type": "code",
   "execution_count": null,
   "metadata": {},
   "outputs": [],
   "source": [
    "# Inference:\n",
    "All integer data types are Numerical and Object data types are categorical.\n",
    "\n",
    "Numerical Variables:\n",
    "\n",
    "age \n",
    "fnlwgt\n",
    "education.num\n",
    "capital.gain\n",
    "capital.loss\n",
    "hours.per.week\n",
    "\n",
    "Categorical Variables:\n",
    "\n",
    "workclass\n",
    "education\n",
    "marital.status\n",
    "occupation\n",
    "relationship\n",
    "race\n",
    "sex (This can be considered categorical with 0 = Male and 1 = Female)\n",
    "native.country\n",
    "income"
   ]
  },
  {
   "cell_type": "markdown",
   "metadata": {
    "id": "PG5SPHpL77NP"
   },
   "source": [
    "<a id=\"ct\"> </a>\n",
    "## 2. Measures of Central Tendency"
   ]
  },
  {
   "cell_type": "markdown",
   "metadata": {
    "id": "F5RuhsBL77NP"
   },
   "source": [
    "<table align=\"left\">\n",
    "    <tr>\n",
    "        <td width=\"6%\">\n",
    "            <img src=\"question_icon.png\">\n",
    "        </td>\n",
    "        <td>\n",
    "            <div align=\"left\", style=\"font-size:120%\">\n",
    "                <font color=\"#21618C\">\n",
    "                    <b>2. What is the average age of males and females in the data?</b>\n",
    "                </font>\n",
    "            </div>\n",
    "        </td>\n",
    "    </tr>\n",
    "</table>"
   ]
  },
  {
   "cell_type": "code",
   "execution_count": 18,
   "metadata": {},
   "outputs": [
    {
     "name": "stdout",
     "output_type": "stream",
     "text": [
      "Average age for males: 39.43354749885268\n",
      "Average age for females: 36.85823043357163\n"
     ]
    }
   ],
   "source": [
    "male_average_age = ai[ai['sex'] == 0]['age'].mean()\n",
    "female_average_age = ai[ai['sex'] == 1]['age'].mean()\n",
    "\n",
    "print(\"Average age for males:\", male_average_age)\n",
    "print(\"Average age for females:\", female_average_age)"
   ]
  },
  {
   "cell_type": "markdown",
   "metadata": {
    "id": "5bp-1Oja77NW"
   },
   "source": [
    "<table align=\"left\">\n",
    "    <tr>\n",
    "        <td width=\"6%\">\n",
    "            <img src=\"question_icon.png\">\n",
    "        </td>\n",
    "        <td>\n",
    "            <div align=\"left\", style=\"font-size:120%\">\n",
    "                <font color=\"#21618C\">\n",
    "                    <b>3. Identify the qualification of most of the individuals </b>\n",
    "                </font>\n",
    "            </div>\n",
    "        </td>\n",
    "    </tr>\n",
    "</table>"
   ]
  },
  {
   "cell_type": "code",
   "execution_count": 19,
   "metadata": {},
   "outputs": [
    {
     "name": "stdout",
     "output_type": "stream",
     "text": [
      "Most common education level: HS-grad\n"
     ]
    }
   ],
   "source": [
    "most_common_education = ai['education'].value_counts().idxmax()\n",
    "print(\"Most common education level:\", most_common_education)"
   ]
  },
  {
   "cell_type": "markdown",
   "metadata": {
    "id": "GvMgDacs77Nd"
   },
   "source": [
    "<table align=\"left\">\n",
    "    <tr>\n",
    "        <td width=\"6%\">\n",
    "            <img src=\"question_icon.png\">\n",
    "        </td>\n",
    "        <td>\n",
    "            <div align=\"left\", style=\"font-size:120%\">\n",
    "                <font color=\"#21618C\">\n",
    "                    <b>4\n",
    "                  . Find the middle most observation of age for different working class</b>\n",
    "                </font>\n",
    "            </div>\n",
    "        </td>\n",
    "    </tr>\n",
    "</table>"
   ]
  },
  {
   "cell_type": "code",
   "execution_count": 20,
   "metadata": {},
   "outputs": [
    {
     "name": "stdout",
     "output_type": "stream",
     "text": [
      "Median age for each working class:\n",
      "workclass\n",
      "?                   35.0\n",
      "Federal-gov         43.0\n",
      "Local-gov           41.0\n",
      "Never-worked        18.0\n",
      "Private             35.0\n",
      "Self-emp-inc        45.0\n",
      "Self-emp-not-inc    44.0\n",
      "State-gov           39.0\n",
      "Without-pay         57.0\n",
      "Name: age, dtype: float64\n"
     ]
    }
   ],
   "source": [
    "median_age_by_workclass = ai.groupby('workclass')['age'].median()\n",
    "print(\"Median age for each working class:\")\n",
    "print(median_age_by_workclass)"
   ]
  },
  {
   "cell_type": "markdown",
   "metadata": {
    "id": "YwPVeFFh77Np"
   },
   "source": [
    "<a id=\"md\"> </a>\n",
    "## 3. Measures of Dispersion"
   ]
  },
  {
   "cell_type": "markdown",
   "metadata": {
    "id": "tT51Xjt277Np"
   },
   "source": [
    "<table align=\"left\">\n",
    "    <tr>\n",
    "        <td width=\"6%\">\n",
    "            <img src=\"question_icon.png\">\n",
    "        </td>\n",
    "        <td>\n",
    "            <div align=\"left\", style=\"font-size:120%\">\n",
    "                <font color=\"#21618C\">\n",
    "                    <b>5. Which occupation has more variability in the working hours</b>\n",
    "                </font>\n",
    "            </div>\n",
    "        </td>\n",
    "    </tr>\n",
    "</table>"
   ]
  },
  {
   "cell_type": "code",
   "execution_count": 21,
   "metadata": {},
   "outputs": [
    {
     "name": "stdout",
     "output_type": "stream",
     "text": [
      "Occupation with the most variability in working hours: Farming-fishing\n"
     ]
    }
   ],
   "source": [
    "occupation_variability = ai.groupby('occupation')['hours.per.week'].std().sort_values(ascending=False)\n",
    "occupation_with_most_variability = occupation_variability.idxmax()\n",
    "print(\"Occupation with the most variability in working hours:\", occupation_with_most_variability)"
   ]
  },
  {
   "cell_type": "markdown",
   "metadata": {
    "id": "I3vp8e3d77Nu"
   },
   "source": [
    "<table align=\"left\">\n",
    "    <tr>\n",
    "        <td width=\"6%\">\n",
    "            <img src=\"question_icon.png\">\n",
    "        </td>\n",
    "        <td>\n",
    "            <div align=\"left\", style=\"font-size:120%\">\n",
    "                <font color=\"#21618C\">\n",
    "                    <b> 6. What is the range of the middle 50% of working hours per week?</b>\n",
    "                </font>\n",
    "            </div>\n",
    "        </td>\n",
    "    </tr>\n",
    "</table>"
   ]
  },
  {
   "cell_type": "code",
   "execution_count": 22,
   "metadata": {},
   "outputs": [
    {
     "name": "stdout",
     "output_type": "stream",
     "text": [
      "Range of the middle 50% of working hours per week: 5.0\n"
     ]
    }
   ],
   "source": [
    "percentile_25 = ai['hours.per.week'].quantile(0.25)\n",
    "percentile_75 = ai['hours.per.week'].quantile(0.75)\n",
    "range_middle_50_percent = percentile_75 - percentile_25\n",
    "print(\"Range of the middle 50% of working hours per week:\", range_middle_50_percent)\n",
    "low_rang=percentile_25-1.5 * range_middle_50_percent\n",
    "high_rang=percentile_75+1.5 * range_middle_50_percent\n",
    "print(low_rang,high_rang)"
   ]
  },
  {
   "cell_type": "markdown",
   "metadata": {
    "id": "0gOo1Ts777Nx"
   },
   "source": [
    "<table align=\"left\">\n",
    "    <tr>\n",
    "        <td width=\"6%\">\n",
    "            <img src=\"question_icon.png\">\n",
    "        </td>\n",
    "        <td>\n",
    "            <div align=\"left\", style=\"font-size:120%\">\n",
    "                <font color=\"#21618C\">\n",
    "                    <b>7. Are there any variables which can be excluded from further analysis based on their variability?</b>\n",
    "                </font>\n",
    "            </div>\n",
    "        </td>\n",
    "    </tr>\n",
    "</table>"
   ]
  },
  {
   "cell_type": "code",
   "execution_count": null,
   "metadata": {},
   "outputs": [],
   "source": [
    "# yes. sex column standard deviation is near 0. so, it has less significance in the analysis\n",
    "ai.std()"
   ]
  },
  {
   "cell_type": "code",
   "execution_count": 24,
   "metadata": {},
   "outputs": [
    {
     "data": {
      "text/plain": [
       "age               1.860614e+02\n",
       "fnlwgt            1.114080e+10\n",
       "education.num     6.618890e+00\n",
       "sex               2.213763e-01\n",
       "capital.gain      5.454254e+07\n",
       "capital.loss      1.623769e+05\n",
       "hours.per.week    1.527370e+02\n",
       "dtype: float64"
      ]
     },
     "execution_count": 24,
     "metadata": {},
     "output_type": "execute_result"
    }
   ],
   "source": [
    "variances = ai.var()\n",
    "variances"
   ]
  },
  {
   "cell_type": "code",
   "execution_count": null,
   "metadata": {},
   "outputs": [],
   "source": [
    "Inference: \n",
    "variables can be excluded from further analysis based on their variability:\n",
    "\n",
    "age: Variance = 186.06 - This variable has moderate variability, but it may still be valuable for analysis. \n",
    "It's a common demographic variable and is often relevant in many studies.\n",
    "\n",
    "fnlwgt: Variance = 11,140,800,000 - This variable has an extremely high variance, indicating significant variability. \n",
    "Unless we have a compelling reason to keep it for a specific analysis, it's a candidate for exclusion. \n",
    "High variability can sometimes introduce noise into the analysis.\n",
    "\n",
    "education.num: Variance = 6.62 - This variable has low variability, but it represents the numeric encoding of education levels, \n",
    "which could be valuable for some analyses. we can choose to keep it or convert it into a categorical variable.\n",
    "\n",
    "sex: Variance = 0.22 - This variable, as mentioned earlier, is binary (0 or 1), and \n",
    "measuring its variance isn't particularly meaningful for such variables. \n",
    "It's typically considered a categorical variable, and its inclusion in analysis depends on the research question.\n",
    "\n",
    "capital.gain: Variance = 54,542,540.00 - This variable has high variability, which is expected since it represents capital gains.\n",
    "It may be relevant for certain financial or income-related analyses.\n",
    "\n",
    "capital.loss: Variance = 162,376.90 - This variable also has high variability, representing capital losses. \n",
    "Like 'capital.gain,' its relevance depends on the analysis context.\n",
    "\n",
    "hours.per.week: Variance = 152.74 - This variable has moderate variability, and it represents the number of hours worked per week. \n",
    "It is often important in studies related to income and employment.\n",
    "\n",
    "In summary:\n",
    "\n",
    "'fnlwgt' is a candidate for exclusion due to its extremely high variance.\n",
    "'sex' is categorical and may not be excluded based on variability.\n",
    "The other variables, despite their varying levels of variability, can be relevant in this context. \n"
   ]
  },
  {
   "cell_type": "code",
   "execution_count": 26,
   "metadata": {},
   "outputs": [
    {
     "data": {
      "text/html": [
       "<div>\n",
       "<style scoped>\n",
       "    .dataframe tbody tr th:only-of-type {\n",
       "        vertical-align: middle;\n",
       "    }\n",
       "\n",
       "    .dataframe tbody tr th {\n",
       "        vertical-align: top;\n",
       "    }\n",
       "\n",
       "    .dataframe thead th {\n",
       "        text-align: right;\n",
       "    }\n",
       "</style>\n",
       "<table border=\"1\" class=\"dataframe\">\n",
       "  <thead>\n",
       "    <tr style=\"text-align: right;\">\n",
       "      <th></th>\n",
       "      <th>age</th>\n",
       "      <th>fnlwgt</th>\n",
       "      <th>education.num</th>\n",
       "      <th>sex</th>\n",
       "      <th>capital.gain</th>\n",
       "      <th>capital.loss</th>\n",
       "      <th>hours.per.week</th>\n",
       "    </tr>\n",
       "  </thead>\n",
       "  <tbody>\n",
       "    <tr>\n",
       "      <th>count</th>\n",
       "      <td>32561.000000</td>\n",
       "      <td>3.256100e+04</td>\n",
       "      <td>32561.000000</td>\n",
       "      <td>32561.000000</td>\n",
       "      <td>32561.000000</td>\n",
       "      <td>32561.000000</td>\n",
       "      <td>32561.000000</td>\n",
       "    </tr>\n",
       "    <tr>\n",
       "      <th>mean</th>\n",
       "      <td>38.581647</td>\n",
       "      <td>1.897784e+05</td>\n",
       "      <td>10.080679</td>\n",
       "      <td>0.330795</td>\n",
       "      <td>1077.648844</td>\n",
       "      <td>87.303830</td>\n",
       "      <td>40.431344</td>\n",
       "    </tr>\n",
       "    <tr>\n",
       "      <th>std</th>\n",
       "      <td>13.640433</td>\n",
       "      <td>1.055500e+05</td>\n",
       "      <td>2.572720</td>\n",
       "      <td>0.470506</td>\n",
       "      <td>7385.292085</td>\n",
       "      <td>402.960219</td>\n",
       "      <td>12.358681</td>\n",
       "    </tr>\n",
       "    <tr>\n",
       "      <th>min</th>\n",
       "      <td>17.000000</td>\n",
       "      <td>1.228500e+04</td>\n",
       "      <td>1.000000</td>\n",
       "      <td>0.000000</td>\n",
       "      <td>0.000000</td>\n",
       "      <td>0.000000</td>\n",
       "      <td>0.000000</td>\n",
       "    </tr>\n",
       "    <tr>\n",
       "      <th>25%</th>\n",
       "      <td>28.000000</td>\n",
       "      <td>1.178270e+05</td>\n",
       "      <td>9.000000</td>\n",
       "      <td>0.000000</td>\n",
       "      <td>0.000000</td>\n",
       "      <td>0.000000</td>\n",
       "      <td>40.000000</td>\n",
       "    </tr>\n",
       "    <tr>\n",
       "      <th>50%</th>\n",
       "      <td>37.000000</td>\n",
       "      <td>1.783560e+05</td>\n",
       "      <td>10.000000</td>\n",
       "      <td>0.000000</td>\n",
       "      <td>0.000000</td>\n",
       "      <td>0.000000</td>\n",
       "      <td>40.000000</td>\n",
       "    </tr>\n",
       "    <tr>\n",
       "      <th>75%</th>\n",
       "      <td>48.000000</td>\n",
       "      <td>2.370510e+05</td>\n",
       "      <td>12.000000</td>\n",
       "      <td>1.000000</td>\n",
       "      <td>0.000000</td>\n",
       "      <td>0.000000</td>\n",
       "      <td>45.000000</td>\n",
       "    </tr>\n",
       "    <tr>\n",
       "      <th>max</th>\n",
       "      <td>90.000000</td>\n",
       "      <td>1.484705e+06</td>\n",
       "      <td>16.000000</td>\n",
       "      <td>1.000000</td>\n",
       "      <td>99999.000000</td>\n",
       "      <td>4356.000000</td>\n",
       "      <td>99.000000</td>\n",
       "    </tr>\n",
       "  </tbody>\n",
       "</table>\n",
       "</div>"
      ],
      "text/plain": [
       "                age        fnlwgt  education.num           sex  capital.gain  \\\n",
       "count  32561.000000  3.256100e+04   32561.000000  32561.000000  32561.000000   \n",
       "mean      38.581647  1.897784e+05      10.080679      0.330795   1077.648844   \n",
       "std       13.640433  1.055500e+05       2.572720      0.470506   7385.292085   \n",
       "min       17.000000  1.228500e+04       1.000000      0.000000      0.000000   \n",
       "25%       28.000000  1.178270e+05       9.000000      0.000000      0.000000   \n",
       "50%       37.000000  1.783560e+05      10.000000      0.000000      0.000000   \n",
       "75%       48.000000  2.370510e+05      12.000000      1.000000      0.000000   \n",
       "max       90.000000  1.484705e+06      16.000000      1.000000  99999.000000   \n",
       "\n",
       "       capital.loss  hours.per.week  \n",
       "count  32561.000000    32561.000000  \n",
       "mean      87.303830       40.431344  \n",
       "std      402.960219       12.358681  \n",
       "min        0.000000        0.000000  \n",
       "25%        0.000000       40.000000  \n",
       "50%        0.000000       40.000000  \n",
       "75%        0.000000       45.000000  \n",
       "max     4356.000000       99.000000  "
      ]
     },
     "execution_count": 26,
     "metadata": {},
     "output_type": "execute_result"
    }
   ],
   "source": [
    "ai.describe()"
   ]
  },
  {
   "cell_type": "code",
   "execution_count": 23,
   "metadata": {},
   "outputs": [
    {
     "name": "stdout",
     "output_type": "stream",
     "text": [
      "Variables with low variability: Index([], dtype='object')\n"
     ]
    }
   ],
   "source": [
    "# You can set a threshold for variance and consider excluding variables with variance below the threshold.\n",
    "#threshold = 0.1  # Adjust this threshold based on your needs\n",
    "#low_variability_variables = variances[variances < threshold].index\n",
    "#print(\"Variables with low variability:\", low_variability_variables)"
   ]
  },
  {
   "cell_type": "markdown",
   "metadata": {
    "id": "nA4MibMm77OH"
   },
   "source": [
    "<a id=\"sk\"> </a>\n",
    "## 4. Skewness and kurtosis"
   ]
  },
  {
   "cell_type": "markdown",
   "metadata": {
    "id": "AT9mxUrn77OI"
   },
   "source": [
    "<table align=\"left\">\n",
    "    <tr>\n",
    "        <td width=\"6%\">\n",
    "            <img src=\"question_icon.png\">\n",
    "        </td>\n",
    "        <td>\n",
    "            <div align=\"left\", style=\"font-size:120%\">\n",
    "                <font color=\"#21618C\">\n",
    "                    <b>8. Is there any negatively skewed feature. Support your answer with a metric and the plot</b>\n",
    "                </font>\n",
    "            </div>\n",
    "        </td>\n",
    "    </tr>\n",
    "</table>"
   ]
  },
  {
   "cell_type": "code",
   "execution_count": 27,
   "metadata": {},
   "outputs": [
    {
     "name": "stdout",
     "output_type": "stream",
     "text": [
      "Skewness of variables:\n",
      "age                0.558743\n",
      "fnlwgt             1.446980\n",
      "education.num     -0.311676\n",
      "sex                0.719293\n",
      "capital.gain      11.953848\n",
      "capital.loss       4.594629\n",
      "hours.per.week     0.222241\n",
      "dtype: float64\n"
     ]
    }
   ],
   "source": [
    "skewness = ai.skew()\n",
    "print(\"Skewness of variables:\")\n",
    "print(skewness)"
   ]
  },
  {
   "cell_type": "code",
   "execution_count": null,
   "metadata": {},
   "outputs": [],
   "source": [
    "#Inference:\n",
    "education.num is negative skew\n",
    "\n",
    "Based on these results:\n",
    "The 'education.num' variable is the only one with negative skewness, indicating a left-skewed distribution.\n",
    "To support this analysis visually, you can create a histogram or density plot for 'education.num' to \n",
    "confirm its left-skewed distribution. Here's an example using a histogram:"
   ]
  },
  {
   "cell_type": "code",
   "execution_count": 32,
   "metadata": {},
   "outputs": [
    {
     "data": {
      "image/png": "[encoded data removed]",
      "text/plain": [
       "<Figure size 600x400 with 1 Axes>"
      ]
     },
     "metadata": {},
     "output_type": "display_data"
    }
   ],
   "source": [
    "plt.figure(figsize=(6, 4))\n",
    "plt.hist(ai['education.num'], bins=20)\n",
    "plt.title(\"Histogram of Education Number\")\n",
    "plt.xlabel(\"Education Number\")\n",
    "plt.ylabel(\"Frequency\")\n",
    "plt.show()"
   ]
  },
  {
   "cell_type": "markdown",
   "metadata": {
    "id": "p20nq6a477OO"
   },
   "source": [
    "<table align=\"left\">\n",
    "    <tr>\n",
    "        <td width=\"6%\">\n",
    "            <img src=\"question_icon.png\">\n",
    "        </td>\n",
    "        <td>\n",
    "            <div align=\"left\", style=\"font-size:120%\">\n",
    "                <font color=\"#21618C\">\n",
    "                    <b>9. Find the kurtosis of all the variables, and give appropriate interpretation</b>\n",
    "                </font>\n",
    "            </div>\n",
    "        </td>\n",
    "    </tr>\n",
    "</table>"
   ]
  },
  {
   "cell_type": "code",
   "execution_count": 28,
   "metadata": {},
   "outputs": [
    {
     "name": "stdout",
     "output_type": "stream",
     "text": [
      "Kurtosis of variables:\n",
      "age                -0.166127\n",
      "fnlwgt              6.218811\n",
      "education.num       0.623444\n",
      "sex                -1.482709\n",
      "capital.gain      154.799438\n",
      "capital.loss       20.376802\n",
      "hours.per.week      2.916782\n",
      "dtype: float64\n"
     ]
    }
   ],
   "source": [
    "kurtosis = ai.kurtosis()\n",
    "print(\"Kurtosis of variables:\")\n",
    "print(kurtosis)"
   ]
  },
  {
   "cell_type": "code",
   "execution_count": null,
   "metadata": {},
   "outputs": [],
   "source": [
    "# Inference:\n",
    "Here are the kurtosis values for each variable and their interpretations:\n",
    "    \n",
    "#  variable sex is platikurtic\n",
    "#  variable age,education.num is mesokurtic\n",
    "# other variables are leptokurtic\n",
    "\n",
    "age: Kurtosis = -0.166127\n",
    "\n",
    "Interpretation: A negative kurtosis value indicates a platykurtic distribution, \n",
    "which means that the distribution has lighter tails and is flatter than a normal distribution. \n",
    "In this case, the 'age' distribution is flatter with fewer extreme values compared to a normal distribution.\n",
    "\n",
    "fnlwgt: Kurtosis = 6.218811\n",
    "\n",
    "Interpretation: A positive kurtosis value indicates a leptokurtic distribution,\n",
    "which means that the distribution has heavier tails and more extreme values compared to a normal distribution.\n",
    "The 'fnlwgt' distribution has heavier tails and is more peaked around the mean.\n",
    "education.num: Kurtosis = 0.623444\n",
    "\n",
    "Interpretation: A positive kurtosis value suggests a leptokurtic distribution, but the value is not extremely high. \n",
    "The 'education.num' distribution has slightly heavier tails compared to a normal distribution.\n",
    "sex: Kurtosis = -1.482709\n",
    "\n",
    "Interpretation: A negative kurtosis value indicates a platykurtic distribution, meaning it has lighter tails and is flatter than a normal distribution. \n",
    "However, kurtosis is less meaningful for binary variables like 'sex' (0 or 1).\n",
    "capital.gain: Kurtosis = 154.799438\n",
    "\n",
    "Interpretation: A very high positive kurtosis value indicates a leptokurtic distribution with extremely heavy tails and a very peaked shape. The 'capital.gain' distribution has a significant number of extreme values.\n",
    "capital.loss: Kurtosis = 20.376802\n",
    "\n",
    "Interpretation: Similar to 'capital.gain,' a very high positive kurtosis value suggests a leptokurtic distribution with extremely heavy tails and a very peaked shape. The 'capital.loss' distribution also has a significant number of extreme values.\n",
    "hours.per.week: Kurtosis = 2.916782\n",
    "\n",
    "Interpretation: A positive kurtosis value indicates a somewhat leptokurtic distribution with moderately heavy tails. The 'hours.per.week' distribution is more peaked and has heavier tails compared to a normal distribution but is not as extreme as 'capital.gain' or 'capital.loss.'\n",
    "In summary, kurtosis measures the tailedness of a distribution. Positive values indicate heavy tails (leptokurtic), while negative values indicate light tails (platykurtic). \n",
    "High kurtosis values may indicate the presence of extreme values or outliers in the data."
   ]
  },
  {
   "cell_type": "markdown",
   "metadata": {
    "id": "5_XEeLsU77OR"
   },
   "source": [
    "<table align=\"left\">\n",
    "    <tr>\n",
    "        <td width=\"6%\">\n",
    "            <img src=\"question_icon.png\">\n",
    "        </td>\n",
    "        <td>\n",
    "            <div align=\"left\", style=\"font-size:120%\">\n",
    "                <font color=\"#21618C\">\n",
    "                    <b>10. Identify the presence of extreme values in age using visualization techniques\n",
    "</b>\n",
    "                </font>\n",
    "            </div>\n",
    "        </td>\n",
    "    </tr>\n",
    "</table>"
   ]
  },
  {
   "cell_type": "code",
   "execution_count": 30,
   "metadata": {},
   "outputs": [
    {
     "data": {
      "image/png": "[encoded data removed]",
      "text/plain": [
       "<Figure size 600x400 with 1 Axes>"
      ]
     },
     "metadata": {},
     "output_type": "display_data"
    },
    {
     "data": {
      "image/png": "[encoded data removed]",
      "text/plain": [
       "<Figure size 600x400 with 1 Axes>"
      ]
     },
     "metadata": {},
     "output_type": "display_data"
    }
   ],
   "source": [
    "import matplotlib.pyplot as plt\n",
    "\n",
    "plt.figure(figsize=(6, 4))\n",
    "plt.boxplot(ai['age'], vert=False)\n",
    "plt.title(\"Box Plot of Age\")\n",
    "plt.show()\n",
    "#In the box plot, any data points outside the \"whiskers\" are considered outliers. You can visually inspect the plot to identify extreme values.\n",
    "\n",
    "#Additionally, you can create a histogram to see the distribution of the 'age' variable and check for any data points that appear far from the main cluster:\n",
    "plt.figure(figsize=(6, 4))\n",
    "plt.hist(ai['age'], bins=20)\n",
    "plt.title(\"Histogram of Age\")\n",
    "plt.xlabel(\"Age\")\n",
    "plt.ylabel(\"Frequency\")\n",
    "plt.show()\n",
    "#Outliers in the 'age' variable would be data points that are significantly separated from the main distribution in the histogram. You can define a threshold for what you consider an extreme value based on your analysis needs.\n"
   ]
  },
  {
   "cell_type": "markdown",
   "metadata": {
    "id": "HXCMwkzE77OW"
   },
   "source": [
    "<a id=\"corr\"> </a>\n",
    "## 5. Correlation"
   ]
  },
  {
   "cell_type": "markdown",
   "metadata": {
    "id": "9htEKXBr77OX"
   },
   "source": [
    "<table align=\"left\">\n",
    "    <tr>\n",
    "        <td width=\"6%\">\n",
    "            <img src=\"question_icon.png\">\n",
    "        </td>\n",
    "        <td>\n",
    "            <div align=\"left\", style=\"font-size:120%\">\n",
    "                <font color=\"#21618C\">\n",
    "                    <b>11. Is there any effect of age on the working hours of a person?</b>\n",
    "                </font>\n",
    "            </div>\n",
    "        </td>\n",
    "    </tr>\n",
    "</table>"
   ]
  },
  {
   "cell_type": "code",
   "execution_count": 33,
   "metadata": {},
   "outputs": [
    {
     "name": "stdout",
     "output_type": "stream",
     "text": [
      "Correlation between age and hours per week: 0.06931085288793035\n"
     ]
    }
   ],
   "source": [
    "correlation = ai['age'].corr(ai['hours.per.week'])\n",
    "print(\"Correlation between age and hours per week:\", correlation)"
   ]
  },
  {
   "cell_type": "code",
   "execution_count": null,
   "metadata": {},
   "outputs": [],
   "source": [
    "# Inference:\n",
    "\n",
    "The correlation between age and hours per week is approximately 0.0693. This correlation is close to zero and indicates\n",
    "a very weak linear relationship between age and the number of hours worked per week. \n",
    "In other words, there is little to no effect of age on the working hours of a person, based on this data.\n",
    "Other factors likely play a more significant role in determining the number of hours worked per week."
   ]
  },
  {
   "cell_type": "markdown",
   "metadata": {
    "id": "m727KZIxC5_-"
   },
   "source": [
    "<a id=\"corr\"> </a>\n",
    "## 6. Probability and Distributions"
   ]
  },
  {
   "cell_type": "markdown",
   "metadata": {
    "id": "PpXlc7s5DErM"
   },
   "source": [
    "<table align=\"left\">\n",
    "    <tr>\n",
    "        <td width=\"6%\">\n",
    "            <img src=\"question_icon.png\">\n",
    "        </td>\n",
    "        <td>\n",
    "            <div align=\"left\", style=\"font-size:120%\">\n",
    "                <font color=\"#21618C\">\n",
    "                    <b>12. The probabilities that “A” and “B” will tell the truth are 2/3 and 4/5 respectively. What is the probability that i) they agree with each other ii) they contradict each other while giving a witness in the court.</b>\n",
    "                </font>\n",
    "            </div>\n",
    "        </td>\n",
    "    </tr>\n",
    "</table>"
   ]
  },
  {
   "cell_type": "code",
   "execution_count": null,
   "metadata": {},
   "outputs": [],
   "source": [
    "1. To find the probability that \"A\" and \"B\" agree with each other: \n",
    "We can multiply their individual probabilities because they are independent events.\n",
    "\n",
    "Probability(A agrees) = 2/3\n",
    "Probability(B agrees) = 4/5\n",
    "\n",
    "Probability(Both agree) = Probability(A agrees) * Probability(B agrees) = (2/3) * (4/5)\n",
    "\n",
    "2. To find the probability that \"A\" and \"B\" contradict each other:\n",
    "We can subtract the probability that they agree from 1 because there are only two possible outcomes: agree or contradict.\n",
    "\n",
    "Probability(Both contradict) = 1 - Probability(Both agree)\n",
    "\n",
    "# python snippet\n",
    "\"\"\"i) they agree with each other\"\"\"\n",
    "# considering A & B independent events & The probability that both \"A\" and \"B\" tell the truth (agree)\n",
    "A=2/3\n",
    "B=4/5\n",
    "# \tP(A∩B)= P(A) * P(B) \n",
    "both_agree = A*B\n",
    "both_agree\n",
    "\n",
    "\"\"\"ii) they contradict each other while giving a witness in the court\"\"\"\n",
    "#the probability that either \"A\" tells the truth and \"B\" lies or \"A\" lies and \"B\" tells the truth\n",
    "# P(A and B contradict) = 1 - P(A and B agree)\n",
    "both_contradict=1-both_agree\n",
    "both_contradict"
   ]
  },
  {
   "cell_type": "markdown",
   "metadata": {
    "id": "F2jUFfZRE2wd"
   },
   "source": [
    "<table align=\"left\">\n",
    "    <tr>\n",
    "        <td width=\"6%\">\n",
    "            <img src=\"question_icon.png\">\n",
    "        </td>\n",
    "        <td>\n",
    "            <div align=\"left\", style=\"font-size:120%\">\n",
    "                <font color=\"#21618C\">\n",
    "                    <b>13.A city affected by 3 cyclones in a year on an average. Find the probability if the same city will getting affected by exactly 2 cyclones in the upcoming year </b>\n",
    "                </font>\n",
    "            </div>\n",
    "        </td>\n",
    "    </tr>\n",
    "</table>"
   ]
  },
  {
   "cell_type": "code",
   "execution_count": null,
   "metadata": {},
   "outputs": [],
   "source": [
    "This scenario can be modeled using the Poisson distribution. \n",
    "In this case, the average rate of cyclones (λ) is 3 per year, and we want to find the probability of exactly 2 cyclones (k = 2)\n",
    "in the upcoming year.\n",
    "\n",
    "We can use the Poisson probability formula:\n",
    "\n",
    "Probability(X = k) = (e^(-λ) * λ^k) / k!\n",
    "\n",
    "where λ is the average rate (3 in this case) and k is the desired number of events (2).\n",
    "\n",
    "# python snippet\n",
    "from scipy import stats\n",
    "lamda=3\n",
    "x=2\n",
    "stats.poisson.pmf(x,lamda)"
   ]
  },
  {
   "cell_type": "markdown",
   "metadata": {
    "id": "G3x8YigYFAyp"
   },
   "source": [
    "# 14.If an athlete attended 6 olympics in his lifetime. Find the probability if he exactly have 2 wins "
   ]
  },
  {
   "cell_type": "markdown",
   "metadata": {},
   "source": [
    "We can use the binomial probability formula. The formula is:\n",
    "\n",
    "Probability(X = k) = (n choose k) * p^k * (1-p)^(n-k)\n",
    "\n",
    "In this case:\n",
    "\n",
    "- n is the number of trials (the 6 Olympics).\n",
    "- k is the number of successes (2 wins).\n",
    "- p is the probability of winning in one event.\n",
    "\n",
    "Let's calculate the probability:\n",
    "\n",
    "Assuming that the athlete has a constant probability of winning in each Olympic event (let's say p)\n",
    "and that the events are independent, we can calculate the probability as follows:\n",
    "\n",
    "- n = 6 (6 Olympics)\n",
    "- k = 2 (2 wins)\n",
    "\n",
    "Now, we need to provide the value of p, the probability of winning in one event. If we have this probability, \n",
    "we can plug it into the formula to calculate the probability of exactly 2 wins. \n",
    "For example, if the probability of winning an Olympic event is 0.2 (20%), we can calculate:\n",
    "\n",
    "Probability(X = 2) = (6 choose 2) * (0.2^2) * (0.8^4)\n",
    "\n",
    "# python snippet\n",
    "n=6\n",
    "k=2\n",
    "p=1/6 \n",
    "stats.binom.pmf(k,n,p)"
   ]
  }
 ],
 "metadata": {
  "colab": {
   "provenance": []
  },
  "kernelspec": {
   "display_name": "Python 3 (ipykernel)",
   "language": "python",
   "name": "python3"
  },
  "language_info": {
   "codemirror_mode": {
    "name": "ipython",
    "version": 3
   },
   "file_extension": ".py",
   "mimetype": "text/x-python",
   "name": "python",
   "nbconvert_exporter": "python",
   "pygments_lexer": "ipython3",
   "version": "3.11.3"
  }
 },
 "nbformat": 4,
 "nbformat_minor": 1
}
