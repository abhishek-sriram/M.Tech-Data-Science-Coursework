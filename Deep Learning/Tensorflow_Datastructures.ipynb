{
 "cells": [
  {
   "cell_type": "code",
   "execution_count": null,
   "metadata": {
    "id": "eNFMBeG1_TCW"
   },
   "outputs": [],
   "source": [
    "# Instructor Notebook: TensorFlow Basics and Data Structures\n",
    "\n",
    "# Install TensorFlow\n",
    "# !pip install tensorflow\n",
    "\n",
    "import tensorflow as tf\n",
    "import numpy as np\n",
    "\n",
    "\n",
    "\n",
    "\n",
    "\n"
   ]
  },
  {
   "cell_type": "markdown",
   "metadata": {
    "id": "9QvicM9ZABPt"
   },
   "source": []
  },
  {
   "cell_type": "markdown",
   "metadata": {
    "id": "bBmfzqez_3ub"
   },
   "source": [
    "## **Tensors**\n",
    "\n",
    "**Definition:** Tensor the primary data structure in TensorFlow. A tensor is a generalization of vectors and matrices to potentially higher dimensions.\n",
    "\n",
    "### **Types of Tensors:**\n",
    "\n",
    "  \n",
    "\n",
    "*  **Rank-0 Tensor (Scalar)**: A single number, e.g., 4.\n",
    "*  **Rank-1 Tensor (Vector)**: A 1-D array of numbers, e.g., [1, 2, 3]\n",
    "\n",
    "*  **Rank-2 Tensor (Matrix)**: A 2-D array of numbers, e.g., [[1, 2], [3, 4]].\n",
    "\n",
    "* **Higher-Rank Tensors:** Tensors with more dimensions, e.g., a 3-D tensor representing a batch of images."
   ]
  },
  {
   "cell_type": "markdown",
   "metadata": {
    "id": "IwoqZzlfB4Io"
   },
   "source": [
    "# Variables\n",
    "\n",
    "Variables are special types of tensors used to store model parameters. They can be modified by the operations in the graph.\n",
    "\n",
    "Usage: tf.Variable(initial_value)"
   ]
  },
  {
   "cell_type": "markdown",
   "metadata": {
    "id": "pbCOd73gDfiT"
   },
   "source": [
    "# Constants\n",
    "\n",
    "Definition: Tensors with a fixed value. Unlike variables, they cannot be modified.\n",
    "\n",
    "Usage: tf.constant(value)"
   ]
  },
  {
   "cell_type": "markdown",
   "metadata": {
    "id": "-m1e-rAqDk7P"
   },
   "source": [
    "# Sparse Tensors\n",
    "Definition: Efficient representation of tensors with a large proportion of zero values.\n",
    "\n",
    "Usage: tf.sparse.SparseTensor(indices, values, dense_shape)"
   ]
  },
  {
   "cell_type": "markdown",
   "metadata": {
    "id": "adQOpgQGHVZx"
   },
   "source": [
    "# Datasets\n",
    "\n",
    "Definition: A powerful abstraction for handling input data. It provides an easy and efficient way to load and preprocess data.\n",
    "\n",
    "Usage: tf.data.Dataset\n",
    "\n",
    "### Common Methods:\n",
    "\n",
    "tf.data.Dataset.from_tensor_slices(tensors)\n",
    "\n",
    "dataset.map(function)\n",
    "\n",
    "dataset.batch(batch_size)\n",
    "\n",
    "dataset.shuffle(buffer_size)"
   ]
  },
  {
   "cell_type": "markdown",
   "metadata": {
    "id": "L0JQ0xzcC86_"
   },
   "source": []
  },
  {
   "cell_type": "code",
   "execution_count": null,
   "metadata": {
    "id": "bU1YJAVUC8do"
   },
   "outputs": [],
   "source": []
  },
  {
   "cell_type": "code",
   "execution_count": null,
   "metadata": {
    "id": "i0J0WKdP_k0w"
   },
   "outputs": [],
   "source": [
    "\n",
    "# Section 1: Tensors\n",
    "\n",
    "\n",
    "# Creating different ranks of tensors\n",
    "scalar = tf.constant(42)\n",
    "vector = tf.constant([1, 2, 3])\n",
    "matrix = tf.constant([[1, 2], [3, 4]])\n",
    "tensor_3d = tf.constant([[[1, 2], [3, 4]], [[5, 6], [7, 8]]])\n"
   ]
  },
  {
   "cell_type": "code",
   "execution_count": null,
   "metadata": {
    "colab": {
     "base_uri": "https://localhost:8080/"
    },
    "id": "saxuPxtl_d1G",
    "outputId": "ece9aa41-96aa-47c2-e64a-9062d12e1237"
   },
   "outputs": [
    {
     "name": "stdout",
     "output_type": "stream",
     "text": [
      "Vector (Rank-1): tf.Tensor([1 2 3], shape=(3,), dtype=int32)\n"
     ]
    }
   ],
   "source": [
    "# print(\"Scalar (Rank-0):\", scalar)\n",
    "print(\"Vector (Rank-1):\", vector)\n",
    "# print(\"Matrix (Rank-2):\\n\", matrix)\n",
    "# print(\"3D Tensor (Rank-3):\\n\", tensor_3d)\n",
    "# print(\"\\n\")"
   ]
  },
  {
   "cell_type": "code",
   "execution_count": null,
   "metadata": {
    "colab": {
     "base_uri": "https://localhost:8080/"
    },
    "id": "O9ie5qAvIZS_",
    "outputId": "e1d262f8-553b-4957-85d9-88716f78c839"
   },
   "outputs": [
    {
     "name": "stdout",
     "output_type": "stream",
     "text": [
      "Variable: <tf.Variable 'Variable:0' shape=(3,) dtype=int32, numpy=array([1, 2, 3], dtype=int32)>\n",
      "\n",
      "\n",
      "Modified Variable: <tf.Variable 'Variable:0' shape=(3,) dtype=int32, numpy=array([4, 5, 6], dtype=int32)>\n",
      "\n",
      "\n",
      "Variable after assign_add: <tf.Variable 'Variable:0' shape=(3,) dtype=int32, numpy=array([5, 6, 7], dtype=int32)>\n",
      "\n",
      "\n"
     ]
    }
   ],
   "source": [
    "# Section 2: Variables\n",
    "\n",
    "# Creating variables\n",
    "var = tf.Variable([1, 2, 3])\n",
    "print(\"Variable:\", var)\n",
    "print(\"\\n\")\n",
    "\n",
    "# Modifying variables\n",
    "var.assign([4, 5, 6])\n",
    "print(\"Modified Variable:\", var)\n",
    "print(\"\\n\")\n",
    "\n",
    "var.assign_add([1, 1, 1])\n",
    "print(\"Variable after assign_add:\", var)\n",
    "print(\"\\n\")"
   ]
  },
  {
   "cell_type": "code",
   "execution_count": null,
   "metadata": {
    "colab": {
     "base_uri": "https://localhost:8080/"
    },
    "id": "5XsEj-fM_f-7",
    "outputId": "f4fb9bb5-e1bc-4ce8-9b24-b189f579e892"
   },
   "outputs": [
    {
     "name": "stdout",
     "output_type": "stream",
     "text": [
      "Constant: tf.Tensor([1 2 3], shape=(3,), dtype=int32)\n",
      "\n",
      "\n"
     ]
    }
   ],
   "source": [
    "\n",
    "# Section 3: Constants\n",
    "\n",
    "# Creating constants\n",
    "const = tf.constant([1, 2, 3])\n",
    "print(\"Constant:\", const)\n",
    "print(\"\\n\")"
   ]
  },
  {
   "cell_type": "markdown",
   "metadata": {
    "id": "xm0KmnxlCk20"
   },
   "source": []
  },
  {
   "cell_type": "code",
   "execution_count": null,
   "metadata": {
    "colab": {
     "base_uri": "https://localhost:8080/"
    },
    "id": "fOFzNiDs_hzM",
    "outputId": "f5a67cb3-29ec-42dc-f163-7b40b6e657cd"
   },
   "outputs": [
    {
     "name": "stdout",
     "output_type": "stream",
     "text": [
      "Sparse Tensor:\n",
      " SparseTensor(indices=tf.Tensor(\n",
      "[[0 0]\n",
      " [1 2]], shape=(2, 2), dtype=int64), values=tf.Tensor([1 2], shape=(2,), dtype=int32), dense_shape=tf.Tensor([3 4], shape=(2,), dtype=int64))\n",
      "Dense Tensor:\n",
      " tf.Tensor(\n",
      "[[1 0 0 0]\n",
      " [0 0 2 0]\n",
      " [0 0 0 0]], shape=(3, 4), dtype=int32)\n",
      "\n",
      "\n"
     ]
    }
   ],
   "source": [
    "\n",
    "# Section 4: Sparse Tensors\n",
    "\n",
    "# Creating sparse tensors\n",
    "sparse_tensor = tf.sparse.SparseTensor(indices=[[0, 0], [1, 2]], values=[1, 2], dense_shape=[3, 4])\n",
    "print(\"Sparse Tensor:\\n\", sparse_tensor)\n",
    "\n",
    "# Converting sparse tensor to dense\n",
    "dense_tensor = tf.sparse.to_dense(sparse_tensor)\n",
    "print(\"Dense Tensor:\\n\", dense_tensor)\n",
    "print(\"\\n\")"
   ]
  },
  {
   "cell_type": "code",
   "execution_count": null,
   "metadata": {
    "colab": {
     "base_uri": "https://localhost:8080/"
    },
    "id": "kZA80xMPI38L",
    "outputId": "9d2d6213-3041-4f57-a6fb-7910f802c495"
   },
   "outputs": [
    {
     "name": "stdout",
     "output_type": "stream",
     "text": [
      "Transformed Dataset:\n",
      "[6 8]\n",
      "[2 4]\n",
      "[10]\n",
      "\n",
      "\n"
     ]
    }
   ],
   "source": [
    "# Section 5: Datasets\n",
    "\n",
    "\n",
    "# Creating a dataset from tensor slices\n",
    "dataset = tf.data.Dataset.from_tensor_slices([1, 2, 3, 4, 5])\n",
    "# print(\"Dataset:\", dataset)\n",
    "\n",
    "# Applying transformations\n",
    "dataset = dataset.map(lambda x: x * 2)\n",
    "dataset = dataset.batch(2)\n",
    "dataset = dataset.shuffle(buffer_size=3)\n",
    "\n",
    "print(\"Transformed Dataset:\")\n",
    "for batch in dataset:\n",
    "    print(batch.numpy())\n",
    "print(\"\\n\")\n"
   ]
  },
  {
   "cell_type": "code",
   "execution_count": null,
   "metadata": {
    "colab": {
     "base_uri": "https://localhost:8080/"
    },
    "id": "lE_6AF4vJE4C",
    "outputId": "bca97c88-c815-4772-bd2a-8f296a2405c8"
   },
   "outputs": [
    {
     "name": "stdout",
     "output_type": "stream",
     "text": [
      "Rank-1 Tensor (Vector): tf.Tensor([10 20 30], shape=(3,), dtype=int32)\n",
      "Rank-2 Tensor (Matrix):\n",
      " tf.Tensor(\n",
      "[[1 2]\n",
      " [3 4]], shape=(2, 2), dtype=int32)\n"
     ]
    }
   ],
   "source": [
    "# Section 6: Example Code for Students\n",
    "\n",
    "\n",
    "# Task: Creating and Printing Tensors\n",
    "rank1_tensor = tf.constant([10, 20, 30])\n",
    "rank2_tensor = tf.constant([[1, 2], [3, 4]])\n",
    "\n",
    "print(\"Rank-1 Tensor (Vector):\", rank1_tensor)\n",
    "print(\"Rank-2 Tensor (Matrix):\\n\", rank2_tensor)\n"
   ]
  },
  {
   "cell_type": "code",
   "execution_count": null,
   "metadata": {
    "colab": {
     "base_uri": "https://localhost:8080/"
    },
    "id": "45LvrfYXJSYs",
    "outputId": "24d12630-7bf2-4834-e08f-fb9552e97fb2"
   },
   "outputs": [
    {
     "name": "stdout",
     "output_type": "stream",
     "text": [
      "Tensor Addition: tf.Tensor([11 22 33], shape=(3,), dtype=int32)\n",
      "Tensor Multiplication:\n",
      " tf.Tensor(\n",
      "[[2 4]\n",
      " [6 8]], shape=(2, 2), dtype=int32)\n"
     ]
    }
   ],
   "source": [
    "\n",
    "# Task: Performing Tensor Operations\n",
    "tensor_addition = tf.add(rank1_tensor, [1, 2, 3])\n",
    "tensor_multiplication = tf.multiply(rank2_tensor, 2)\n",
    "\n",
    "print(\"Tensor Addition:\", tensor_addition)\n",
    "print(\"Tensor Multiplication:\\n\", tensor_multiplication)"
   ]
  },
  {
   "cell_type": "code",
   "execution_count": null,
   "metadata": {
    "colab": {
     "base_uri": "https://localhost:8080/"
    },
    "id": "0YfkBfR7JUyc",
    "outputId": "cda27806-1e8c-48be-d2c9-54e3cfbe58d3"
   },
   "outputs": [
    {
     "name": "stdout",
     "output_type": "stream",
     "text": [
      "Modified Variable Tensor: <tf.Variable 'Variable:0' shape=(3,) dtype=int32, numpy=array([ 6, 11, 16], dtype=int32)>\n"
     ]
    }
   ],
   "source": [
    "# Task: Creating and Modifying Variables\n",
    "variable_tensor = tf.Variable([5, 10, 15])\n",
    "variable_tensor.assign_add([1, 1, 1])\n",
    "\n",
    "print(\"Modified Variable Tensor:\", variable_tensor)"
   ]
  },
  {
   "cell_type": "code",
   "execution_count": null,
   "metadata": {
    "colab": {
     "base_uri": "https://localhost:8080/"
    },
    "id": "5zOMCS7FJWVP",
    "outputId": "d66032df-2b95-4a3c-9533-e855311c57f5"
   },
   "outputs": [
    {
     "name": "stdout",
     "output_type": "stream",
     "text": [
      "Iterating through the sample dataset:\n",
      "[35 45]\n",
      "[ 5 15 25]\n"
     ]
    }
   ],
   "source": [
    "# Task: Working with Datasets\n",
    "sample_dataset = tf.data.Dataset.from_tensor_slices([10, 20, 30, 40, 50])\n",
    "sample_dataset = sample_dataset.map(lambda x: x - 5)\n",
    "sample_dataset = sample_dataset.batch(3)\n",
    "sample_dataset = sample_dataset.shuffle(buffer_size=2)\n",
    "\n",
    "print(\"Iterating through the sample dataset:\")\n",
    "for batch in sample_dataset:\n",
    "    print(batch.numpy())"
   ]
  },
  {
   "cell_type": "code",
   "execution_count": null,
   "metadata": {
    "id": "8IJ_aWIVJZDu"
   },
   "outputs": [],
   "source": []
  }
 ],
 "metadata": {
  "colab": {
   "provenance": []
  },
  "kernelspec": {
   "display_name": "Python 3 (ipykernel)",
   "language": "python",
   "name": "python3"
  },
  "language_info": {
   "codemirror_mode": {
    "name": "ipython",
    "version": 3
   },
   "file_extension": ".py",
   "mimetype": "text/x-python",
   "name": "python",
   "nbconvert_exporter": "python",
   "pygments_lexer": "ipython3",
   "version": "3.11.7"
  }
 },
 "nbformat": 4,
 "nbformat_minor": 4
}
