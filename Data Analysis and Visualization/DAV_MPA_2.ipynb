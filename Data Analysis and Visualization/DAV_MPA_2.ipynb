{
 "cells": [
  {
   "cell_type": "markdown",
   "id": "6kdM0sRMPG-8",
   "metadata": {
    "id": "6kdM0sRMPG-8"
   },
   "source": [
    "**Define the necessary libraries**"
   ]
  },
  {
   "cell_type": "code",
   "execution_count": 44,
   "id": "ul_frjkCPS4O",
   "metadata": {
    "id": "ul_frjkCPS4O"
   },
   "outputs": [],
   "source": [
    "import pandas as pd\n",
    "import numpy as np\n",
    "import matplotlib.pyplot as plt\n",
    "import seaborn as sns\n",
    "import random\n",
    "\n",
    "from sklearn.preprocessing import OrdinalEncoder, MinMaxScaler, RobustScaler, StandardScaler, MaxAbsScaler, Normalizer\n",
    "from sklearn.model_selection import train_test_split\n",
    "from sklearn.linear_model import LinearRegression\n",
    "from sklearn.metrics import mean_squared_error"
   ]
  },
  {
   "cell_type": "markdown",
   "id": "1J_9Dqc4PdRT",
   "metadata": {
    "id": "1J_9Dqc4PdRT"
   },
   "source": [
    "**Load the dataset into the dataframe**"
   ]
  },
  {
   "cell_type": "code",
   "execution_count": 43,
   "id": "Ac90Gl5IPhP_",
   "metadata": {
    "id": "Ac90Gl5IPhP_"
   },
   "outputs": [
    {
     "data": {
      "text/html": [
       "<div>\n",
       "<style scoped>\n",
       "    .dataframe tbody tr th:only-of-type {\n",
       "        vertical-align: middle;\n",
       "    }\n",
       "\n",
       "    .dataframe tbody tr th {\n",
       "        vertical-align: top;\n",
       "    }\n",
       "\n",
       "    .dataframe thead th {\n",
       "        text-align: right;\n",
       "    }\n",
       "</style>\n",
       "<table border=\"1\" class=\"dataframe\">\n",
       "  <thead>\n",
       "    <tr style=\"text-align: right;\">\n",
       "      <th></th>\n",
       "      <th>Item_Identifier</th>\n",
       "      <th>Item_Weight</th>\n",
       "      <th>Item_Fat_Content</th>\n",
       "      <th>Item_Visibility</th>\n",
       "      <th>Item_Type</th>\n",
       "      <th>Item_MRP</th>\n",
       "      <th>Outlet_Identifier</th>\n",
       "      <th>Outlet_Establishment_Year</th>\n",
       "      <th>Outlet_Size</th>\n",
       "      <th>Outlet_Location_Type</th>\n",
       "      <th>Outlet_Type</th>\n",
       "      <th>Item_Outlet_Sales</th>\n",
       "    </tr>\n",
       "  </thead>\n",
       "  <tbody>\n",
       "    <tr>\n",
       "      <th>0</th>\n",
       "      <td>FDA15</td>\n",
       "      <td>9.30</td>\n",
       "      <td>Low Fat</td>\n",
       "      <td>0.016047</td>\n",
       "      <td>Dairy</td>\n",
       "      <td>249.8092</td>\n",
       "      <td>OUT049</td>\n",
       "      <td>1999</td>\n",
       "      <td>Medium</td>\n",
       "      <td>Tier 1</td>\n",
       "      <td>Supermarket Type1</td>\n",
       "      <td>3735.1380</td>\n",
       "    </tr>\n",
       "    <tr>\n",
       "      <th>1</th>\n",
       "      <td>DRC01</td>\n",
       "      <td>5.92</td>\n",
       "      <td>Regular</td>\n",
       "      <td>0.019278</td>\n",
       "      <td>Soft Drinks</td>\n",
       "      <td>48.2692</td>\n",
       "      <td>OUT018</td>\n",
       "      <td>2009</td>\n",
       "      <td>Medium</td>\n",
       "      <td>Tier 3</td>\n",
       "      <td>Supermarket Type2</td>\n",
       "      <td>443.4228</td>\n",
       "    </tr>\n",
       "    <tr>\n",
       "      <th>2</th>\n",
       "      <td>FDN15</td>\n",
       "      <td>17.50</td>\n",
       "      <td>Low Fat</td>\n",
       "      <td>0.016760</td>\n",
       "      <td>Meat</td>\n",
       "      <td>141.6180</td>\n",
       "      <td>OUT049</td>\n",
       "      <td>1999</td>\n",
       "      <td>Medium</td>\n",
       "      <td>Tier 1</td>\n",
       "      <td>Supermarket Type1</td>\n",
       "      <td>2097.2700</td>\n",
       "    </tr>\n",
       "    <tr>\n",
       "      <th>3</th>\n",
       "      <td>FDX07</td>\n",
       "      <td>19.20</td>\n",
       "      <td>Regular</td>\n",
       "      <td>0.000000</td>\n",
       "      <td>Fruits and Vegetables</td>\n",
       "      <td>182.0950</td>\n",
       "      <td>OUT010</td>\n",
       "      <td>1998</td>\n",
       "      <td>NaN</td>\n",
       "      <td>Tier 3</td>\n",
       "      <td>Grocery Store</td>\n",
       "      <td>732.3800</td>\n",
       "    </tr>\n",
       "    <tr>\n",
       "      <th>4</th>\n",
       "      <td>NCD19</td>\n",
       "      <td>8.93</td>\n",
       "      <td>Low Fat</td>\n",
       "      <td>0.000000</td>\n",
       "      <td>Household</td>\n",
       "      <td>53.8614</td>\n",
       "      <td>OUT013</td>\n",
       "      <td>1987</td>\n",
       "      <td>High</td>\n",
       "      <td>Tier 3</td>\n",
       "      <td>Supermarket Type1</td>\n",
       "      <td>994.7052</td>\n",
       "    </tr>\n",
       "  </tbody>\n",
       "</table>\n",
       "</div>"
      ],
      "text/plain": [
       "  Item_Identifier  Item_Weight Item_Fat_Content  Item_Visibility  \\\n",
       "0           FDA15         9.30          Low Fat         0.016047   \n",
       "1           DRC01         5.92          Regular         0.019278   \n",
       "2           FDN15        17.50          Low Fat         0.016760   \n",
       "3           FDX07        19.20          Regular         0.000000   \n",
       "4           NCD19         8.93          Low Fat         0.000000   \n",
       "\n",
       "               Item_Type  Item_MRP Outlet_Identifier  \\\n",
       "0                  Dairy  249.8092            OUT049   \n",
       "1            Soft Drinks   48.2692            OUT018   \n",
       "2                   Meat  141.6180            OUT049   \n",
       "3  Fruits and Vegetables  182.0950            OUT010   \n",
       "4              Household   53.8614            OUT013   \n",
       "\n",
       "   Outlet_Establishment_Year Outlet_Size Outlet_Location_Type  \\\n",
       "0                       1999      Medium               Tier 1   \n",
       "1                       2009      Medium               Tier 3   \n",
       "2                       1999      Medium               Tier 1   \n",
       "3                       1998         NaN               Tier 3   \n",
       "4                       1987        High               Tier 3   \n",
       "\n",
       "         Outlet_Type  Item_Outlet_Sales  \n",
       "0  Supermarket Type1          3735.1380  \n",
       "1  Supermarket Type2           443.4228  \n",
       "2  Supermarket Type1          2097.2700  \n",
       "3      Grocery Store           732.3800  \n",
       "4  Supermarket Type1           994.7052  "
      ]
     },
     "execution_count": 43,
     "metadata": {},
     "output_type": "execute_result"
    }
   ],
   "source": [
    "df=pd.read_csv(\"BigmartSales.csv\")\n",
    "df.head()"
   ]
  },
  {
   "cell_type": "markdown",
   "id": "tcL8ERkxP0Fn",
   "metadata": {
    "id": "tcL8ERkxP0Fn"
   },
   "source": [
    "**Drop the \"Item_Identifier\" and \"Outlet_Identifier\" columns**"
   ]
  },
  {
   "cell_type": "code",
   "execution_count": 45,
   "id": "4ad74f64",
   "metadata": {
    "id": "4ad74f64"
   },
   "outputs": [
    {
     "name": "stdout",
     "output_type": "stream",
     "text": [
      "<class 'pandas.core.frame.DataFrame'>\n",
      "RangeIndex: 8523 entries, 0 to 8522\n",
      "Data columns (total 10 columns):\n",
      " #   Column                     Non-Null Count  Dtype  \n",
      "---  ------                     --------------  -----  \n",
      " 0   Item_Weight                7060 non-null   float64\n",
      " 1   Item_Fat_Content           8523 non-null   object \n",
      " 2   Item_Visibility            8523 non-null   float64\n",
      " 3   Item_Type                  8523 non-null   object \n",
      " 4   Item_MRP                   8523 non-null   float64\n",
      " 5   Outlet_Establishment_Year  8523 non-null   int64  \n",
      " 6   Outlet_Size                6113 non-null   object \n",
      " 7   Outlet_Location_Type       8523 non-null   object \n",
      " 8   Outlet_Type                8523 non-null   object \n",
      " 9   Item_Outlet_Sales          8523 non-null   float64\n",
      "dtypes: float64(4), int64(1), object(5)\n",
      "memory usage: 666.0+ KB\n"
     ]
    }
   ],
   "source": [
    "dropcl=[\"Item_Identifier\", \"Outlet_Identifier\"]\n",
    "df = df.drop(columns=dropcl)\n",
    "df.info()"
   ]
  },
  {
   "cell_type": "markdown",
   "id": "CssoGZYwP9EA",
   "metadata": {
    "id": "CssoGZYwP9EA"
   },
   "source": [
    "**Extract the target labels**"
   ]
  },
  {
   "cell_type": "code",
   "execution_count": 46,
   "id": "3a8c1447",
   "metadata": {
    "id": "3a8c1447"
   },
   "outputs": [
    {
     "data": {
      "text/plain": [
       "Index(['Item_Weight', 'Item_Fat_Content', 'Item_Visibility', 'Item_Type',\n",
       "       'Item_MRP', 'Outlet_Establishment_Year', 'Outlet_Size',\n",
       "       'Outlet_Location_Type', 'Outlet_Type', 'Item_Outlet_Sales'],\n",
       "      dtype='object')"
      ]
     },
     "execution_count": 46,
     "metadata": {},
     "output_type": "execute_result"
    }
   ],
   "source": [
    "df.columns"
   ]
  },
  {
   "cell_type": "markdown",
   "id": "J-NIsSLIQEJg",
   "metadata": {
    "id": "J-NIsSLIQEJg"
   },
   "source": [
    "**Replace the field \"Item_Fat_Content\" with numerical value**"
   ]
  },
  {
   "cell_type": "code",
   "execution_count": 49,
   "id": "2357e3d1",
   "metadata": {
    "id": "2357e3d1",
    "outputId": "08546d8f-4d30-4fd7-aa4c-13dcb4211179"
   },
   "outputs": [],
   "source": [
    "df['Item_Fat_Content']=df['Item_Fat_Content'].replace({'Low Fat':'0','Regular':'1'})"
   ]
  },
  {
   "cell_type": "code",
   "execution_count": 50,
   "id": "d80053ef",
   "metadata": {},
   "outputs": [
    {
     "data": {
      "text/html": [
       "<div>\n",
       "<style scoped>\n",
       "    .dataframe tbody tr th:only-of-type {\n",
       "        vertical-align: middle;\n",
       "    }\n",
       "\n",
       "    .dataframe tbody tr th {\n",
       "        vertical-align: top;\n",
       "    }\n",
       "\n",
       "    .dataframe thead th {\n",
       "        text-align: right;\n",
       "    }\n",
       "</style>\n",
       "<table border=\"1\" class=\"dataframe\">\n",
       "  <thead>\n",
       "    <tr style=\"text-align: right;\">\n",
       "      <th></th>\n",
       "      <th>Item_Weight</th>\n",
       "      <th>Item_Fat_Content</th>\n",
       "      <th>Item_Visibility</th>\n",
       "      <th>Item_Type</th>\n",
       "      <th>Item_MRP</th>\n",
       "      <th>Outlet_Establishment_Year</th>\n",
       "      <th>Outlet_Size</th>\n",
       "      <th>Outlet_Location_Type</th>\n",
       "      <th>Outlet_Type</th>\n",
       "      <th>Item_Outlet_Sales</th>\n",
       "    </tr>\n",
       "  </thead>\n",
       "  <tbody>\n",
       "    <tr>\n",
       "      <th>0</th>\n",
       "      <td>9.30</td>\n",
       "      <td>0</td>\n",
       "      <td>0.016047</td>\n",
       "      <td>Dairy</td>\n",
       "      <td>249.8092</td>\n",
       "      <td>1999</td>\n",
       "      <td>Medium</td>\n",
       "      <td>Tier 1</td>\n",
       "      <td>Supermarket Type1</td>\n",
       "      <td>3735.1380</td>\n",
       "    </tr>\n",
       "    <tr>\n",
       "      <th>1</th>\n",
       "      <td>5.92</td>\n",
       "      <td>1</td>\n",
       "      <td>0.019278</td>\n",
       "      <td>Soft Drinks</td>\n",
       "      <td>48.2692</td>\n",
       "      <td>2009</td>\n",
       "      <td>Medium</td>\n",
       "      <td>Tier 3</td>\n",
       "      <td>Supermarket Type2</td>\n",
       "      <td>443.4228</td>\n",
       "    </tr>\n",
       "    <tr>\n",
       "      <th>2</th>\n",
       "      <td>17.50</td>\n",
       "      <td>0</td>\n",
       "      <td>0.016760</td>\n",
       "      <td>Meat</td>\n",
       "      <td>141.6180</td>\n",
       "      <td>1999</td>\n",
       "      <td>Medium</td>\n",
       "      <td>Tier 1</td>\n",
       "      <td>Supermarket Type1</td>\n",
       "      <td>2097.2700</td>\n",
       "    </tr>\n",
       "    <tr>\n",
       "      <th>3</th>\n",
       "      <td>19.20</td>\n",
       "      <td>1</td>\n",
       "      <td>0.000000</td>\n",
       "      <td>Fruits and Vegetables</td>\n",
       "      <td>182.0950</td>\n",
       "      <td>1998</td>\n",
       "      <td>NaN</td>\n",
       "      <td>Tier 3</td>\n",
       "      <td>Grocery Store</td>\n",
       "      <td>732.3800</td>\n",
       "    </tr>\n",
       "    <tr>\n",
       "      <th>4</th>\n",
       "      <td>8.93</td>\n",
       "      <td>0</td>\n",
       "      <td>0.000000</td>\n",
       "      <td>Household</td>\n",
       "      <td>53.8614</td>\n",
       "      <td>1987</td>\n",
       "      <td>High</td>\n",
       "      <td>Tier 3</td>\n",
       "      <td>Supermarket Type1</td>\n",
       "      <td>994.7052</td>\n",
       "    </tr>\n",
       "  </tbody>\n",
       "</table>\n",
       "</div>"
      ],
      "text/plain": [
       "   Item_Weight Item_Fat_Content  Item_Visibility              Item_Type  \\\n",
       "0         9.30                0         0.016047                  Dairy   \n",
       "1         5.92                1         0.019278            Soft Drinks   \n",
       "2        17.50                0         0.016760                   Meat   \n",
       "3        19.20                1         0.000000  Fruits and Vegetables   \n",
       "4         8.93                0         0.000000              Household   \n",
       "\n",
       "   Item_MRP  Outlet_Establishment_Year Outlet_Size Outlet_Location_Type  \\\n",
       "0  249.8092                       1999      Medium               Tier 1   \n",
       "1   48.2692                       2009      Medium               Tier 3   \n",
       "2  141.6180                       1999      Medium               Tier 1   \n",
       "3  182.0950                       1998         NaN               Tier 3   \n",
       "4   53.8614                       1987        High               Tier 3   \n",
       "\n",
       "         Outlet_Type  Item_Outlet_Sales  \n",
       "0  Supermarket Type1          3735.1380  \n",
       "1  Supermarket Type2           443.4228  \n",
       "2  Supermarket Type1          2097.2700  \n",
       "3      Grocery Store           732.3800  \n",
       "4  Supermarket Type1           994.7052  "
      ]
     },
     "execution_count": 50,
     "metadata": {},
     "output_type": "execute_result"
    }
   ],
   "source": [
    "df.head()"
   ]
  },
  {
   "cell_type": "markdown",
   "id": "cyIKY0cAQOZK",
   "metadata": {
    "id": "cyIKY0cAQOZK"
   },
   "source": [
    "**Perform ordinal encoding of the \"Item_Type\", \"Outlet_Type\", \"Outlet_Location_Type\" and \"Outlet_Size\" field**"
   ]
  },
  {
   "cell_type": "code",
   "execution_count": 55,
   "id": "8d30601c",
   "metadata": {},
   "outputs": [
    {
     "name": "stdout",
     "output_type": "stream",
     "text": [
      "   Item_Weight Item_Fat_Content  Item_Visibility  Item_Type  Item_MRP  \\\n",
      "0         9.30                0         0.016047        4.0  249.8092   \n",
      "1         5.92                1         0.019278       14.0   48.2692   \n",
      "2        17.50                0         0.016760       10.0  141.6180   \n",
      "3        19.20                1         0.000000        6.0  182.0950   \n",
      "4         8.93                0         0.000000        9.0   53.8614   \n",
      "\n",
      "   Outlet_Establishment_Year  Outlet_Size  Outlet_Location_Type  Outlet_Type  \\\n",
      "0                       1999          1.0                   0.0          1.0   \n",
      "1                       2009          1.0                   2.0          2.0   \n",
      "2                       1999          1.0                   0.0          1.0   \n",
      "3                       1998          1.0                   2.0          0.0   \n",
      "4                       1987          0.0                   2.0          1.0   \n",
      "\n",
      "   Item_Outlet_Sales  \n",
      "0          3735.1380  \n",
      "1           443.4228  \n",
      "2          2097.2700  \n",
      "3           732.3800  \n",
      "4           994.7052  \n"
     ]
    }
   ],
   "source": [
    "# List of columns to be encoded\n",
    "columns_to_encode = [\"Item_Type\", \"Outlet_Type\", \"Outlet_Location_Type\", \"Outlet_Size\"]\n",
    "\n",
    "# Initialize OrdinalEncoder\n",
    "encoder = OrdinalEncoder()\n",
    "\n",
    "# Fit and transform the selected columns\n",
    "df[columns_to_encode] = encoder.fit_transform(df[columns_to_encode])\n",
    "\n",
    "# Display the updated DataFrame\n",
    "print(df.head())"
   ]
  },
  {
   "cell_type": "code",
   "execution_count": null,
   "id": "78e26568",
   "metadata": {},
   "outputs": [],
   "source": []
  },
  {
   "cell_type": "code",
   "execution_count": null,
   "id": "2cde0462",
   "metadata": {},
   "outputs": [],
   "source": []
  },
  {
   "cell_type": "markdown",
   "id": "x-B8rw1fRjHJ",
   "metadata": {
    "id": "x-B8rw1fRjHJ"
   },
   "source": [
    "**Imputation of \"Outlet_Size\" field with mode value**"
   ]
  },
  {
   "cell_type": "code",
   "execution_count": 52,
   "id": "p9xo7tSTVwsx",
   "metadata": {
    "id": "p9xo7tSTVwsx"
   },
   "outputs": [
    {
     "data": {
      "text/html": [
       "<div>\n",
       "<style scoped>\n",
       "    .dataframe tbody tr th:only-of-type {\n",
       "        vertical-align: middle;\n",
       "    }\n",
       "\n",
       "    .dataframe tbody tr th {\n",
       "        vertical-align: top;\n",
       "    }\n",
       "\n",
       "    .dataframe thead th {\n",
       "        text-align: right;\n",
       "    }\n",
       "</style>\n",
       "<table border=\"1\" class=\"dataframe\">\n",
       "  <thead>\n",
       "    <tr style=\"text-align: right;\">\n",
       "      <th></th>\n",
       "      <th>Item_Weight</th>\n",
       "      <th>Item_Fat_Content</th>\n",
       "      <th>Item_Visibility</th>\n",
       "      <th>Item_Type</th>\n",
       "      <th>Item_MRP</th>\n",
       "      <th>Outlet_Establishment_Year</th>\n",
       "      <th>Outlet_Size</th>\n",
       "      <th>Outlet_Location_Type</th>\n",
       "      <th>Outlet_Type</th>\n",
       "      <th>Item_Outlet_Sales</th>\n",
       "    </tr>\n",
       "  </thead>\n",
       "  <tbody>\n",
       "    <tr>\n",
       "      <th>0</th>\n",
       "      <td>9.30</td>\n",
       "      <td>0</td>\n",
       "      <td>0.016047</td>\n",
       "      <td>4.0</td>\n",
       "      <td>249.8092</td>\n",
       "      <td>1999</td>\n",
       "      <td>1.0</td>\n",
       "      <td>0.0</td>\n",
       "      <td>1.0</td>\n",
       "      <td>3735.1380</td>\n",
       "    </tr>\n",
       "    <tr>\n",
       "      <th>1</th>\n",
       "      <td>5.92</td>\n",
       "      <td>1</td>\n",
       "      <td>0.019278</td>\n",
       "      <td>14.0</td>\n",
       "      <td>48.2692</td>\n",
       "      <td>2009</td>\n",
       "      <td>1.0</td>\n",
       "      <td>2.0</td>\n",
       "      <td>2.0</td>\n",
       "      <td>443.4228</td>\n",
       "    </tr>\n",
       "    <tr>\n",
       "      <th>2</th>\n",
       "      <td>17.50</td>\n",
       "      <td>0</td>\n",
       "      <td>0.016760</td>\n",
       "      <td>10.0</td>\n",
       "      <td>141.6180</td>\n",
       "      <td>1999</td>\n",
       "      <td>1.0</td>\n",
       "      <td>0.0</td>\n",
       "      <td>1.0</td>\n",
       "      <td>2097.2700</td>\n",
       "    </tr>\n",
       "    <tr>\n",
       "      <th>3</th>\n",
       "      <td>19.20</td>\n",
       "      <td>1</td>\n",
       "      <td>0.000000</td>\n",
       "      <td>6.0</td>\n",
       "      <td>182.0950</td>\n",
       "      <td>1998</td>\n",
       "      <td>1.0</td>\n",
       "      <td>2.0</td>\n",
       "      <td>0.0</td>\n",
       "      <td>732.3800</td>\n",
       "    </tr>\n",
       "    <tr>\n",
       "      <th>4</th>\n",
       "      <td>8.93</td>\n",
       "      <td>0</td>\n",
       "      <td>0.000000</td>\n",
       "      <td>9.0</td>\n",
       "      <td>53.8614</td>\n",
       "      <td>1987</td>\n",
       "      <td>0.0</td>\n",
       "      <td>2.0</td>\n",
       "      <td>1.0</td>\n",
       "      <td>994.7052</td>\n",
       "    </tr>\n",
       "  </tbody>\n",
       "</table>\n",
       "</div>"
      ],
      "text/plain": [
       "   Item_Weight Item_Fat_Content  Item_Visibility  Item_Type  Item_MRP  \\\n",
       "0         9.30                0         0.016047        4.0  249.8092   \n",
       "1         5.92                1         0.019278       14.0   48.2692   \n",
       "2        17.50                0         0.016760       10.0  141.6180   \n",
       "3        19.20                1         0.000000        6.0  182.0950   \n",
       "4         8.93                0         0.000000        9.0   53.8614   \n",
       "\n",
       "   Outlet_Establishment_Year  Outlet_Size  Outlet_Location_Type  Outlet_Type  \\\n",
       "0                       1999          1.0                   0.0          1.0   \n",
       "1                       2009          1.0                   2.0          2.0   \n",
       "2                       1999          1.0                   0.0          1.0   \n",
       "3                       1998          1.0                   2.0          0.0   \n",
       "4                       1987          0.0                   2.0          1.0   \n",
       "\n",
       "   Item_Outlet_Sales  \n",
       "0          3735.1380  \n",
       "1           443.4228  \n",
       "2          2097.2700  \n",
       "3           732.3800  \n",
       "4           994.7052  "
      ]
     },
     "execution_count": 52,
     "metadata": {},
     "output_type": "execute_result"
    }
   ],
   "source": [
    "# Impute missing values in the \"Outlet_Size\" column with the mode\n",
    "mode_value = df['Outlet_Size'].mode()[0]\n",
    "df['Outlet_Size'].fillna(mode_value, inplace=True)\n",
    "df.head()"
   ]
  },
  {
   "cell_type": "markdown",
   "id": "4Onuj6i6Rhkg",
   "metadata": {
    "id": "4Onuj6i6Rhkg"
   },
   "source": [
    "**Check for null values**"
   ]
  },
  {
   "cell_type": "code",
   "execution_count": 54,
   "id": "2poAyoTZVxMo",
   "metadata": {
    "id": "2poAyoTZVxMo"
   },
   "outputs": [
    {
     "name": "stdout",
     "output_type": "stream",
     "text": [
      "Item_Weight                  1463\n",
      "Item_Fat_Content                0\n",
      "Item_Visibility                 0\n",
      "Item_Type                       0\n",
      "Item_MRP                        0\n",
      "Outlet_Establishment_Year       0\n",
      "Outlet_Size                     0\n",
      "Outlet_Location_Type            0\n",
      "Outlet_Type                     0\n",
      "Item_Outlet_Sales               0\n",
      "dtype: int64\n"
     ]
    }
   ],
   "source": [
    "# Check for null values in the entire DataFrame\n",
    "null_values = df.isnull().sum()\n",
    "print(null_values)"
   ]
  },
  {
   "cell_type": "markdown",
   "id": "Ba_NQSTYRyEQ",
   "metadata": {
    "id": "Ba_NQSTYRyEQ"
   },
   "source": [
    "**Imputation of \"Item_Weight\" field with mode value**"
   ]
  },
  {
   "cell_type": "code",
   "execution_count": 56,
   "id": "YpZFVBF9Vxtf",
   "metadata": {
    "id": "YpZFVBF9Vxtf"
   },
   "outputs": [
    {
     "data": {
      "text/html": [
       "<div>\n",
       "<style scoped>\n",
       "    .dataframe tbody tr th:only-of-type {\n",
       "        vertical-align: middle;\n",
       "    }\n",
       "\n",
       "    .dataframe tbody tr th {\n",
       "        vertical-align: top;\n",
       "    }\n",
       "\n",
       "    .dataframe thead th {\n",
       "        text-align: right;\n",
       "    }\n",
       "</style>\n",
       "<table border=\"1\" class=\"dataframe\">\n",
       "  <thead>\n",
       "    <tr style=\"text-align: right;\">\n",
       "      <th></th>\n",
       "      <th>Item_Weight</th>\n",
       "      <th>Item_Fat_Content</th>\n",
       "      <th>Item_Visibility</th>\n",
       "      <th>Item_Type</th>\n",
       "      <th>Item_MRP</th>\n",
       "      <th>Outlet_Establishment_Year</th>\n",
       "      <th>Outlet_Size</th>\n",
       "      <th>Outlet_Location_Type</th>\n",
       "      <th>Outlet_Type</th>\n",
       "      <th>Item_Outlet_Sales</th>\n",
       "    </tr>\n",
       "  </thead>\n",
       "  <tbody>\n",
       "    <tr>\n",
       "      <th>0</th>\n",
       "      <td>9.30</td>\n",
       "      <td>0</td>\n",
       "      <td>0.016047</td>\n",
       "      <td>4.0</td>\n",
       "      <td>249.8092</td>\n",
       "      <td>1999</td>\n",
       "      <td>1.0</td>\n",
       "      <td>0.0</td>\n",
       "      <td>1.0</td>\n",
       "      <td>3735.1380</td>\n",
       "    </tr>\n",
       "    <tr>\n",
       "      <th>1</th>\n",
       "      <td>5.92</td>\n",
       "      <td>1</td>\n",
       "      <td>0.019278</td>\n",
       "      <td>14.0</td>\n",
       "      <td>48.2692</td>\n",
       "      <td>2009</td>\n",
       "      <td>1.0</td>\n",
       "      <td>2.0</td>\n",
       "      <td>2.0</td>\n",
       "      <td>443.4228</td>\n",
       "    </tr>\n",
       "    <tr>\n",
       "      <th>2</th>\n",
       "      <td>17.50</td>\n",
       "      <td>0</td>\n",
       "      <td>0.016760</td>\n",
       "      <td>10.0</td>\n",
       "      <td>141.6180</td>\n",
       "      <td>1999</td>\n",
       "      <td>1.0</td>\n",
       "      <td>0.0</td>\n",
       "      <td>1.0</td>\n",
       "      <td>2097.2700</td>\n",
       "    </tr>\n",
       "    <tr>\n",
       "      <th>3</th>\n",
       "      <td>19.20</td>\n",
       "      <td>1</td>\n",
       "      <td>0.000000</td>\n",
       "      <td>6.0</td>\n",
       "      <td>182.0950</td>\n",
       "      <td>1998</td>\n",
       "      <td>1.0</td>\n",
       "      <td>2.0</td>\n",
       "      <td>0.0</td>\n",
       "      <td>732.3800</td>\n",
       "    </tr>\n",
       "    <tr>\n",
       "      <th>4</th>\n",
       "      <td>8.93</td>\n",
       "      <td>0</td>\n",
       "      <td>0.000000</td>\n",
       "      <td>9.0</td>\n",
       "      <td>53.8614</td>\n",
       "      <td>1987</td>\n",
       "      <td>0.0</td>\n",
       "      <td>2.0</td>\n",
       "      <td>1.0</td>\n",
       "      <td>994.7052</td>\n",
       "    </tr>\n",
       "  </tbody>\n",
       "</table>\n",
       "</div>"
      ],
      "text/plain": [
       "   Item_Weight Item_Fat_Content  Item_Visibility  Item_Type  Item_MRP  \\\n",
       "0         9.30                0         0.016047        4.0  249.8092   \n",
       "1         5.92                1         0.019278       14.0   48.2692   \n",
       "2        17.50                0         0.016760       10.0  141.6180   \n",
       "3        19.20                1         0.000000        6.0  182.0950   \n",
       "4         8.93                0         0.000000        9.0   53.8614   \n",
       "\n",
       "   Outlet_Establishment_Year  Outlet_Size  Outlet_Location_Type  Outlet_Type  \\\n",
       "0                       1999          1.0                   0.0          1.0   \n",
       "1                       2009          1.0                   2.0          2.0   \n",
       "2                       1999          1.0                   0.0          1.0   \n",
       "3                       1998          1.0                   2.0          0.0   \n",
       "4                       1987          0.0                   2.0          1.0   \n",
       "\n",
       "   Item_Outlet_Sales  \n",
       "0          3735.1380  \n",
       "1           443.4228  \n",
       "2          2097.2700  \n",
       "3           732.3800  \n",
       "4           994.7052  "
      ]
     },
     "execution_count": 56,
     "metadata": {},
     "output_type": "execute_result"
    }
   ],
   "source": [
    "# Impute missing values in the \"Outlet_Size\" column with the mode\n",
    "mode_value_item_weight = df['Item_Weight'].mode()[0]\n",
    "df['Item_Weight'].fillna(mode_value, inplace=True)\n",
    "df.head()"
   ]
  },
  {
   "cell_type": "markdown",
   "id": "J2Q4a-PaR7KB",
   "metadata": {
    "id": "J2Q4a-PaR7KB"
   },
   "source": [
    "**Display all field in the dataset using boxplot**"
   ]
  },
  {
   "cell_type": "code",
   "execution_count": 57,
   "id": "f3016d75",
   "metadata": {},
   "outputs": [
    {
     "data": {
      "image/png": "[encoded data removed]",
      "text/plain": [
       "<Figure size 1500x800 with 1 Axes>"
      ]
     },
     "metadata": {},
     "output_type": "display_data"
    }
   ],
   "source": [
    "df.boxplot(rot=90, figsize=(15, 8))\n",
    "plt.title('Boxplots of All Fields')\n",
    "plt.show()"
   ]
  },
  {
   "cell_type": "markdown",
   "id": "YHknhULISQ6T",
   "metadata": {
    "id": "YHknhULISQ6T"
   },
   "source": [
    "**Split the dataset into train and test(20%), apply Linear Regression and calculate RMSE value**"
   ]
  },
  {
   "cell_type": "code",
   "execution_count": 63,
   "id": "9db0f8ce",
   "metadata": {},
   "outputs": [
    {
     "name": "stdout",
     "output_type": "stream",
     "text": [
      "Root Mean Squared Error (RMSE) with Linear Regression: 1131.2338727977424\n"
     ]
    }
   ],
   "source": [
    "# Assuming 'Item_Outlet_Sales' is the target variable\n",
    "y = df['Item_Outlet_Sales']  # Target variable\n",
    "\n",
    "# Select only numeric features for X\n",
    "numeric_features = df.select_dtypes(include=[np.number]).columns\n",
    "X = df[numeric_features].drop('Item_Outlet_Sales', axis=1)  # Exclude the target variable\n",
    "\n",
    "# Split the dataset into a training set (80%) and a test set (20%)\n",
    "X_train, X_test, y_train, y_test = train_test_split(X, y, test_size=0.2, random_state=42)\n",
    "\n",
    "# Apply Linear Regression\n",
    "model = LinearRegression()\n",
    "model.fit(X_train, y_train)\n",
    "\n",
    "# Make predictions on the test set\n",
    "y_pred = model.predict(X_test)\n",
    "\n",
    "# Calculate RMSE\n",
    "rmse = np.sqrt(mean_squared_error(y_test, y_pred))\n",
    "print(f'Root Mean Squared Error (RMSE) with Linear Regression: {rmse}')"
   ]
  },
  {
   "cell_type": "markdown",
   "id": "uqXooCy0Sw9B",
   "metadata": {
    "id": "uqXooCy0Sw9B"
   },
   "source": [
    "**Apply StandardScaller and split the dataset into train and test(20%)**"
   ]
  },
  {
   "cell_type": "code",
   "execution_count": 64,
   "id": "LcyKKccGVzaY",
   "metadata": {
    "id": "LcyKKccGVzaY"
   },
   "outputs": [
    {
     "name": "stdout",
     "output_type": "stream",
     "text": [
      "Root Mean Squared Error (RMSE) with StandardScaler: 1131.2338727977424\n"
     ]
    }
   ],
   "source": [
    "# Assuming 'Item_Outlet_Sales' is the target variable\n",
    "y = df['Item_Outlet_Sales']  # Target variable\n",
    "\n",
    "# Select only numeric features for X\n",
    "numeric_features = df.select_dtypes(include=[np.number]).columns\n",
    "X = df[numeric_features].drop('Item_Outlet_Sales', axis=1)  # Exclude the target variable\n",
    "\n",
    "# Split the dataset into a training set (80%) and a test set (20%)\n",
    "X_train, X_test, y_train, y_test = train_test_split(X, y, test_size=0.2, random_state=42)\n",
    "\n",
    "# Apply StandardScaler only to numeric features\n",
    "scaler = StandardScaler()\n",
    "X_train_scaled = scaler.fit_transform(X_train)\n",
    "X_test_scaled = scaler.transform(X_test)\n",
    "\n",
    "# Apply Linear Regression\n",
    "model = LinearRegression()\n",
    "model.fit(X_train_scaled, y_train)\n",
    "\n",
    "# Make predictions on the scaled test set\n",
    "y_pred = model.predict(X_test_scaled)\n",
    "\n",
    "# Calculate RMSE\n",
    "rmse = np.sqrt(mean_squared_error(y_test, y_pred))\n",
    "print(f'Root Mean Squared Error (RMSE) with StandardScaler: {rmse}')"
   ]
  },
  {
   "cell_type": "markdown",
   "id": "REkskrWlTRZ0",
   "metadata": {
    "id": "REkskrWlTRZ0"
   },
   "source": [
    "**Apply Linear Regression and calculate RMSE value**"
   ]
  },
  {
   "cell_type": "code",
   "execution_count": 65,
   "id": "UCXEWz1EV0Yr",
   "metadata": {
    "id": "UCXEWz1EV0Yr"
   },
   "outputs": [
    {
     "name": "stdout",
     "output_type": "stream",
     "text": [
      "Root Mean Squared Error (RMSE) with Linear Regression: 1131.2338727977424\n"
     ]
    }
   ],
   "source": [
    "# Apply Linear Regression\n",
    "model = LinearRegression()\n",
    "model.fit(X_train_scaled, y_train)\n",
    "\n",
    "# Make predictions on the scaled test set\n",
    "y_pred = model.predict(X_test_scaled)\n",
    "\n",
    "# Calculate RMSE\n",
    "rmse = np.sqrt(mean_squared_error(y_test, y_pred))\n",
    "print(f'Root Mean Squared Error (RMSE) with Linear Regression: {rmse}')"
   ]
  },
  {
   "cell_type": "markdown",
   "id": "yv7HlvPETZZl",
   "metadata": {
    "id": "yv7HlvPETZZl"
   },
   "source": [
    "**Apply MinMaxScaler, split the dataset into train and test(20%), apply LinearRegression and calculate RMSE**"
   ]
  },
  {
   "cell_type": "code",
   "execution_count": 67,
   "id": "uBIpOrM5V083",
   "metadata": {
    "id": "uBIpOrM5V083"
   },
   "outputs": [
    {
     "name": "stdout",
     "output_type": "stream",
     "text": [
      "Root Mean Squared Error (RMSE) with MinMaxScaler: 1131.2338727977424\n"
     ]
    }
   ],
   "source": [
    "# Assuming 'Item_Outlet_Sales' is the target variable\n",
    "y = df['Item_Outlet_Sales']  # Target variable\n",
    "\n",
    "# Select only numeric features for X\n",
    "numeric_features = df.select_dtypes(include=[np.number]).columns\n",
    "X = df[numeric_features].drop('Item_Outlet_Sales', axis=1)  # Exclude the target variable\n",
    "\n",
    "# Split the dataset into a training set (80%) and a test set (20%)\n",
    "X_train, X_test, y_train, y_test = train_test_split(X, y, test_size=0.2, random_state=42)\n",
    "\n",
    "# Apply MimMaxScaler only to numeric features\n",
    "scaler = MinMaxScaler()\n",
    "X_train_scaled = scaler.fit_transform(X_train)\n",
    "X_test_scaled = scaler.transform(X_test)\n",
    "\n",
    "# Apply Linear Regression\n",
    "model = LinearRegression()\n",
    "model.fit(X_train_scaled, y_train)\n",
    "\n",
    "# Make predictions on the scaled test set\n",
    "y_pred = model.predict(X_test_scaled)\n",
    "\n",
    "# Calculate RMSE\n",
    "rmse = np.sqrt(mean_squared_error(y_test, y_pred))\n",
    "print(f'Root Mean Squared Error (RMSE) with MinMaxScaler: {rmse}')"
   ]
  },
  {
   "cell_type": "markdown",
   "id": "RsmaZrfJTf1J",
   "metadata": {
    "id": "RsmaZrfJTf1J"
   },
   "source": [
    "**Apply RobustScaler,Split the dataset into train and test(20%), apply LinearRegression and calculate RMSE**"
   ]
  },
  {
   "cell_type": "code",
   "execution_count": 68,
   "id": "b5d9XLQ9V1if",
   "metadata": {
    "id": "b5d9XLQ9V1if"
   },
   "outputs": [
    {
     "name": "stdout",
     "output_type": "stream",
     "text": [
      "Root Mean Squared Error (RMSE) with RobustScaler: 1131.2338727977424\n"
     ]
    }
   ],
   "source": [
    "# Assuming 'Item_Outlet_Sales' is the target variable\n",
    "y = df['Item_Outlet_Sales']  # Target variable\n",
    "\n",
    "# Select only numeric features for X\n",
    "numeric_features = df.select_dtypes(include=[np.number]).columns\n",
    "X = df[numeric_features].drop('Item_Outlet_Sales', axis=1)  # Exclude the target variable\n",
    "\n",
    "# Split the dataset into a training set (80%) and a test set (20%)\n",
    "X_train, X_test, y_train, y_test = train_test_split(X, y, test_size=0.2, random_state=42)\n",
    "\n",
    "# Apply RobustScaler only to numeric features\n",
    "scaler = RobustScaler()\n",
    "X_train_scaled = scaler.fit_transform(X_train)\n",
    "X_test_scaled = scaler.transform(X_test)\n",
    "\n",
    "# Apply Linear Regression\n",
    "model = LinearRegression()\n",
    "model.fit(X_train_scaled, y_train)\n",
    "\n",
    "# Make predictions on the scaled test set\n",
    "y_pred = model.predict(X_test_scaled)\n",
    "\n",
    "# Calculate RMSE\n",
    "rmse = np.sqrt(mean_squared_error(y_test, y_pred))\n",
    "print(f'Root Mean Squared Error (RMSE) with RobustScaler: {rmse}')"
   ]
  },
  {
   "cell_type": "markdown",
   "id": "TqHyxOlsTmwQ",
   "metadata": {
    "id": "TqHyxOlsTmwQ"
   },
   "source": [
    "**Apply MaxAbsScaler, split the dataset into train and test(20%), apply LinearRegression and calculate RMSE**"
   ]
  },
  {
   "cell_type": "code",
   "execution_count": 69,
   "id": "gHhPvv_JV18V",
   "metadata": {
    "id": "gHhPvv_JV18V"
   },
   "outputs": [
    {
     "name": "stdout",
     "output_type": "stream",
     "text": [
      "Root Mean Squared Error (RMSE) with MaxAbsScaler: 1131.2338727977424\n"
     ]
    }
   ],
   "source": [
    "# Assuming 'Item_Outlet_Sales' is the target variable\n",
    "y = df['Item_Outlet_Sales']  # Target variable\n",
    "\n",
    "# Select only numeric features for X\n",
    "numeric_features = df.select_dtypes(include=[np.number]).columns\n",
    "X = df[numeric_features].drop('Item_Outlet_Sales', axis=1)  # Exclude the target variable\n",
    "\n",
    "# Split the dataset into a training set (80%) and a test set (20%)\n",
    "X_train, X_test, y_train, y_test = train_test_split(X, y, test_size=0.2, random_state=42)\n",
    "\n",
    "# Apply MaxAbsScaler only to numeric features\n",
    "scaler = MaxAbsScaler()\n",
    "X_train_scaled = scaler.fit_transform(X_train)\n",
    "X_test_scaled = scaler.transform(X_test)\n",
    "\n",
    "# Apply Linear Regression\n",
    "model = LinearRegression()\n",
    "model.fit(X_train_scaled, y_train)\n",
    "\n",
    "# Make predictions on the scaled test set\n",
    "y_pred = model.predict(X_test_scaled)\n",
    "\n",
    "# Calculate RMSE\n",
    "rmse = np.sqrt(mean_squared_error(y_test, y_pred))\n",
    "print(f'Root Mean Squared Error (RMSE) with MaxAbsScaler: {rmse}')\n"
   ]
  },
  {
   "cell_type": "markdown",
   "id": "VwKDpRyXTqVt",
   "metadata": {
    "id": "VwKDpRyXTqVt"
   },
   "source": [
    "**Apply Normalizer, split the dataset into train and test(20%), apply LinearRegression and calculate RMSE**"
   ]
  },
  {
   "cell_type": "code",
   "execution_count": 71,
   "id": "KMmGXImyV2eW",
   "metadata": {
    "id": "KMmGXImyV2eW"
   },
   "outputs": [
    {
     "name": "stdout",
     "output_type": "stream",
     "text": [
      "Root Mean Squared Error (RMSE) with Normalizer: 1131.6916988823384\n"
     ]
    }
   ],
   "source": [
    "# Assuming 'Item_Outlet_Sales' is the target variable\n",
    "y = df['Item_Outlet_Sales']  # Target variable\n",
    "\n",
    "# Select only numeric features for X\n",
    "numeric_features = df.select_dtypes(include=[np.number]).columns\n",
    "X = df[numeric_features].drop('Item_Outlet_Sales', axis=1)  # Exclude the target variable\n",
    "\n",
    "# Split the dataset into a training set (80%) and a test set (20%)\n",
    "X_train, X_test, y_train, y_test = train_test_split(X, y, test_size=0.2, random_state=42)\n",
    "\n",
    "# Apply Normalizer only to numeric features\n",
    "scaler = Normalizer()\n",
    "X_train_scaled = scaler.fit_transform(X_train)\n",
    "X_test_scaled = scaler.transform(X_test)\n",
    "\n",
    "# Apply Linear Regression\n",
    "model = LinearRegression()\n",
    "model.fit(X_train_scaled, y_train)\n",
    "\n",
    "# Make predictions on the scaled test set\n",
    "y_pred = model.predict(X_test_scaled)\n",
    "\n",
    "# Calculate RMSE\n",
    "rmse = np.sqrt(mean_squared_error(y_test, y_pred))\n",
    "print(f'Root Mean Squared Error (RMSE) with Normalizer: {rmse}')"
   ]
  },
  {
   "cell_type": "markdown",
   "id": "aXlMurapT-jK",
   "metadata": {
    "id": "aXlMurapT-jK"
   },
   "source": [
    "**Define a function valuelabel to place the legend of each bar in the histogram**"
   ]
  },
  {
   "cell_type": "code",
   "execution_count": 80,
   "id": "8s1VmLS2V3Bv",
   "metadata": {
    "id": "8s1VmLS2V3Bv"
   },
   "outputs": [],
   "source": [
    "def valuelabel(ax, rects, offset=0.05, format='{:.2f}', fontsize=10):\n",
    "  \n",
    "    for rect in rects:\n",
    "        height = rect.get_height()\n",
    "        ax.text(rect.get_x() + rect.get_width() / 2, height + offset,\n",
    "                format.format(height),\n",
    "                ha='center', va='bottom', fontsize=fontsize)"
   ]
  },
  {
   "cell_type": "markdown",
   "id": "HaErXDOPURMM",
   "metadata": {
    "id": "HaErXDOPURMM"
   },
   "source": [
    "**Plot a histogram to display the RMSE value of each scaler**"
   ]
  },
  {
   "cell_type": "code",
   "execution_count": 82,
   "id": "0e789792",
   "metadata": {
    "id": "0e789792"
   },
   "outputs": [
    {
     "data": {
      "image/png": "[encoded data removed]",
      "text/plain": [
       "<Figure size 1000x600 with 1 Axes>"
      ]
     },
     "metadata": {},
     "output_type": "display_data"
    }
   ],
   "source": [
    "# Assuming 'Item_Outlet_Sales' is the target variable\n",
    "y = df['Item_Outlet_Sales']  # Target variable\n",
    "\n",
    "# Select only numeric features for X\n",
    "numeric_features = df.select_dtypes(include=[np.number]).columns\n",
    "X = df[numeric_features].drop('Item_Outlet_Sales', axis=1)  # Exclude the target variable\n",
    "\n",
    "# Split the dataset into a training set (80%) and a test set (20%)\n",
    "X_train, X_test, y_train, y_test = train_test_split(X, y, test_size=0.2, random_state=42)\n",
    "\n",
    "# List of scalers\n",
    "scalers = [StandardScaler(), MinMaxScaler(), RobustScaler(), Normalizer()]\n",
    "\n",
    "# Dictionary to store RMSE values for each scaler\n",
    "rmse_values = {}\n",
    "\n",
    "# Apply each scaler, train a linear regression model, and calculate RMSE\n",
    "for scaler in scalers:\n",
    "    X_train_scaled = scaler.fit_transform(X_train)\n",
    "    X_test_scaled = scaler.transform(X_test)\n",
    "\n",
    "    model = LinearRegression()\n",
    "    model.fit(X_train_scaled, y_train)\n",
    "\n",
    "    y_pred = model.predict(X_test_scaled)\n",
    "\n",
    "    rmse = np.sqrt(mean_squared_error(y_test, y_pred))\n",
    "    rmse_values[type(scaler).__name__] = rmse\n",
    "\n",
    "# Plot histogram\n",
    "plt.figure(figsize=(10, 6))\n",
    "plt.bar(rmse_values.keys(), rmse_values.values(), color='skyblue')\n",
    "plt.xlabel('Scaler')\n",
    "plt.ylabel('RMSE')\n",
    "plt.title('RMSE Value for Each Scaler')\n",
    "plt.show()"
   ]
  }
 ],
 "metadata": {
  "colab": {
   "provenance": []
  },
  "kernelspec": {
   "display_name": "Python 3 (ipykernel)",
   "language": "python",
   "name": "python3"
  },
  "language_info": {
   "codemirror_mode": {
    "name": "ipython",
    "version": 3
   },
   "file_extension": ".py",
   "mimetype": "text/x-python",
   "name": "python",
   "nbconvert_exporter": "python",
   "pygments_lexer": "ipython3",
   "version": "3.10.9"
  }
 },
 "nbformat": 4,
 "nbformat_minor": 5
}
