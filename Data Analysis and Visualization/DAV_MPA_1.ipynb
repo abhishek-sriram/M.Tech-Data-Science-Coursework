{
 "cells": [
  {
   "cell_type": "markdown",
   "id": "39pzNr8CZxGp",
   "metadata": {
    "id": "39pzNr8CZxGp"
   },
   "source": [
    "**Load the library (1 mark)**"
   ]
  },
  {
   "cell_type": "code",
   "execution_count": 187,
   "id": "ESn8hnhlaW5E",
   "metadata": {
    "id": "ESn8hnhlaW5E"
   },
   "outputs": [],
   "source": [
    "import pandas as pd"
   ]
  },
  {
   "cell_type": "markdown",
   "id": "P43g8A7paQTf",
   "metadata": {
    "id": "P43g8A7paQTf"
   },
   "source": [
    "**Open the csv file (1 mark)**"
   ]
  },
  {
   "cell_type": "code",
   "execution_count": 188,
   "id": "5161d7a2",
   "metadata": {
    "id": "5161d7a2"
   },
   "outputs": [
    {
     "data": {
      "text/html": [
       "<div>\n",
       "<style scoped>\n",
       "    .dataframe tbody tr th:only-of-type {\n",
       "        vertical-align: middle;\n",
       "    }\n",
       "\n",
       "    .dataframe tbody tr th {\n",
       "        vertical-align: top;\n",
       "    }\n",
       "\n",
       "    .dataframe thead th {\n",
       "        text-align: right;\n",
       "    }\n",
       "</style>\n",
       "<table border=\"1\" class=\"dataframe\">\n",
       "  <thead>\n",
       "    <tr style=\"text-align: right;\">\n",
       "      <th></th>\n",
       "      <th>index</th>\n",
       "      <th>Patient Id</th>\n",
       "      <th>Age</th>\n",
       "      <th>Gender</th>\n",
       "      <th>Air Pollution</th>\n",
       "      <th>Alcohol use</th>\n",
       "      <th>Dust Allergy</th>\n",
       "      <th>OccuPational Hazards</th>\n",
       "      <th>Genetic Risk</th>\n",
       "      <th>chronic Lung Disease</th>\n",
       "      <th>...</th>\n",
       "      <th>Fatigue</th>\n",
       "      <th>Weight Loss</th>\n",
       "      <th>Shortness of Breath</th>\n",
       "      <th>Wheezing</th>\n",
       "      <th>Swallowing Difficulty</th>\n",
       "      <th>Clubbing of Finger Nails</th>\n",
       "      <th>Frequent Cold</th>\n",
       "      <th>Dry Cough</th>\n",
       "      <th>Snoring</th>\n",
       "      <th>Level</th>\n",
       "    </tr>\n",
       "  </thead>\n",
       "  <tbody>\n",
       "    <tr>\n",
       "      <th>0</th>\n",
       "      <td>0</td>\n",
       "      <td>P1</td>\n",
       "      <td>33</td>\n",
       "      <td>1</td>\n",
       "      <td>2</td>\n",
       "      <td>4</td>\n",
       "      <td>5</td>\n",
       "      <td>4</td>\n",
       "      <td>3</td>\n",
       "      <td>2</td>\n",
       "      <td>...</td>\n",
       "      <td>3</td>\n",
       "      <td>4</td>\n",
       "      <td>2</td>\n",
       "      <td>2</td>\n",
       "      <td>3</td>\n",
       "      <td>1</td>\n",
       "      <td>2</td>\n",
       "      <td>3</td>\n",
       "      <td>4</td>\n",
       "      <td>Low</td>\n",
       "    </tr>\n",
       "    <tr>\n",
       "      <th>1</th>\n",
       "      <td>1</td>\n",
       "      <td>P10</td>\n",
       "      <td>17</td>\n",
       "      <td>1</td>\n",
       "      <td>3</td>\n",
       "      <td>1</td>\n",
       "      <td>5</td>\n",
       "      <td>3</td>\n",
       "      <td>4</td>\n",
       "      <td>2</td>\n",
       "      <td>...</td>\n",
       "      <td>1</td>\n",
       "      <td>3</td>\n",
       "      <td>7</td>\n",
       "      <td>8</td>\n",
       "      <td>6</td>\n",
       "      <td>2</td>\n",
       "      <td>1</td>\n",
       "      <td>7</td>\n",
       "      <td>2</td>\n",
       "      <td>Medium</td>\n",
       "    </tr>\n",
       "    <tr>\n",
       "      <th>2</th>\n",
       "      <td>2</td>\n",
       "      <td>P100</td>\n",
       "      <td>35</td>\n",
       "      <td>1</td>\n",
       "      <td>4</td>\n",
       "      <td>5</td>\n",
       "      <td>6</td>\n",
       "      <td>5</td>\n",
       "      <td>5</td>\n",
       "      <td>4</td>\n",
       "      <td>...</td>\n",
       "      <td>8</td>\n",
       "      <td>7</td>\n",
       "      <td>9</td>\n",
       "      <td>2</td>\n",
       "      <td>1</td>\n",
       "      <td>4</td>\n",
       "      <td>6</td>\n",
       "      <td>7</td>\n",
       "      <td>2</td>\n",
       "      <td>High</td>\n",
       "    </tr>\n",
       "    <tr>\n",
       "      <th>3</th>\n",
       "      <td>3</td>\n",
       "      <td>P1000</td>\n",
       "      <td>37</td>\n",
       "      <td>1</td>\n",
       "      <td>7</td>\n",
       "      <td>7</td>\n",
       "      <td>7</td>\n",
       "      <td>7</td>\n",
       "      <td>6</td>\n",
       "      <td>7</td>\n",
       "      <td>...</td>\n",
       "      <td>4</td>\n",
       "      <td>2</td>\n",
       "      <td>3</td>\n",
       "      <td>1</td>\n",
       "      <td>4</td>\n",
       "      <td>5</td>\n",
       "      <td>6</td>\n",
       "      <td>7</td>\n",
       "      <td>5</td>\n",
       "      <td>High</td>\n",
       "    </tr>\n",
       "    <tr>\n",
       "      <th>4</th>\n",
       "      <td>4</td>\n",
       "      <td>P101</td>\n",
       "      <td>46</td>\n",
       "      <td>1</td>\n",
       "      <td>6</td>\n",
       "      <td>8</td>\n",
       "      <td>7</td>\n",
       "      <td>7</td>\n",
       "      <td>7</td>\n",
       "      <td>6</td>\n",
       "      <td>...</td>\n",
       "      <td>3</td>\n",
       "      <td>2</td>\n",
       "      <td>4</td>\n",
       "      <td>1</td>\n",
       "      <td>4</td>\n",
       "      <td>2</td>\n",
       "      <td>4</td>\n",
       "      <td>2</td>\n",
       "      <td>3</td>\n",
       "      <td>High</td>\n",
       "    </tr>\n",
       "    <tr>\n",
       "      <th>...</th>\n",
       "      <td>...</td>\n",
       "      <td>...</td>\n",
       "      <td>...</td>\n",
       "      <td>...</td>\n",
       "      <td>...</td>\n",
       "      <td>...</td>\n",
       "      <td>...</td>\n",
       "      <td>...</td>\n",
       "      <td>...</td>\n",
       "      <td>...</td>\n",
       "      <td>...</td>\n",
       "      <td>...</td>\n",
       "      <td>...</td>\n",
       "      <td>...</td>\n",
       "      <td>...</td>\n",
       "      <td>...</td>\n",
       "      <td>...</td>\n",
       "      <td>...</td>\n",
       "      <td>...</td>\n",
       "      <td>...</td>\n",
       "      <td>...</td>\n",
       "    </tr>\n",
       "    <tr>\n",
       "      <th>995</th>\n",
       "      <td>995</td>\n",
       "      <td>P995</td>\n",
       "      <td>44</td>\n",
       "      <td>1</td>\n",
       "      <td>6</td>\n",
       "      <td>7</td>\n",
       "      <td>7</td>\n",
       "      <td>7</td>\n",
       "      <td>7</td>\n",
       "      <td>6</td>\n",
       "      <td>...</td>\n",
       "      <td>5</td>\n",
       "      <td>3</td>\n",
       "      <td>2</td>\n",
       "      <td>7</td>\n",
       "      <td>8</td>\n",
       "      <td>2</td>\n",
       "      <td>4</td>\n",
       "      <td>5</td>\n",
       "      <td>3</td>\n",
       "      <td>High</td>\n",
       "    </tr>\n",
       "    <tr>\n",
       "      <th>996</th>\n",
       "      <td>996</td>\n",
       "      <td>P996</td>\n",
       "      <td>37</td>\n",
       "      <td>2</td>\n",
       "      <td>6</td>\n",
       "      <td>8</td>\n",
       "      <td>7</td>\n",
       "      <td>7</td>\n",
       "      <td>7</td>\n",
       "      <td>6</td>\n",
       "      <td>...</td>\n",
       "      <td>9</td>\n",
       "      <td>6</td>\n",
       "      <td>5</td>\n",
       "      <td>7</td>\n",
       "      <td>2</td>\n",
       "      <td>4</td>\n",
       "      <td>3</td>\n",
       "      <td>1</td>\n",
       "      <td>4</td>\n",
       "      <td>High</td>\n",
       "    </tr>\n",
       "    <tr>\n",
       "      <th>997</th>\n",
       "      <td>997</td>\n",
       "      <td>P997</td>\n",
       "      <td>25</td>\n",
       "      <td>2</td>\n",
       "      <td>4</td>\n",
       "      <td>5</td>\n",
       "      <td>6</td>\n",
       "      <td>5</td>\n",
       "      <td>5</td>\n",
       "      <td>4</td>\n",
       "      <td>...</td>\n",
       "      <td>8</td>\n",
       "      <td>7</td>\n",
       "      <td>9</td>\n",
       "      <td>2</td>\n",
       "      <td>1</td>\n",
       "      <td>4</td>\n",
       "      <td>6</td>\n",
       "      <td>7</td>\n",
       "      <td>2</td>\n",
       "      <td>High</td>\n",
       "    </tr>\n",
       "    <tr>\n",
       "      <th>998</th>\n",
       "      <td>998</td>\n",
       "      <td>P998</td>\n",
       "      <td>18</td>\n",
       "      <td>2</td>\n",
       "      <td>6</td>\n",
       "      <td>8</td>\n",
       "      <td>7</td>\n",
       "      <td>7</td>\n",
       "      <td>7</td>\n",
       "      <td>6</td>\n",
       "      <td>...</td>\n",
       "      <td>3</td>\n",
       "      <td>2</td>\n",
       "      <td>4</td>\n",
       "      <td>1</td>\n",
       "      <td>4</td>\n",
       "      <td>2</td>\n",
       "      <td>4</td>\n",
       "      <td>2</td>\n",
       "      <td>3</td>\n",
       "      <td>High</td>\n",
       "    </tr>\n",
       "    <tr>\n",
       "      <th>999</th>\n",
       "      <td>999</td>\n",
       "      <td>P999</td>\n",
       "      <td>47</td>\n",
       "      <td>1</td>\n",
       "      <td>6</td>\n",
       "      <td>5</td>\n",
       "      <td>6</td>\n",
       "      <td>5</td>\n",
       "      <td>5</td>\n",
       "      <td>4</td>\n",
       "      <td>...</td>\n",
       "      <td>8</td>\n",
       "      <td>7</td>\n",
       "      <td>9</td>\n",
       "      <td>2</td>\n",
       "      <td>1</td>\n",
       "      <td>4</td>\n",
       "      <td>6</td>\n",
       "      <td>7</td>\n",
       "      <td>2</td>\n",
       "      <td>High</td>\n",
       "    </tr>\n",
       "  </tbody>\n",
       "</table>\n",
       "<p>1000 rows × 26 columns</p>\n",
       "</div>"
      ],
      "text/plain": [
       "     index Patient Id  Age  Gender  Air Pollution  Alcohol use  Dust Allergy  \\\n",
       "0        0         P1   33       1              2            4             5   \n",
       "1        1        P10   17       1              3            1             5   \n",
       "2        2       P100   35       1              4            5             6   \n",
       "3        3      P1000   37       1              7            7             7   \n",
       "4        4       P101   46       1              6            8             7   \n",
       "..     ...        ...  ...     ...            ...          ...           ...   \n",
       "995    995       P995   44       1              6            7             7   \n",
       "996    996       P996   37       2              6            8             7   \n",
       "997    997       P997   25       2              4            5             6   \n",
       "998    998       P998   18       2              6            8             7   \n",
       "999    999       P999   47       1              6            5             6   \n",
       "\n",
       "     OccuPational Hazards  Genetic Risk  chronic Lung Disease  ...  Fatigue  \\\n",
       "0                       4             3                     2  ...        3   \n",
       "1                       3             4                     2  ...        1   \n",
       "2                       5             5                     4  ...        8   \n",
       "3                       7             6                     7  ...        4   \n",
       "4                       7             7                     6  ...        3   \n",
       "..                    ...           ...                   ...  ...      ...   \n",
       "995                     7             7                     6  ...        5   \n",
       "996                     7             7                     6  ...        9   \n",
       "997                     5             5                     4  ...        8   \n",
       "998                     7             7                     6  ...        3   \n",
       "999                     5             5                     4  ...        8   \n",
       "\n",
       "     Weight Loss  Shortness of Breath  Wheezing  Swallowing Difficulty  \\\n",
       "0              4                    2         2                      3   \n",
       "1              3                    7         8                      6   \n",
       "2              7                    9         2                      1   \n",
       "3              2                    3         1                      4   \n",
       "4              2                    4         1                      4   \n",
       "..           ...                  ...       ...                    ...   \n",
       "995            3                    2         7                      8   \n",
       "996            6                    5         7                      2   \n",
       "997            7                    9         2                      1   \n",
       "998            2                    4         1                      4   \n",
       "999            7                    9         2                      1   \n",
       "\n",
       "     Clubbing of Finger Nails  Frequent Cold  Dry Cough  Snoring   Level  \n",
       "0                           1              2          3        4     Low  \n",
       "1                           2              1          7        2  Medium  \n",
       "2                           4              6          7        2    High  \n",
       "3                           5              6          7        5    High  \n",
       "4                           2              4          2        3    High  \n",
       "..                        ...            ...        ...      ...     ...  \n",
       "995                         2              4          5        3    High  \n",
       "996                         4              3          1        4    High  \n",
       "997                         4              6          7        2    High  \n",
       "998                         2              4          2        3    High  \n",
       "999                         4              6          7        2    High  \n",
       "\n",
       "[1000 rows x 26 columns]"
      ]
     },
     "execution_count": 188,
     "metadata": {},
     "output_type": "execute_result"
    }
   ],
   "source": [
    "file=pd.read_csv('cancer.csv')\n",
    "file"
   ]
  },
  {
   "cell_type": "markdown",
   "id": "4eHPbvlfawab",
   "metadata": {
    "id": "4eHPbvlfawab"
   },
   "source": [
    "**Display the top 5 rows (1 mark)**"
   ]
  },
  {
   "cell_type": "code",
   "execution_count": null,
   "id": "AFxHTagQhJsh",
   "metadata": {
    "id": "AFxHTagQhJsh"
   },
   "outputs": [],
   "source": [
    "file.head()"
   ]
  },
  {
   "cell_type": "markdown",
   "id": "3CakPhMMa4WN",
   "metadata": {
    "id": "3CakPhMMa4WN"
   },
   "source": [
    "**Display column information of the dataframe (1 mark)**"
   ]
  },
  {
   "cell_type": "code",
   "execution_count": null,
   "id": "390bcd64",
   "metadata": {
    "id": "390bcd64"
   },
   "outputs": [],
   "source": [
    "file.info()"
   ]
  },
  {
   "cell_type": "markdown",
   "id": "zgYjc7ZjbJ98",
   "metadata": {
    "id": "zgYjc7ZjbJ98"
   },
   "source": [
    "**Display statistics information (1 mark)**"
   ]
  },
  {
   "cell_type": "code",
   "execution_count": null,
   "id": "dc20977b",
   "metadata": {
    "id": "dc20977b"
   },
   "outputs": [],
   "source": [
    "file.describe()"
   ]
  },
  {
   "cell_type": "markdown",
   "id": "I7IiwWiHbXcc",
   "metadata": {
    "id": "I7IiwWiHbXcc"
   },
   "source": [
    "**Check for null values (1 mark)**"
   ]
  },
  {
   "cell_type": "code",
   "execution_count": null,
   "id": "a9f9364c",
   "metadata": {
    "id": "a9f9364c"
   },
   "outputs": [],
   "source": [
    "file.isnull().sum()"
   ]
  },
  {
   "cell_type": "markdown",
   "id": "VAds_y_-bf-3",
   "metadata": {
    "id": "VAds_y_-bf-3"
   },
   "source": [
    "**Display the column names (1 mark)**"
   ]
  },
  {
   "cell_type": "code",
   "execution_count": null,
   "id": "bbab5b0f",
   "metadata": {
    "id": "bbab5b0f"
   },
   "outputs": [],
   "source": [
    "file.columns"
   ]
  },
  {
   "cell_type": "markdown",
   "id": "UeZN3_CFbn8N",
   "metadata": {
    "id": "UeZN3_CFbn8N"
   },
   "source": [
    "**Display the unique value of Level column (1 mark)**"
   ]
  },
  {
   "cell_type": "code",
   "execution_count": null,
   "id": "0ec0b302",
   "metadata": {
    "id": "0ec0b302"
   },
   "outputs": [],
   "source": [
    "file['Level'].unique()"
   ]
  },
  {
   "cell_type": "markdown",
   "id": "AiGi993Ib0p8",
   "metadata": {
    "id": "AiGi993Ib0p8"
   },
   "source": [
    "**Convert the column Level from categorical type to numerical type (1 mark)**"
   ]
  },
  {
   "cell_type": "code",
   "execution_count": null,
   "id": "09ab93d0",
   "metadata": {
    "id": "09ab93d0"
   },
   "outputs": [],
   "source": [
    "file['Level']=pd.factorize(file['Level'])[0]\n",
    "file['Level'].unique()"
   ]
  },
  {
   "cell_type": "markdown",
   "id": "YG0mvBoEcCuD",
   "metadata": {
    "id": "YG0mvBoEcCuD"
   },
   "source": [
    "**Import the vizualization library (1 mark)**"
   ]
  },
  {
   "cell_type": "code",
   "execution_count": null,
   "id": "53c62c2e",
   "metadata": {
    "id": "53c62c2e"
   },
   "outputs": [],
   "source": [
    "import matplotlib.pyplot as plt\n",
    "import seaborn as sns"
   ]
  },
  {
   "cell_type": "markdown",
   "id": "JtrFlQPAcZMn",
   "metadata": {
    "id": "JtrFlQPAcZMn"
   },
   "source": [
    "**Display cor-relation matrix (1 mark)**"
   ]
  },
  {
   "cell_type": "code",
   "execution_count": null,
   "id": "c7061cb7",
   "metadata": {
    "id": "c7061cb7"
   },
   "outputs": [],
   "source": [
    "file.corr()"
   ]
  },
  {
   "cell_type": "markdown",
   "id": "E7JyfLutciev",
   "metadata": {
    "id": "E7JyfLutciev"
   },
   "source": [
    "**Display the histogram of the dataframe (2 mark)**"
   ]
  },
  {
   "cell_type": "code",
   "execution_count": null,
   "id": "5cff1248",
   "metadata": {
    "id": "5cff1248"
   },
   "outputs": [],
   "source": [
    "file.plot.hist(bins=26, figsize=(15,6))\n",
    "plt.show()"
   ]
  },
  {
   "cell_type": "markdown",
   "id": "NKq9rRX1czld",
   "metadata": {
    "id": "NKq9rRX1czld"
   },
   "source": [
    "**Display the countplot for Gender at different Level (1 mark)**"
   ]
  },
  {
   "cell_type": "code",
   "execution_count": null,
   "id": "07c774e5",
   "metadata": {
    "id": "07c774e5"
   },
   "outputs": [],
   "source": [
    "sns.countplot(data=file, x='Level', hue='Gender')\n",
    "plt.show()"
   ]
  },
  {
   "cell_type": "markdown",
   "id": "AfeG6a5Oc7rd",
   "metadata": {
    "id": "AfeG6a5Oc7rd"
   },
   "source": [
    "**Display the countplot for Gender at different Smoking (1 mark)**"
   ]
  },
  {
   "cell_type": "code",
   "execution_count": null,
   "id": "7b16b330",
   "metadata": {
    "id": "7b16b330"
   },
   "outputs": [],
   "source": [
    "sns.countplot(data=file, x='Smoking', hue='Gender')\n",
    "plt.show()"
   ]
  },
  {
   "cell_type": "markdown",
   "id": "kZKeng17dEbz",
   "metadata": {
    "id": "kZKeng17dEbz"
   },
   "source": [
    "**Display a pie chart the % of different Level (1 mark)**"
   ]
  },
  {
   "cell_type": "code",
   "execution_count": null,
   "id": "dc5b2c84",
   "metadata": {
    "id": "dc5b2c84"
   },
   "outputs": [],
   "source": [
    "level_counts = file['Level'].value_counts()\n",
    "labels = level_counts.index\n",
    "sizes = level_counts.values\n",
    "explode = (0.1,0,0)\n",
    "plt.figure(figsize=(8, 6))\n",
    "plt.pie(sizes, labels=labels, explode=explode,autopct='%1.1f%%', shadow=True, startangle=140)\n",
    "plt.show()"
   ]
  },
  {
   "cell_type": "markdown",
   "id": "gVVxQgoHeABu",
   "metadata": {
    "id": "gVVxQgoHeABu"
   },
   "source": [
    "**Display a distribution plot for Level column (1 mark)**"
   ]
  },
  {
   "cell_type": "code",
   "execution_count": null,
   "id": "6cf5e07e",
   "metadata": {
    "id": "6cf5e07e"
   },
   "outputs": [],
   "source": [
    "sns.histplot(data=file, x='Level', discrete=True, kde=True)\n",
    "plt.show()"
   ]
  },
  {
   "cell_type": "markdown",
   "id": "LTV2pFp5eyr-",
   "metadata": {
    "id": "LTV2pFp5eyr-"
   },
   "source": [
    "**Display a line plot between Age and Level (1 mark)**"
   ]
  },
  {
   "cell_type": "code",
   "execution_count": null,
   "id": "22e29d87",
   "metadata": {
    "id": "22e29d87"
   },
   "outputs": [],
   "source": [
    "sns.lineplot(data=file, x='Age', y='Level', hue='Level', marker='o', sort=False)\n",
    "plt.show()"
   ]
  },
  {
   "cell_type": "markdown",
   "id": "PMP15fCie-gA",
   "metadata": {
    "id": "PMP15fCie-gA"
   },
   "source": [
    "**Display a line plot between Chest Pain and Level (1 mark)**"
   ]
  },
  {
   "cell_type": "code",
   "execution_count": null,
   "id": "1adf1d69",
   "metadata": {
    "id": "1adf1d69"
   },
   "outputs": [],
   "source": [
    "sns.lineplot(data=file, x='Chest Pain', y='Level', hue='Level', marker='o', sort=False)\n",
    "plt.show()"
   ]
  },
  {
   "cell_type": "markdown",
   "id": "7glZXrlzfNyv",
   "metadata": {
    "id": "7glZXrlzfNyv"
   },
   "source": [
    "**Display a scatter plot between Smoking and Shortness of Breath w.r.t Level (hue) (1 mark)**"
   ]
  },
  {
   "cell_type": "code",
   "execution_count": null,
   "id": "43a07e4b",
   "metadata": {
    "id": "43a07e4b"
   },
   "outputs": [],
   "source": [
    "sns.scatterplot(data=file, x='Smoking', y='Shortness of Breath', hue='Level')\n",
    "plt.show()"
   ]
  },
  {
   "cell_type": "markdown",
   "id": "kaMIGXF5fWyl",
   "metadata": {
    "id": "kaMIGXF5fWyl"
   },
   "source": [
    "**Display a scatter plot between Age and Gender w.r.t Level (hue) (1 mark)**"
   ]
  },
  {
   "cell_type": "code",
   "execution_count": null,
   "id": "b0a4ec1b",
   "metadata": {
    "id": "b0a4ec1b"
   },
   "outputs": [],
   "source": [
    "sns.scatterplot(data=file, x='Age', y='Gender', hue='Level')\n",
    "plt.show()"
   ]
  },
  {
   "cell_type": "markdown",
   "id": "hNFJFF5Kfi3G",
   "metadata": {
    "id": "hNFJFF5Kfi3G"
   },
   "source": [
    "**display a histogram plot between OccuPational Hazards and Gender (1 mark)**"
   ]
  },
  {
   "cell_type": "code",
   "execution_count": null,
   "id": "c050fdbf",
   "metadata": {
    "id": "c050fdbf"
   },
   "outputs": [],
   "source": [
    "sns.histplot(data=file, x='OccuPational Hazards',y='Gender',)\n",
    "plt.show()"
   ]
  },
  {
   "cell_type": "markdown",
   "id": "CjBJXBuNfnFW",
   "metadata": {
    "id": "CjBJXBuNfnFW"
   },
   "source": [
    "**Display a bar plot for obesity and coughing of blood (1 mark)**"
   ]
  },
  {
   "cell_type": "code",
   "execution_count": null,
   "id": "f528b99d",
   "metadata": {
    "id": "f528b99d"
   },
   "outputs": [],
   "source": [
    "plt.bar(file['Obesity'],file['Coughing of Blood'])\n",
    "plt.xlabel('obesity')\n",
    "plt.ylabel('coughing of blood')\n",
    "plt.show()"
   ]
  },
  {
   "cell_type": "markdown",
   "id": "_mizYaPQfuak",
   "metadata": {
    "id": "_mizYaPQfuak"
   },
   "source": [
    "**Display the boxplot for each feature of the dataframe (2 mark)**"
   ]
  },
  {
   "cell_type": "code",
   "execution_count": null,
   "id": "d87494b8",
   "metadata": {
    "id": "d87494b8"
   },
   "outputs": [],
   "source": [
    "file.plot(kind='box',subplots=True,layout=(5,5))\n",
    "plt.show()"
   ]
  },
  {
   "cell_type": "code",
   "execution_count": null,
   "id": "411974ae",
   "metadata": {},
   "outputs": [],
   "source": []
  }
 ],
 "metadata": {
  "colab": {
   "provenance": []
  },
  "kernelspec": {
   "display_name": "Python 3 (ipykernel)",
   "language": "python",
   "name": "python3"
  },
  "language_info": {
   "codemirror_mode": {
    "name": "ipython",
    "version": 3
   },
   "file_extension": ".py",
   "mimetype": "text/x-python",
   "name": "python",
   "nbconvert_exporter": "python",
   "pygments_lexer": "ipython3",
   "version": "3.11.3"
  }
 },
 "nbformat": 4,
 "nbformat_minor": 5
}
