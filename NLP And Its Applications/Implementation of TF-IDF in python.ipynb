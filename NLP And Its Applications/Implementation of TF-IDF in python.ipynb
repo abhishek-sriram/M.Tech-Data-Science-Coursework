{
 "cells": [
  {
   "cell_type": "code",
   "execution_count": null,
   "metadata": {
    "id": "ljn86wDXPzgH"
   },
   "outputs": [],
   "source": []
  },
  {
   "cell_type": "code",
   "execution_count": 1,
   "metadata": {
    "id": "SQOBXyZJPjOa"
   },
   "outputs": [],
   "source": [
    "import re\n",
    "import math\n",
    "from collections import defaultdict\n"
   ]
  },
  {
   "cell_type": "code",
   "execution_count": 2,
   "metadata": {
    "id": "u4ffYZ_WQGmE"
   },
   "outputs": [],
   "source": [
    "def preprocess_text(text):\n",
    "    # Lowercase the text\n",
    "    text = text.lower()\n",
    "    # Remove special characters and punctuation\n",
    "    text = re.sub(r'[^a-zA-Z0-9\\s]', '', text)\n",
    "    # Tokenize the text into words\n",
    "    words = text.split()\n",
    "    return words\n",
    "\n",
    "def create_bow(texts):\n",
    "    # Create a vocabulary set\n",
    "    vocabulary = set()\n",
    "    for text in texts:\n",
    "        words = preprocess_text(text)\n",
    "        vocabulary.update(words)\n",
    "\n",
    "    # Sort vocabulary to ensure consistent ordering\n",
    "    vocabulary = sorted(vocabulary)\n",
    "\n",
    "    # Create the BoW representation\n",
    "    bow = []\n",
    "    for text in texts:\n",
    "        words = preprocess_text(text)\n",
    "        text_bow = {word: words.count(word) for word in vocabulary}\n",
    "        bow.append(text_bow)\n",
    "\n",
    "    return bow, vocabulary\n"
   ]
  },
  {
   "cell_type": "code",
   "execution_count": 3,
   "metadata": {
    "id": "8tAqlw23QNK-"
   },
   "outputs": [],
   "source": [
    "\n",
    "def calculate_tf(bow, vocabulary):\n",
    "    tf = []\n",
    "    for text_bow in bow:\n",
    "        text_tf = {}\n",
    "        word_count = sum(text_bow.values())\n",
    "        for word in vocabulary:\n",
    "            text_tf[word] = text_bow.get(word, 0) / word_count\n",
    "        tf.append(text_tf)\n",
    "    return tf\n",
    "\n"
   ]
  },
  {
   "cell_type": "code",
   "execution_count": 4,
   "metadata": {
    "id": "GwFzgUsrQSNE"
   },
   "outputs": [],
   "source": [
    "def calculate_idf(bow, vocabulary):\n",
    "    num_docs = len(bow)\n",
    "    idf = {}\n",
    "    for word in vocabulary:\n",
    "        doc_count = sum(1 for doc in bow if doc.get(word, 0) > 0)\n",
    "        idf[word] = math.log((num_docs + 1) / (doc_count + 1)) + 1  # Smoothed IDF\n",
    "    return idf\n",
    "\n"
   ]
  },
  {
   "cell_type": "code",
   "execution_count": 5,
   "metadata": {
    "id": "qbjkx1gyQUt3"
   },
   "outputs": [],
   "source": [
    "def calculate_tf_idf(tf, idf):\n",
    "    tf_idf = []\n",
    "    for text_tf in tf:\n",
    "        text_tf_idf = {word: text_tf[word] * idf[word] for word in text_tf}\n",
    "        tf_idf.append(text_tf_idf)\n",
    "    return tf_idf\n"
   ]
  },
  {
   "cell_type": "code",
   "execution_count": 6,
   "metadata": {
    "id": "I51vOKijQW6V"
   },
   "outputs": [],
   "source": [
    "# Example usage\n",
    "texts = [\n",
    "    \"The rain in Spain falls mainly on the plain.\",\n",
    "    \"The sun shines brightly in the summer sky.\",\n",
    "    \"A dog barked loudly in the quiet night.\"\n",
    "]\n",
    "\n",
    "# Generate BoW and vocabulary\n",
    "bow, vocabulary = create_bow(texts)\n",
    "\n"
   ]
  },
  {
   "cell_type": "code",
   "execution_count": 7,
   "metadata": {
    "colab": {
     "base_uri": "https://localhost:8080/"
    },
    "id": "MCDZWm60QbT1",
    "outputId": "fa92f7ec-1d3a-4da5-c701-5a092ca516bc"
   },
   "outputs": [
    {
     "name": "stdout",
     "output_type": "stream",
     "text": [
      "Vocabulary: ['a', 'barked', 'brightly', 'dog', 'falls', 'in', 'loudly', 'mainly', 'night', 'on', 'plain', 'quiet', 'rain', 'shines', 'sky', 'spain', 'summer', 'sun', 'the']\n",
      "TF-IDF representation:\n",
      "{'a': 0.0, 'barked': 0.0, 'brightly': 0.0, 'dog': 0.0, 'falls': 0.1881274645066606, 'in': 0.1111111111111111, 'loudly': 0.0, 'mainly': 0.1881274645066606, 'night': 0.0, 'on': 0.1881274645066606, 'plain': 0.1881274645066606, 'quiet': 0.0, 'rain': 0.1881274645066606, 'shines': 0.0, 'sky': 0.0, 'spain': 0.1881274645066606, 'summer': 0.0, 'sun': 0.0, 'the': 0.2222222222222222}\n",
      "{'a': 0.0, 'barked': 0.0, 'brightly': 0.21164339756999317, 'dog': 0.0, 'falls': 0.0, 'in': 0.125, 'loudly': 0.0, 'mainly': 0.0, 'night': 0.0, 'on': 0.0, 'plain': 0.0, 'quiet': 0.0, 'rain': 0.0, 'shines': 0.21164339756999317, 'sky': 0.21164339756999317, 'spain': 0.0, 'summer': 0.21164339756999317, 'sun': 0.21164339756999317, 'the': 0.25}\n",
      "{'a': 0.21164339756999317, 'barked': 0.21164339756999317, 'brightly': 0.0, 'dog': 0.21164339756999317, 'falls': 0.0, 'in': 0.125, 'loudly': 0.21164339756999317, 'mainly': 0.0, 'night': 0.21164339756999317, 'on': 0.0, 'plain': 0.0, 'quiet': 0.21164339756999317, 'rain': 0.0, 'shines': 0.0, 'sky': 0.0, 'spain': 0.0, 'summer': 0.0, 'sun': 0.0, 'the': 0.125}\n"
     ]
    }
   ],
   "source": [
    "# Calculate TF, IDF, and TF-IDF\n",
    "tf = calculate_tf(bow, vocabulary)\n",
    "idf = calculate_idf(bow, vocabulary)\n",
    "tf_idf = calculate_tf_idf(tf, idf)\n",
    "\n",
    "print(\"Vocabulary:\", vocabulary)\n",
    "print(\"TF-IDF representation:\")\n",
    "for text_tf_idf in tf_idf:\n",
    "    print(text_tf_idf)"
   ]
  },
  {
   "cell_type": "code",
   "execution_count": null,
   "metadata": {
    "id": "GLrGFPbxQcm4"
   },
   "outputs": [],
   "source": []
  }
 ],
 "metadata": {
  "colab": {
   "provenance": []
  },
  "kernelspec": {
   "display_name": "Python 3 (ipykernel)",
   "language": "python",
   "name": "python3"
  },
  "language_info": {
   "codemirror_mode": {
    "name": "ipython",
    "version": 3
   },
   "file_extension": ".py",
   "mimetype": "text/x-python",
   "name": "python",
   "nbconvert_exporter": "python",
   "pygments_lexer": "ipython3",
   "version": "3.11.7"
  }
 },
 "nbformat": 4,
 "nbformat_minor": 4
}
