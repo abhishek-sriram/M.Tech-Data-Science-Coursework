{
 "cells": [
  {
   "cell_type": "code",
   "execution_count": 1,
   "metadata": {
    "id": "ec0HejKL8cuo"
   },
   "outputs": [],
   "source": [
    "import numpy as np"
   ]
  },
  {
   "cell_type": "code",
   "execution_count": 2,
   "metadata": {
    "id": "sObQ08yK8pGx"
   },
   "outputs": [],
   "source": [
    "def sigmoid(x):\n",
    "  return 1 / (1 + np.exp(-x))"
   ]
  },
  {
   "cell_type": "code",
   "execution_count": 3,
   "metadata": {
    "id": "3JFnar1w88hy"
   },
   "outputs": [],
   "source": [
    "input_vector = np.array([1,2,3])\n",
    "hidden_state = np.array([4,5,6])"
   ]
  },
  {
   "cell_type": "code",
   "execution_count": 4,
   "metadata": {
    "id": "FwkiVGTM9Lgd"
   },
   "outputs": [],
   "source": [
    "weights = {\n",
    "    'Wi': np.array([[1,1,1,1,1,1],[2,2,2,2,2,2],[3,3,3,3,3,3]]).T,\n",
    "    'Wf': np.array([[0,0,0,0,0,-1],[5,6,7,8,9,10],[3,4,5,6,7,8]]).T,\n",
    "    'Wo': None,\n",
    "    'Wc': np.array([[1,1,1,1,1,1],[2,2,2,2,2,2],[-3,-3,-3,-3,-3,-3]]).T,\n",
    "    'bi': np.array([1,1,1]),\n",
    "    'bf': np.array([1,2,3]),\n",
    "    'bo': None,\n",
    "    'bc': np.array([1,1,1]),\n",
    "}"
   ]
  },
  {
   "cell_type": "code",
   "execution_count": 5,
   "metadata": {
    "id": "OZIqG93c_sQ8"
   },
   "outputs": [],
   "source": [
    "cell_state = np.array([5,5,5])"
   ]
  },
  {
   "cell_type": "code",
   "execution_count": 6,
   "metadata": {
    "colab": {
     "base_uri": "https://localhost:8080/"
    },
    "id": "lHFRXxmADfD8",
    "outputId": "a14fd2f1-30c5-4b8f-b346-f801d02066f4"
   },
   "outputs": [
    {
     "name": "stdout",
     "output_type": "stream",
     "text": [
      "[1 2 3 4 5 6]\n"
     ]
    }
   ],
   "source": [
    "# Concatenate input and previous hidden state\n",
    "combined = np.concatenate((input_vector, hidden_state))\n",
    "print(combined)"
   ]
  },
  {
   "cell_type": "code",
   "execution_count": 7,
   "metadata": {
    "colab": {
     "base_uri": "https://localhost:8080/"
    },
    "id": "3H6Y9GsTDgLH",
    "outputId": "af139cd2-d4a8-4404-8694-940575dc0550"
   },
   "outputs": [
    {
     "name": "stdout",
     "output_type": "stream",
     "text": [
      "[1. 1. 1.]\n"
     ]
    }
   ],
   "source": [
    "# Input gate\n",
    "i_t = sigmoid(np.dot(combined, weights['Wi']) + weights['bi'])\n",
    "print(i_t)"
   ]
  },
  {
   "cell_type": "code",
   "execution_count": 8,
   "metadata": {
    "colab": {
     "base_uri": "https://localhost:8080/"
    },
    "id": "pEk1LJvrDhfs",
    "outputId": "4dd9f124-6c6b-4eec-f4b7-3adc79e5c8dd"
   },
   "outputs": [
    {
     "name": "stdout",
     "output_type": "stream",
     "text": [
      "[0.00669285 1.         1.        ]\n"
     ]
    }
   ],
   "source": [
    "# Forget gate\n",
    "f_t = sigmoid(np.dot(combined, weights['Wf']) + weights['bf'])\n",
    "print(f_t)"
   ]
  },
  {
   "cell_type": "code",
   "execution_count": 9,
   "metadata": {
    "id": "skGsryPoDi3C"
   },
   "outputs": [],
   "source": [
    "# Output gate\n",
    "# o_t = sigmoid(np.dot(combined, weights['Wo']) + weights['bo'])\n",
    "o_t = np.array([0,0.5,1])"
   ]
  },
  {
   "cell_type": "code",
   "execution_count": 10,
   "metadata": {
    "colab": {
     "base_uri": "https://localhost:8080/"
    },
    "id": "-6nUOuliDkJB",
    "outputId": "ce5c305a-5c77-44c9-b053-5c68b61f7d77"
   },
   "outputs": [
    {
     "name": "stdout",
     "output_type": "stream",
     "text": [
      "[ 1.  1. -1.]\n"
     ]
    }
   ],
   "source": [
    "# Cell update\n",
    "g_t = np.tanh(np.dot(combined, weights['Wc']) + weights['bc'])\n",
    "print(g_t)"
   ]
  },
  {
   "cell_type": "code",
   "execution_count": 11,
   "metadata": {
    "colab": {
     "base_uri": "https://localhost:8080/"
    },
    "id": "s-10PdnZDlKb",
    "outputId": "01ca9680-2cb0-41f8-a231-e869356792be"
   },
   "outputs": [
    {
     "name": "stdout",
     "output_type": "stream",
     "text": [
      "[1.03346425 6.         4.        ]\n"
     ]
    }
   ],
   "source": [
    "# Update cell state\n",
    "cell_state = f_t * cell_state + i_t * g_t\n",
    "print(cell_state)"
   ]
  },
  {
   "cell_type": "code",
   "execution_count": 12,
   "metadata": {
    "colab": {
     "base_uri": "https://localhost:8080/"
    },
    "id": "X760sMGo8mzO",
    "outputId": "d84504e7-4b5e-427b-d44b-3b1c4c1a8572"
   },
   "outputs": [
    {
     "name": "stdout",
     "output_type": "stream",
     "text": [
      "[0.         0.49999386 0.9993293 ]\n"
     ]
    }
   ],
   "source": [
    "# Hidden state\n",
    "hidden_state = o_t * np.tanh(cell_state)\n",
    "print(hidden_state)"
   ]
  },
  {
   "cell_type": "code",
   "execution_count": null,
   "metadata": {
    "id": "_TLHuMflDJMv"
   },
   "outputs": [],
   "source": []
  }
 ],
 "metadata": {
  "colab": {
   "provenance": []
  },
  "kernelspec": {
   "display_name": "Python 3 (ipykernel)",
   "language": "python",
   "name": "python3"
  },
  "language_info": {
   "codemirror_mode": {
    "name": "ipython",
    "version": 3
   },
   "file_extension": ".py",
   "mimetype": "text/x-python",
   "name": "python",
   "nbconvert_exporter": "python",
   "pygments_lexer": "ipython3",
   "version": "3.11.7"
  }
 },
 "nbformat": 4,
 "nbformat_minor": 4
}
