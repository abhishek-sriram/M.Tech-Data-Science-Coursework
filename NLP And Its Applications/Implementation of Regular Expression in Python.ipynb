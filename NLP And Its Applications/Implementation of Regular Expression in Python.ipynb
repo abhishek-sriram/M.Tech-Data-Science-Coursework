{
 "cells": [
  {
   "cell_type": "code",
   "execution_count": 9,
   "id": "381341d0-2bd9-4b82-902b-0b6b87ee0652",
   "metadata": {},
   "outputs": [
    {
     "name": "stdout",
     "output_type": "stream",
     "text": [
      "['78', '82']\n",
      "<re.Match object; span=(28, 30), match='78'>\n"
     ]
    }
   ],
   "source": [
    "# 1. Print all 2 digit Numbers from the given sentence:\n",
    "import re\n",
    "pattern = r\"\\d{2}\" # To Print all two digit numbers\n",
    "text =  \"The score of the player was 78 runs from 82 balls\"\n",
    "print(re.findall(pattern,text))\n",
    "print(re.search(pattern,text))"
   ]
  },
  {
   "cell_type": "code",
   "execution_count": null,
   "id": "257579e1-923f-48f8-81db-8eb8fb869da0",
   "metadata": {},
   "outputs": [],
   "source": [
    "# Inference: \n",
    "Inference for the Code\n",
    "Code is written to identify and extract 2-digit numbers from a given text using Python's re (regular expression) module. \n",
    "Details of this functionality:\n",
    "\n",
    "Regular Expression Pattern (r\"\\d{2}\"):\n",
    "\n",
    "The pattern r\"\\d{2}\" is used to match sequences of exactly two digits in the text.\n",
    "This pattern will identify any contiguous sequence of two digits, but it does not ensure that these digits are standalone numbers, as it lacks word boundaries. \n",
    "As a result, it might capture part of longer numbers if they contain 2-digit segments.\n",
    "\n",
    "re.findall() Function:\n",
    "re.findall(pattern, text) searches through the entire input text and returns a list of all substrings that match the pattern.\n",
    "In this case, it will return a list of all 2-digit sequences found in the text. \n",
    "For the given text, this would include all occurrences where exactly two consecutive digits are found.\n",
    "\n",
    "re.search() Function:\n",
    "re.search(pattern, text) scans through the text and returns the first match of the pattern.\n",
    "If a 2-digit number is found, re.search() will return a match object containing the matched string. If no match is found, it returns None."
   ]
  },
  {
   "cell_type": "code",
   "execution_count": 10,
   "id": "09bc9dac-9614-4ebb-aec3-52e316485052",
   "metadata": {},
   "outputs": [
    {
     "name": "stdout",
     "output_type": "stream",
     "text": [
      "['78', '82']\n"
     ]
    }
   ],
   "source": [
    "# 2. Matches sequences of 2 or 3 digits\n",
    "pattern = r\"\\b\\d{2,3}\\b\" #Matches sequences of 2 or 3 digits\n",
    "text =  \"The score of the player wad 78 runs from 82 balls in 8 overs 1234 \"\n",
    "print(re.findall(pattern,text))"
   ]
  },
  {
   "cell_type": "code",
   "execution_count": null,
   "id": "6142f45a-b1b7-40f3-8c8e-7c6e96ba1995",
   "metadata": {},
   "outputs": [],
   "source": [
    "# Inference:\n",
    "The regex pattern r\"\\b\\d{2,3}\\b\" successfully extracts sequences of exactly 2 or 3 digits that are not part of larger numbers or words.\n",
    "\\b: This represents a word boundary. It ensures that the match is a discrete unit, i.e., the sequence of digits should not be part of a larger word or number.\n",
    "\\d{2,3}: This matches sequences of digits with a length of either 2 or 3 digits.\n",
    "\\b: The final word boundary ensures that the sequence of digits ends at a boundary, making sure it’s not part of a longer sequence of digits."
   ]
  },
  {
   "cell_type": "code",
   "execution_count": 11,
   "id": "cf3ad74b-571e-4b56-b61a-f7b2612a9a19",
   "metadata": {},
   "outputs": [
    {
     "name": "stdout",
     "output_type": "stream",
     "text": [
      "['78', '82', '8', '1234']\n"
     ]
    }
   ],
   "source": [
    "# 2. a. To check for any digits \n",
    "pattern = r\"\\b\\d+\\b\"  # Matches any sequence of digits, with at least one digit\n",
    "text = \"The score of the player was 78 runs from 82 balls in 8 overs 1234\"\n",
    "matches = re.findall(pattern, text)\n",
    "print(matches)"
   ]
  },
  {
   "cell_type": "code",
   "execution_count": 12,
   "id": "ef20eaca-bbf4-45db-bc5e-fc8a61fc0d6c",
   "metadata": {},
   "outputs": [
    {
     "name": "stdout",
     "output_type": "stream",
     "text": [
      "['T', 'h', 'e', 's', 'c', 'o', 'r', 'e', 'o', 'f', 't', 'h', 'e', 'p', 'l', 'a', 'y', 'e', 'r', 'w', 'a', 'd', '7', '8', 'r', 'u', 'n', 's', 'f', 'r', 'o', 'm', '8', '2', 'b', 'a', 'l', 'l', 's']\n"
     ]
    }
   ],
   "source": [
    "# 3. To check Whitespace characters in the sentence\n",
    "pattern = r\"\\S\" \n",
    "text =  \"The score of the player wad 78 runs from 82 balls\"\n",
    "print(re.findall(pattern,text))"
   ]
  },
  {
   "cell_type": "code",
   "execution_count": null,
   "id": "35682fe7-8d11-4239-866d-a6a84320e47d",
   "metadata": {},
   "outputs": [],
   "source": [
    "#Inference: \n",
    "Regular Expression Pattern (r\"\\S\"):\n",
    "\\S: This pattern matches any non-whitespace character. Whitespace characters include spaces, tabs, newlines, etc. \n",
    "The \\S pattern will match letters, digits, punctuation, and other characters that are not considered whitespace."
   ]
  },
  {
   "cell_type": "code",
   "execution_count": 14,
   "id": "58678821-8f04-428b-99c3-5a86908d9286",
   "metadata": {},
   "outputs": [
    {
     "name": "stdout",
     "output_type": "stream",
     "text": [
      "['T', 'h', 'e', ' ', 's', 'c', 'o', 'r', 'e', ' ', 'o', 'f', ' ', 't', 'h', 'e', ' ', 'p', 'l', 'a', 'y', 'e', 'r', ' ', 'w', 'a', 'd', ' ', '7', '8', ' ', 'r', 'u', 'n', 's', ' ', 'f', 'r', 'o', 'm', ' ', '8', '2', ' ', 'b', 'a', 'l', 'l', 's']\n"
     ]
    }
   ],
   "source": [
    "#4. To check any single character except newline\n",
    "pattern = r\".\" \n",
    "text =  \"The score of the player wad 78 runs from 82 balls\"\n",
    "print(re.findall(pattern,text))"
   ]
  },
  {
   "cell_type": "code",
   "execution_count": null,
   "id": "6f5e2121-9003-41d1-af44-1d43324b88f4",
   "metadata": {},
   "outputs": [],
   "source": [
    "#Inference: \n",
    "Pattern: r\".\" - . matches any single character except newline."
   ]
  },
  {
   "cell_type": "code",
   "execution_count": 15,
   "id": "43455c29-b98f-4fea-a854-8d2d7c389795",
   "metadata": {},
   "outputs": [
    {
     "name": "stdout",
     "output_type": "stream",
     "text": [
      "[' ', ' ', ' ', ' ', ' ', ' ', ' ', ' ', ' ', ' ']\n"
     ]
    }
   ],
   "source": [
    "#5. To match any non-word character\n",
    "pattern = r\"\\W\"\n",
    "text =  \"The score of the player wad 78 runs from 82 balls\"\n",
    "print(re.findall(pattern,text))"
   ]
  },
  {
   "cell_type": "code",
   "execution_count": null,
   "id": "bb8063ee-ca08-4195-9482-9e5b62444047",
   "metadata": {},
   "outputs": [],
   "source": [
    "#Inference:\n",
    "In regular expressions, the pattern r\"\\W\" matches any non-word character.\n",
    "A word character is defined as a letter (a-z, A-Z), a digit (0-9), or an underscore (_).\n",
    "Thus, \\W matches anything that is not a letter, digit, or underscore."
   ]
  },
  {
   "cell_type": "code",
   "execution_count": 16,
   "id": "4b86c4a3-3be0-4e03-89a6-315837893885",
   "metadata": {},
   "outputs": [
    {
     "name": "stdout",
     "output_type": "stream",
     "text": [
      "['c1']\n"
     ]
    }
   ],
   "source": [
    "#6. check all characters between \"a\" to \"c\"\n",
    "pattern = r\"[a-z][0-9]\" \n",
    "text =  \"The score of the player wad 78 runs ac12 from 82 balls\"\n",
    "print(re.findall(pattern,text))"
   ]
  },
  {
   "cell_type": "code",
   "execution_count": null,
   "id": "67225f6e-8d02-4790-94cc-33fcc9d990d9",
   "metadata": {},
   "outputs": [],
   "source": [
    "#Inference\n",
    "Pattern r\"[a-z][0-9]\" is used to find sequences in the text where a lowercase letter (from 'a' to 'z') \n",
    "It is immediately followed by a digit (from '0' to '9')"
   ]
  },
  {
   "cell_type": "code",
   "execution_count": 17,
   "id": "8f25ca3a-217f-4c31-be7e-69d3acc44e48",
   "metadata": {},
   "outputs": [
    {
     "name": "stdout",
     "output_type": "stream",
     "text": [
      "['T', 'S', 'O']\n"
     ]
    }
   ],
   "source": [
    "# 7. check all characters between \"A\" to \"Z\"\n",
    "pattern = r\"[A-Z]\" \n",
    "text =  \"The Score Of the player wad 78 runs from 82 balls\"\n",
    "print(re.findall(pattern,text))"
   ]
  },
  {
   "cell_type": "code",
   "execution_count": null,
   "id": "0ab7b86f-746b-4809-96fd-2094bd991ef0",
   "metadata": {},
   "outputs": [],
   "source": [
    "#Inference\n",
    "Pattern r\"[A-Z]\" is used to find sequences in the text where a UPPERcase letter (from 'A' to 'Z')"
   ]
  },
  {
   "cell_type": "code",
   "execution_count": 18,
   "id": "e64bea61-9f7f-406d-b356-937cef9222d2",
   "metadata": {},
   "outputs": [
    {
     "name": "stdout",
     "output_type": "stream",
     "text": [
      "['score']\n"
     ]
    }
   ],
   "source": [
    "#8. To check a word\n",
    "pattern = r\"\\bscore\\b\" #check a word\n",
    "text =  \"The score of the player wad 78 runs from 82 balls play\"\n",
    "print(re.findall(pattern,text))"
   ]
  },
  {
   "cell_type": "code",
   "execution_count": null,
   "id": "8d260228-875d-4cef-90cf-4982873d922d",
   "metadata": {},
   "outputs": [],
   "source": [
    "#Inference: To print the word score from the sentences"
   ]
  },
  {
   "cell_type": "code",
   "execution_count": 19,
   "id": "36b7f88d-fd6d-4085-9a2a-e2947cdd76e9",
   "metadata": {},
   "outputs": [
    {
     "name": "stdout",
     "output_type": "stream",
     "text": [
      "['runs']\n"
     ]
    }
   ],
   "source": [
    "#9. start and end of string\n",
    "pattern = r\"runs$\" #check any character\n",
    "text =  \"Score of the player wad 78 runs\"\n",
    "print(re.findall(pattern,text))"
   ]
  },
  {
   "cell_type": "code",
   "execution_count": null,
   "id": "043af771-dd13-4d8b-a4ba-c0cc76d6883b",
   "metadata": {},
   "outputs": [],
   "source": [
    "#Inference: To chcek any character that start and end of the string \"runs\""
   ]
  },
  {
   "cell_type": "code",
   "execution_count": 20,
   "id": "ccbece77-b102-416a-96bb-f8ff26f46d1b",
   "metadata": {},
   "outputs": [
    {
     "name": "stdout",
     "output_type": "stream",
     "text": [
      "['The', 'th', 'The']\n"
     ]
    }
   ],
   "source": [
    "# 10. To check whereever he is there -  zero or more occurances of \"e\" followed by \"th\"\n",
    "pattern = r\"the*\" \n",
    "text =  \"The Score of th player Their was 78 runs from 82 balls\"\n",
    "print(re.findall(pattern,text,re.IGNORECASE))"
   ]
  },
  {
   "cell_type": "code",
   "execution_count": null,
   "id": "74322cf5-8d84-4424-bf25-0fa87d7576ca",
   "metadata": {},
   "outputs": [],
   "source": []
  }
 ],
 "metadata": {
  "kernelspec": {
   "display_name": "Python 3 (ipykernel)",
   "language": "python",
   "name": "python3"
  },
  "language_info": {
   "codemirror_mode": {
    "name": "ipython",
    "version": 3
   },
   "file_extension": ".py",
   "mimetype": "text/x-python",
   "name": "python",
   "nbconvert_exporter": "python",
   "pygments_lexer": "ipython3",
   "version": "3.11.7"
  }
 },
 "nbformat": 4,
 "nbformat_minor": 5
}
