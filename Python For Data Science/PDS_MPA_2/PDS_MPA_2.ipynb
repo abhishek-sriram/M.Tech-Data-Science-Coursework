{
 "cells": [
  {
   "cell_type": "code",
   "execution_count": 59,
   "id": "9b949514",
   "metadata": {
    "id": "9b949514"
   },
   "outputs": [],
   "source": [
    "import pandas as pd\n",
    "import numpy as np"
   ]
  },
  {
   "cell_type": "raw",
   "id": "5e1b63fd",
   "metadata": {
    "id": "5e1b63fd"
   },
   "source": [
    "1. create the following two dimensional arrays\n",
    "\n",
    "[[1., 0., 0., 0., 0.],\n",
    "       [0., 1., 0., 0., 0.],\n",
    "       [0., 0., 1., 0., 0.],\n",
    "       [0., 0., 0., 1., 0.],\n",
    "       [0., 0., 0., 0., 1.]]\n",
    "2. [[1, 0, 0, 0],\n",
    "       [0, 2, 0, 0],\n",
    "       [0, 0, 3, 0],\n",
    "       [0, 0, 0, 4]]\n",
    "3. Create a checkerboard pattern in an array using row and col slicing\n"
   ]
  },
  {
   "cell_type": "code",
   "execution_count": 2,
   "id": "387570e3",
   "metadata": {},
   "outputs": [
    {
     "name": "stdout",
     "output_type": "stream",
     "text": [
      "[[1. 0. 0. 0. 0.]\n",
      " [0. 1. 0. 0. 0.]\n",
      " [0. 0. 1. 0. 0.]\n",
      " [0. 0. 0. 1. 0.]\n",
      " [0. 0. 0. 0. 1.]]\n"
     ]
    }
   ],
   "source": [
    "1. #Identity matrix with 5 rows and 5 columns:\n",
    "array1 = np.eye(5)\n",
    "print(array1)"
   ]
  },
  {
   "cell_type": "code",
   "execution_count": 26,
   "id": "21714add",
   "metadata": {},
   "outputs": [
    {
     "name": "stdout",
     "output_type": "stream",
     "text": [
      "[[1 0 0 0]\n",
      " [0 2 0 0]\n",
      " [0 0 3 0]\n",
      " [0 0 0 4]]\n"
     ]
    }
   ],
   "source": [
    "# 2. Diag matrix with value\n",
    "array2 = np.diag([1, 2, 3, 4])\n",
    "print(array2)"
   ]
  },
  {
   "cell_type": "code",
   "execution_count": 25,
   "id": "a527d922",
   "metadata": {},
   "outputs": [
    {
     "name": "stdout",
     "output_type": "stream",
     "text": [
      "[[0. 1. 0. 1. 0.]\n",
      " [0. 0. 0. 0. 0.]\n",
      " [0. 1. 0. 1. 0.]\n",
      " [0. 0. 0. 0. 0.]\n",
      " [0. 1. 0. 1. 0.]]\n"
     ]
    }
   ],
   "source": [
    "#3. Create a checkerboard pattern in an array using row and col slicing\n",
    "array3 = np.zeros((5,5))\n",
    "#print(array3)\n",
    "#array3[1::2, ::2] = 1  # Odd rows, even columns\n",
    "array3[::2, 1::2] = 1  # Even rows, odd columns\n",
    "\n",
    "print(array3)"
   ]
  },
  {
   "cell_type": "raw",
   "id": "b57ec644",
   "metadata": {
    "id": "b57ec644"
   },
   "source": [
    "4. Compute the no of bytes occupied in the memory for an array of numbers from 1 to 10"
   ]
  },
  {
   "cell_type": "code",
   "execution_count": 27,
   "id": "44193768",
   "metadata": {},
   "outputs": [
    {
     "name": "stdout",
     "output_type": "stream",
     "text": [
      "Array: [ 1  2  3  4  5  6  7  8  9 10]\n",
      "Size of the array in bytes: 40 bytes\n"
     ]
    }
   ],
   "source": [
    "# Create an array of numbers from 1 to 10\n",
    "array_numbers = np.arange(1, 11)\n",
    "\n",
    "# Print the array\n",
    "print(\"Array:\", array_numbers)\n",
    "\n",
    "# Calculate the size of the array in bytes\n",
    "size_in_bytes = array_numbers.nbytes\n",
    "\n",
    "print(f\"Size of the array in bytes: {size_in_bytes} bytes\")"
   ]
  },
  {
   "cell_type": "raw",
   "id": "3b270eab",
   "metadata": {
    "id": "3b270eab"
   },
   "source": [
    "5. img=[[200,210,209],[213,0,214],[214,215,217]]\n",
    "\n",
    "Given a snap shot of the image, estimate the centre pixel with mean,median values."
   ]
  },
  {
   "cell_type": "code",
   "execution_count": 28,
   "id": "7dff7478",
   "metadata": {},
   "outputs": [
    {
     "name": "stdout",
     "output_type": "stream",
     "text": [
      "Mean value of the image: 188.0\n",
      "Median value of the image: 213.0\n"
     ]
    }
   ],
   "source": [
    "# Given image snapshot\n",
    "img = np.array([[200, 210, 209],\n",
    "                [213, 0, 214],\n",
    "                [214, 215, 217]])\n",
    "\n",
    "# Calculate mean and median\n",
    "mean_value = np.mean(img)\n",
    "median_value = np.median(img)\n",
    "\n",
    "# Print the results\n",
    "print(f\"Mean value of the image: {mean_value}\")\n",
    "print(f\"Median value of the image: {median_value}\")"
   ]
  },
  {
   "cell_type": "raw",
   "id": "0a925b91",
   "metadata": {
    "id": "0a925b91"
   },
   "source": [
    "6. create a Pandas series to store the marks of students and filter the marks >50,>70,>90"
   ]
  },
  {
   "cell_type": "code",
   "execution_count": 50,
   "id": "28558975",
   "metadata": {},
   "outputs": [
    {
     "name": "stdout",
     "output_type": "stream",
     "text": [
      "The students Marks are:\n",
      " 0    10\n",
      "1    20\n",
      "2    30\n",
      "3    40\n",
      "4    50\n",
      "5    60\n",
      "6    70\n",
      "7    80\n",
      "8    90\n",
      "dtype: int32\n",
      "Students Marks >50 are:\n",
      " 5    60\n",
      "6    70\n",
      "7    80\n",
      "8    90\n",
      "dtype: int32\n",
      "Students Marks >70 are:\n",
      " 7    80\n",
      "8    90\n",
      "dtype: int32\n",
      "Students Marks >90 are:\n",
      " Series([], dtype: int32)\n"
     ]
    }
   ],
   "source": [
    "ser =pd.Series(np.arange(10, 100, 10))\n",
    "print(\"The students Marks are:\\n\", ser)\n",
    "print(f\"Students Marks >50 are:\\n {ser[ser>50]}\")\n",
    "print(f\"Students Marks >70 are:\\n {ser[ser>70]}\")\n",
    "print(f\"Students Marks >90 are:\\n {ser[ser>90]}\")"
   ]
  },
  {
   "cell_type": "raw",
   "id": "b023f3a9",
   "metadata": {
    "id": "b023f3a9"
   },
   "source": [
    "7.Create data frame given below to store student info from the numpy arrays defined"
   ]
  },
  {
   "cell_type": "code",
   "execution_count": 75,
   "id": "d9e17aa8",
   "metadata": {
    "id": "d9e17aa8",
    "outputId": "a3cb33b5-36d9-4f23-87d0-bdc14aae388c"
   },
   "outputs": [],
   "source": [
    "name=np.array(['kevin','john','hari'])\n",
    "age=np.array([23,21,22])\n",
    "gender=np.array(['m','m','f'])\n",
    "state=np.array(['TN','KL','KN'])\n",
    "cgpa=np.array([9,8,7])"
   ]
  },
  {
   "cell_type": "code",
   "execution_count": 79,
   "id": "941bbf89",
   "metadata": {},
   "outputs": [
    {
     "data": {
      "text/html": [
       "<div>\n",
       "<style scoped>\n",
       "    .dataframe tbody tr th:only-of-type {\n",
       "        vertical-align: middle;\n",
       "    }\n",
       "\n",
       "    .dataframe tbody tr th {\n",
       "        vertical-align: top;\n",
       "    }\n",
       "\n",
       "    .dataframe thead th {\n",
       "        text-align: right;\n",
       "    }\n",
       "</style>\n",
       "<table border=\"1\" class=\"dataframe\">\n",
       "  <thead>\n",
       "    <tr style=\"text-align: right;\">\n",
       "      <th></th>\n",
       "      <th>Name</th>\n",
       "      <th>Age</th>\n",
       "      <th>Gender</th>\n",
       "      <th>State</th>\n",
       "      <th>CGPA</th>\n",
       "    </tr>\n",
       "  </thead>\n",
       "  <tbody>\n",
       "    <tr>\n",
       "      <th>0</th>\n",
       "      <td>kevin</td>\n",
       "      <td>23</td>\n",
       "      <td>m</td>\n",
       "      <td>TN</td>\n",
       "      <td>9</td>\n",
       "    </tr>\n",
       "    <tr>\n",
       "      <th>1</th>\n",
       "      <td>john</td>\n",
       "      <td>21</td>\n",
       "      <td>m</td>\n",
       "      <td>KL</td>\n",
       "      <td>8</td>\n",
       "    </tr>\n",
       "    <tr>\n",
       "      <th>2</th>\n",
       "      <td>hari</td>\n",
       "      <td>22</td>\n",
       "      <td>f</td>\n",
       "      <td>KN</td>\n",
       "      <td>7</td>\n",
       "    </tr>\n",
       "  </tbody>\n",
       "</table>\n",
       "</div>"
      ],
      "text/plain": [
       "    Name  Age Gender State  CGPA\n",
       "0  kevin   23      m    TN     9\n",
       "1   john   21      m    KL     8\n",
       "2   hari   22      f    KN     7"
      ]
     },
     "execution_count": 79,
     "metadata": {},
     "output_type": "execute_result"
    }
   ],
   "source": [
    "df=pd.DataFrame({'Name':name,'Age':age,'Gender':gender,'State':state,'CGPA':cgpa})\n",
    "df"
   ]
  },
  {
   "cell_type": "code",
   "execution_count": 78,
   "id": "9902cf25",
   "metadata": {},
   "outputs": [
    {
     "name": "stdout",
     "output_type": "stream",
     "text": [
      "    name  age gender state  cgpa\n",
      "0  kevin   23      m    TN     9\n",
      "1   john   21      m    KL     8\n",
      "2   hari   22      f    KN     7\n"
     ]
    }
   ],
   "source": [
    "#df=pd.DataFrame({'name':['kevin','john','hari'], 'age':[23,21,22], 'gender':['m','m','f'],'state':['TN','KL','KN'],'cgpa':[9,8,7]})\n",
    "#print(df)"
   ]
  },
  {
   "cell_type": "raw",
   "id": "8471b19c",
   "metadata": {
    "id": "8471b19c"
   },
   "source": [
    "'''\n",
    "    1.Filter the age\n",
    "    2.filter age,cgpa\n",
    "    3.Filter age>22\n",
    "    4.names starts with j\n",
    "    5.names contains 'n'\n",
    "    '''"
   ]
  },
  {
   "cell_type": "code",
   "execution_count": 86,
   "id": "e37d0921",
   "metadata": {},
   "outputs": [
    {
     "data": {
      "text/html": [
       "<div>\n",
       "<style scoped>\n",
       "    .dataframe tbody tr th:only-of-type {\n",
       "        vertical-align: middle;\n",
       "    }\n",
       "\n",
       "    .dataframe tbody tr th {\n",
       "        vertical-align: top;\n",
       "    }\n",
       "\n",
       "    .dataframe thead th {\n",
       "        text-align: right;\n",
       "    }\n",
       "</style>\n",
       "<table border=\"1\" class=\"dataframe\">\n",
       "  <thead>\n",
       "    <tr style=\"text-align: right;\">\n",
       "      <th></th>\n",
       "      <th>Age</th>\n",
       "    </tr>\n",
       "  </thead>\n",
       "  <tbody>\n",
       "    <tr>\n",
       "      <th>0</th>\n",
       "      <td>23</td>\n",
       "    </tr>\n",
       "    <tr>\n",
       "      <th>1</th>\n",
       "      <td>21</td>\n",
       "    </tr>\n",
       "    <tr>\n",
       "      <th>2</th>\n",
       "      <td>22</td>\n",
       "    </tr>\n",
       "  </tbody>\n",
       "</table>\n",
       "</div>"
      ],
      "text/plain": [
       "   Age\n",
       "0   23\n",
       "1   21\n",
       "2   22"
      ]
     },
     "execution_count": 86,
     "metadata": {},
     "output_type": "execute_result"
    }
   ],
   "source": [
    "#1. Filter the Age\n",
    "df[['Age']]"
   ]
  },
  {
   "cell_type": "code",
   "execution_count": 88,
   "id": "76630834",
   "metadata": {},
   "outputs": [
    {
     "data": {
      "text/html": [
       "<div>\n",
       "<style scoped>\n",
       "    .dataframe tbody tr th:only-of-type {\n",
       "        vertical-align: middle;\n",
       "    }\n",
       "\n",
       "    .dataframe tbody tr th {\n",
       "        vertical-align: top;\n",
       "    }\n",
       "\n",
       "    .dataframe thead th {\n",
       "        text-align: right;\n",
       "    }\n",
       "</style>\n",
       "<table border=\"1\" class=\"dataframe\">\n",
       "  <thead>\n",
       "    <tr style=\"text-align: right;\">\n",
       "      <th></th>\n",
       "      <th>Age</th>\n",
       "      <th>CGPA</th>\n",
       "    </tr>\n",
       "  </thead>\n",
       "  <tbody>\n",
       "    <tr>\n",
       "      <th>0</th>\n",
       "      <td>23</td>\n",
       "      <td>9</td>\n",
       "    </tr>\n",
       "    <tr>\n",
       "      <th>1</th>\n",
       "      <td>21</td>\n",
       "      <td>8</td>\n",
       "    </tr>\n",
       "    <tr>\n",
       "      <th>2</th>\n",
       "      <td>22</td>\n",
       "      <td>7</td>\n",
       "    </tr>\n",
       "  </tbody>\n",
       "</table>\n",
       "</div>"
      ],
      "text/plain": [
       "   Age  CGPA\n",
       "0   23     9\n",
       "1   21     8\n",
       "2   22     7"
      ]
     },
     "execution_count": 88,
     "metadata": {},
     "output_type": "execute_result"
    }
   ],
   "source": [
    "#2.filter age,cgpa\n",
    "df[['Age','CGPA']]"
   ]
  },
  {
   "cell_type": "code",
   "execution_count": 89,
   "id": "d15f9319",
   "metadata": {},
   "outputs": [
    {
     "data": {
      "text/html": [
       "<div>\n",
       "<style scoped>\n",
       "    .dataframe tbody tr th:only-of-type {\n",
       "        vertical-align: middle;\n",
       "    }\n",
       "\n",
       "    .dataframe tbody tr th {\n",
       "        vertical-align: top;\n",
       "    }\n",
       "\n",
       "    .dataframe thead th {\n",
       "        text-align: right;\n",
       "    }\n",
       "</style>\n",
       "<table border=\"1\" class=\"dataframe\">\n",
       "  <thead>\n",
       "    <tr style=\"text-align: right;\">\n",
       "      <th></th>\n",
       "      <th>Name</th>\n",
       "      <th>Age</th>\n",
       "      <th>Gender</th>\n",
       "      <th>State</th>\n",
       "      <th>CGPA</th>\n",
       "    </tr>\n",
       "  </thead>\n",
       "  <tbody>\n",
       "    <tr>\n",
       "      <th>0</th>\n",
       "      <td>kevin</td>\n",
       "      <td>23</td>\n",
       "      <td>m</td>\n",
       "      <td>TN</td>\n",
       "      <td>9</td>\n",
       "    </tr>\n",
       "  </tbody>\n",
       "</table>\n",
       "</div>"
      ],
      "text/plain": [
       "    Name  Age Gender State  CGPA\n",
       "0  kevin   23      m    TN     9"
      ]
     },
     "execution_count": 89,
     "metadata": {},
     "output_type": "execute_result"
    }
   ],
   "source": [
    "#1. Filter the Age >22\n",
    "df[df['Age']>22]"
   ]
  },
  {
   "cell_type": "code",
   "execution_count": 92,
   "id": "31f582df",
   "metadata": {},
   "outputs": [
    {
     "name": "stdout",
     "output_type": "stream",
     "text": [
      "\n",
      ". Names starting with 'j':\n",
      "   Name  Age Gender State  CGPA\n",
      "1  john   21      m    KL     8\n"
     ]
    }
   ],
   "source": [
    "#4.names starts with j\n",
    "\n",
    "str_j=df[df['Name'].str.startswith('j')]\n",
    "#names_starting_with_j = df[df['Name'].str.startswith('j', case=False)]\n",
    "print(\"\\n. Names starting with 'j':\")\n",
    "print(str_j)"
   ]
  },
  {
   "cell_type": "code",
   "execution_count": 94,
   "id": "572549e0",
   "metadata": {},
   "outputs": [
    {
     "name": "stdout",
     "output_type": "stream",
     "text": [
      "    Name  Age Gender State  CGPA\n",
      "0  kevin   23      m    TN     9\n",
      "1   john   21      m    KL     8\n"
     ]
    }
   ],
   "source": [
    "# 5.names contains 'n'\n",
    "str_n=df[df['Name'].str.contains('n')]\n",
    "print(str_n)"
   ]
  },
  {
   "cell_type": "raw",
   "id": "9122528b",
   "metadata": {
    "id": "9122528b"
   },
   "source": [
    "8. Given the two data frames,\n",
    "dfr1=pd.DataFrame({'Id':[1,2,3,5,9],\n",
    "                    'Col1':[1,2,3,4,5],\n",
    "                     'col2':[6,7,8,9,10],\n",
    "                      'col4':['apple','orange','banana','strawberry','rasberry']})\n",
    "  dfr2=pd.DataFrame({'Id':[1,1,3,5],\n",
    "                    'ColA':[8,9,10,11],\n",
    "                     'colB':[12,13,15,17],\n",
    "                      'col4':['apple','orange','banana','kiwi']})\n",
    "\n",
    "Perform left, right and inner join on the dataframes"
   ]
  },
  {
   "cell_type": "code",
   "execution_count": 97,
   "id": "69b3d7f3",
   "metadata": {},
   "outputs": [
    {
     "data": {
      "text/html": [
       "<div>\n",
       "<style scoped>\n",
       "    .dataframe tbody tr th:only-of-type {\n",
       "        vertical-align: middle;\n",
       "    }\n",
       "\n",
       "    .dataframe tbody tr th {\n",
       "        vertical-align: top;\n",
       "    }\n",
       "\n",
       "    .dataframe thead th {\n",
       "        text-align: right;\n",
       "    }\n",
       "</style>\n",
       "<table border=\"1\" class=\"dataframe\">\n",
       "  <thead>\n",
       "    <tr style=\"text-align: right;\">\n",
       "      <th></th>\n",
       "      <th>Id</th>\n",
       "      <th>Col1</th>\n",
       "      <th>col2</th>\n",
       "      <th>col4</th>\n",
       "    </tr>\n",
       "  </thead>\n",
       "  <tbody>\n",
       "    <tr>\n",
       "      <th>0</th>\n",
       "      <td>1</td>\n",
       "      <td>1</td>\n",
       "      <td>6</td>\n",
       "      <td>apple</td>\n",
       "    </tr>\n",
       "    <tr>\n",
       "      <th>1</th>\n",
       "      <td>2</td>\n",
       "      <td>2</td>\n",
       "      <td>7</td>\n",
       "      <td>orange</td>\n",
       "    </tr>\n",
       "    <tr>\n",
       "      <th>2</th>\n",
       "      <td>3</td>\n",
       "      <td>3</td>\n",
       "      <td>8</td>\n",
       "      <td>banana</td>\n",
       "    </tr>\n",
       "    <tr>\n",
       "      <th>3</th>\n",
       "      <td>5</td>\n",
       "      <td>4</td>\n",
       "      <td>9</td>\n",
       "      <td>strawberry</td>\n",
       "    </tr>\n",
       "    <tr>\n",
       "      <th>4</th>\n",
       "      <td>9</td>\n",
       "      <td>5</td>\n",
       "      <td>10</td>\n",
       "      <td>rasberry</td>\n",
       "    </tr>\n",
       "  </tbody>\n",
       "</table>\n",
       "</div>"
      ],
      "text/plain": [
       "   Id  Col1  col2        col4\n",
       "0   1     1     6       apple\n",
       "1   2     2     7      orange\n",
       "2   3     3     8      banana\n",
       "3   5     4     9  strawberry\n",
       "4   9     5    10    rasberry"
      ]
     },
     "execution_count": 97,
     "metadata": {},
     "output_type": "execute_result"
    }
   ],
   "source": [
    "dfr1=pd.DataFrame({'Id':[1,2,3,5,9],\n",
    "                    'Col1':[1,2,3,4,5],\n",
    "                     'col2':[6,7,8,9,10],\n",
    "                      'col4':['apple','orange','banana','strawberry','rasberry']})\n",
    "dfr1"
   ]
  },
  {
   "cell_type": "code",
   "execution_count": 98,
   "id": "3c840bd9",
   "metadata": {},
   "outputs": [
    {
     "data": {
      "text/html": [
       "<div>\n",
       "<style scoped>\n",
       "    .dataframe tbody tr th:only-of-type {\n",
       "        vertical-align: middle;\n",
       "    }\n",
       "\n",
       "    .dataframe tbody tr th {\n",
       "        vertical-align: top;\n",
       "    }\n",
       "\n",
       "    .dataframe thead th {\n",
       "        text-align: right;\n",
       "    }\n",
       "</style>\n",
       "<table border=\"1\" class=\"dataframe\">\n",
       "  <thead>\n",
       "    <tr style=\"text-align: right;\">\n",
       "      <th></th>\n",
       "      <th>Id</th>\n",
       "      <th>ColA</th>\n",
       "      <th>colB</th>\n",
       "      <th>col4</th>\n",
       "    </tr>\n",
       "  </thead>\n",
       "  <tbody>\n",
       "    <tr>\n",
       "      <th>0</th>\n",
       "      <td>1</td>\n",
       "      <td>8</td>\n",
       "      <td>12</td>\n",
       "      <td>apple</td>\n",
       "    </tr>\n",
       "    <tr>\n",
       "      <th>1</th>\n",
       "      <td>1</td>\n",
       "      <td>9</td>\n",
       "      <td>13</td>\n",
       "      <td>orange</td>\n",
       "    </tr>\n",
       "    <tr>\n",
       "      <th>2</th>\n",
       "      <td>3</td>\n",
       "      <td>10</td>\n",
       "      <td>15</td>\n",
       "      <td>banana</td>\n",
       "    </tr>\n",
       "    <tr>\n",
       "      <th>3</th>\n",
       "      <td>5</td>\n",
       "      <td>11</td>\n",
       "      <td>17</td>\n",
       "      <td>kiwi</td>\n",
       "    </tr>\n",
       "  </tbody>\n",
       "</table>\n",
       "</div>"
      ],
      "text/plain": [
       "   Id  ColA  colB    col4\n",
       "0   1     8    12   apple\n",
       "1   1     9    13  orange\n",
       "2   3    10    15  banana\n",
       "3   5    11    17    kiwi"
      ]
     },
     "execution_count": 98,
     "metadata": {},
     "output_type": "execute_result"
    }
   ],
   "source": [
    "dfr2=pd.DataFrame({'Id':[1,1,3,5],\n",
    "                    'ColA':[8,9,10,11],\n",
    "                     'colB':[12,13,15,17],\n",
    "                      'col4':['apple','orange','banana','kiwi']})\n",
    "dfr2"
   ]
  },
  {
   "cell_type": "code",
   "execution_count": 102,
   "id": "a5bfa9bf",
   "metadata": {},
   "outputs": [
    {
     "name": "stdout",
     "output_type": "stream",
     "text": [
      "Left Join:\n",
      "    Id  Col1  col2      col4_x  ColA  colB  col4_y\n",
      "0   1     1     6       apple   8.0  12.0   apple\n",
      "1   1     1     6       apple   9.0  13.0  orange\n",
      "2   2     2     7      orange   NaN   NaN     NaN\n",
      "3   3     3     8      banana  10.0  15.0  banana\n",
      "4   5     4     9  strawberry  11.0  17.0    kiwi\n",
      "5   9     5    10    rasberry   NaN   NaN     NaN\n",
      "Right Join:\n",
      "    Id  Col1  col2      col4_x  ColA  colB  col4_y\n",
      "0   1     1     6       apple     8    12   apple\n",
      "1   1     1     6       apple     9    13  orange\n",
      "2   3     3     8      banana    10    15  banana\n",
      "3   5     4     9  strawberry    11    17    kiwi\n",
      "Inner Join:\n",
      "    Id  Col1  col2      col4_x  ColA  colB  col4_y\n",
      "0   1     1     6       apple     8    12   apple\n",
      "1   1     1     6       apple     9    13  orange\n",
      "2   3     3     8      banana    10    15  banana\n",
      "3   5     4     9  strawberry    11    17    kiwi\n"
     ]
    }
   ],
   "source": [
    "# Perform left join\n",
    "left_join = pd.merge(dfr1, dfr2, on='Id', how='left')\n",
    "print(f\"Left Join:\\n {left_join}\")\n",
    "\n",
    "# Perform right join\n",
    "right_join = pd.merge(dfr1, dfr2, on='Id', how='right')\n",
    "print(f\"Right Join:\\n {right_join}\")\n",
    "\n",
    "# Perform inner join\n",
    "inner_join = pd.merge(dfr1, dfr2, on='Id', how='inner')\n",
    "print(f\"Inner Join:\\n {inner_join}\")"
   ]
  },
  {
   "cell_type": "raw",
   "id": "4b9e73eb",
   "metadata": {
    "id": "4b9e73eb"
   },
   "source": [
    "9. Apply sigmoid function to the array [2,5,6]\n",
    "1.define sigmoid function\n",
    "2.create the np array\n",
    "3.Apply the function to the array"
   ]
  },
  {
   "cell_type": "code",
   "execution_count": 103,
   "id": "0fd6ce97",
   "metadata": {},
   "outputs": [
    {
     "name": "stdout",
     "output_type": "stream",
     "text": [
      "Original array: [2 5 6]\n",
      "Result after applying sigmoid function: [0.88079708 0.99330715 0.99752738]\n"
     ]
    }
   ],
   "source": [
    "# 1. Define sigmoid function\n",
    "def sigmoid(x):\n",
    "    return 1 / (1 + np.exp(-x))\n",
    "\n",
    "# 2. Create a NumPy array\n",
    "array_for_sigmoid = np.array([2, 5, 6])\n",
    "\n",
    "# 3. Apply the sigmoid function to the array\n",
    "result = sigmoid(array_for_sigmoid)\n",
    "\n",
    "# Print the result\n",
    "print(\"Original array:\", array_for_sigmoid)\n",
    "print(\"Result after applying sigmoid function:\", result)"
   ]
  }
 ],
 "metadata": {
  "colab": {
   "provenance": []
  },
  "kernelspec": {
   "display_name": "Python 3 (ipykernel)",
   "language": "python",
   "name": "python3"
  },
  "language_info": {
   "codemirror_mode": {
    "name": "ipython",
    "version": 3
   },
   "file_extension": ".py",
   "mimetype": "text/x-python",
   "name": "python",
   "nbconvert_exporter": "python",
   "pygments_lexer": "ipython3",
   "version": "3.10.9"
  }
 },
 "nbformat": 4,
 "nbformat_minor": 5
}
