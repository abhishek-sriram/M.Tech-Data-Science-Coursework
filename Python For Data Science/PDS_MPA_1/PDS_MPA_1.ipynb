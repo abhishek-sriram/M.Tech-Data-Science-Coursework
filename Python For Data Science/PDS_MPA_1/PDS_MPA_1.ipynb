{
 "cells": [
  {
   "cell_type": "code",
   "execution_count": 2,
   "id": "62dbaf8f",
   "metadata": {},
   "outputs": [],
   "source": [
    "# Question 1\n",
    "sports_winners = set([\"Jake\", \"John\",\"Eric\",\"Geetha\",\"Femi\",\"Kala\"]) \n",
    "quiz_winners = set([\"John\", \"Jill\",\"Eric\",\"Geetha\",\"Femi\"])r"
   ]
  },
  {
   "cell_type": "code",
   "execution_count": 3,
   "id": "51b26026",
   "metadata": {},
   "outputs": [
    {
     "data": {
      "text/plain": [
       "{'Eric', 'Femi', 'Geetha', 'John'}"
      ]
     },
     "execution_count": 3,
     "metadata": {},
     "output_type": "execute_result"
    }
   ],
   "source": [
    "# 1. print the winners who got sports prize and quiz prize\n",
    "both_sports_Quiz_winners = sports_winners.intersection(quiz_winners)\n",
    "both_sports_Quiz_winners"
   ]
  },
  {
   "cell_type": "code",
   "execution_count": 6,
   "id": "7cb72a4c",
   "metadata": {},
   "outputs": [
    {
     "name": "stdout",
     "output_type": "stream",
     "text": [
      "{'Kala', 'Jake', 'Jill'}\n"
     ]
    },
    {
     "data": {
      "text/plain": [
       "{'Jake', 'Kala'}"
      ]
     },
     "execution_count": 6,
     "metadata": {},
     "output_type": "execute_result"
    }
   ],
   "source": [
    "# 2. print the winners who got sports prize and not quiz prize\n",
    "x = sports_winners.symmetric_difference(quiz_winners)\n",
    "print(x)\n",
    "sports_winners_only=x-quiz_winners\n",
    "sports_winners_only"
   ]
  },
  {
   "cell_type": "code",
   "execution_count": 7,
   "id": "919f20a0",
   "metadata": {},
   "outputs": [
    {
     "data": {
      "text/plain": [
       "{'Eric', 'Femi', 'Geetha', 'Jake', 'Jill', 'John', 'Kala'}"
      ]
     },
     "execution_count": 7,
     "metadata": {},
     "output_type": "execute_result"
    }
   ],
   "source": [
    "# 3. print the winners who either sports prize or quiz prize\n",
    "either_sports_prize_or_quiz_prize = sports_winners.union(quiz_winners)\n",
    "either_sports_prize_or_quiz_prize"
   ]
  },
  {
   "cell_type": "code",
   "execution_count": 8,
   "id": "bde27429",
   "metadata": {},
   "outputs": [
    {
     "name": "stdout",
     "output_type": "stream",
     "text": [
      "{'Kala', 'Jake', 'Jill'}\n"
     ]
    },
    {
     "data": {
      "text/plain": [
       "{'Jill'}"
      ]
     },
     "execution_count": 8,
     "metadata": {},
     "output_type": "execute_result"
    }
   ],
   "source": [
    "# 4. print the winners who got quize prize and not sports prize\n",
    "y = sports_winners.symmetric_difference(quiz_winners)\n",
    "print(y)\n",
    "quiz_winners_only=y-sports_winners\n",
    "quiz_winners_only"
   ]
  },
  {
   "cell_type": "code",
   "execution_count": 26,
   "id": "af63c85e",
   "metadata": {},
   "outputs": [],
   "source": [
    "# Question 2\n",
    "myset = {12,34,56,3,45,67,89,1,6}"
   ]
  },
  {
   "cell_type": "code",
   "execution_count": 17,
   "id": "f1581fc8",
   "metadata": {
    "scrolled": true
   },
   "outputs": [
    {
     "name": "stdout",
     "output_type": "stream",
     "text": [
      "{56, 34, 12, 6}\n"
     ]
    }
   ],
   "source": [
    "# 1. Create set by filtering even numbers\n",
    "even_number=set()\n",
    "for e in myset:\n",
    "    if e%2==0:\n",
    "        even_number.add(e)\n",
    "print(even_number)\n",
    "        "
   ]
  },
  {
   "cell_type": "code",
   "execution_count": 18,
   "id": "4345401a",
   "metadata": {},
   "outputs": [
    {
     "name": "stdout",
     "output_type": "stream",
     "text": [
      "{1, 3, 67, 45, 89}\n"
     ]
    }
   ],
   "source": [
    "# 2. Create set by filtering odd numbers\n",
    "odd_number=set()\n",
    "for e in myset:\n",
    "    if e%2!=0:\n",
    "        odd_number.add(e)\n",
    "print(odd_number)"
   ]
  },
  {
   "cell_type": "code",
   "execution_count": 19,
   "id": "8464702c",
   "metadata": {},
   "outputs": [
    {
     "name": "stdout",
     "output_type": "stream",
     "text": [
      "{34, 67, 45, 56, 89}\n"
     ]
    }
   ],
   "source": [
    "# 3. Create set by filtering numbers>20\n",
    "numb_greater_than_20=set()\n",
    "for e in myset:\n",
    "    if e>20:\n",
    "        numb_greater_than_20.add(e)\n",
    "print(numb_greater_than_20)"
   ]
  },
  {
   "cell_type": "code",
   "execution_count": 30,
   "id": "9a26a8ff",
   "metadata": {},
   "outputs": [
    {
     "data": {
      "text/plain": [
       "{1, 3, 6, 12, 34, 45, 67, 89}"
      ]
     },
     "execution_count": 30,
     "metadata": {},
     "output_type": "execute_result"
    }
   ],
   "source": [
    "# 4. remove the item 56 and create a new set\n",
    "myset = {12,34,56,3,45,67,89,1,6}\n",
    "x=set(myset)\n",
    "x.remove(56)\n",
    "x"
   ]
  },
  {
   "cell_type": "code",
   "execution_count": null,
   "id": "26ad5ea6",
   "metadata": {},
   "outputs": [],
   "source": [
    "# 5. state the difference between remove() & discard() on the set.\n",
    "myset = {12,34,56,3,45,67,89,1,6}\n",
    "myset.remove(3) # element 3 will be removed\n",
    "print(myset)\n",
    "myset.remove(100) # throw key error because element 100 not in the set\n",
    "print(myset)"
   ]
  },
  {
   "cell_type": "code",
   "execution_count": 32,
   "id": "5c3db967",
   "metadata": {},
   "outputs": [
    {
     "name": "stdout",
     "output_type": "stream",
     "text": [
      "{1, 34, 67, 6, 12, 45, 56, 89}\n",
      "{1, 34, 67, 6, 12, 45, 56, 89}\n"
     ]
    }
   ],
   "source": [
    "myset = {12,34,56,3,45,67,89,1,6}\n",
    "myset.discard(3) # element 3 will be removed\n",
    "print(myset)\n",
    "myset.discard(100) # eventhough element 100 not in the set, it will run the program\n",
    "print(myset)"
   ]
  },
  {
   "cell_type": "code",
   "execution_count": 39,
   "id": "87b8b215",
   "metadata": {},
   "outputs": [
    {
     "name": "stdout",
     "output_type": "stream",
     "text": [
      "2023-10-03\n",
      "2023-10-16\n"
     ]
    }
   ],
   "source": [
    "# Question 3\n",
    "# 1. Print the Date after 1 week and 6 days from the current date.\n",
    "from datetime import datetime,date,timedelta\n",
    "print(date.today())\n",
    "dt1=date.today()+timedelta(days=13)\n",
    "print(dt1)"
   ]
  },
  {
   "cell_type": "code",
   "execution_count": 65,
   "id": "3724796d",
   "metadata": {},
   "outputs": [
    {
     "name": "stdout",
     "output_type": "stream",
     "text": [
      "Age: 23 years\n"
     ]
    }
   ],
   "source": [
    "# 2. Given the birthday as date(2000,10,2), find the age\n",
    "from datetime import datetime,date,timedelta\n",
    "birthdate = datetime(2000, 10, 2)\n",
    "current_date = datetime.today()\n",
    "age = current_date.year - birthdate.year - ((current_date.month, current_date.day) < (birthdate.month, birthdate.day))\n",
    "print(\"Age:\", age, \"years\")"
   ]
  },
  {
   "cell_type": "code",
   "execution_count": 73,
   "id": "dfe64236",
   "metadata": {},
   "outputs": [
    {
     "name": "stdout",
     "output_type": "stream",
     "text": [
      "2023-10-03\n",
      "2023-09-28\n"
     ]
    }
   ],
   "source": [
    "# 3. Subtract five days from the current date and display it.\n",
    "dt2=date.today()-timedelta(days=5)\n",
    "print(date.today())\n",
    "print(dt2)"
   ]
  },
  {
   "cell_type": "code",
   "execution_count": 74,
   "id": "35d825d9",
   "metadata": {},
   "outputs": [
    {
     "name": "stdout",
     "output_type": "stream",
     "text": [
      "2023-10-02 2023-10-03 2023-10-04\n"
     ]
    }
   ],
   "source": [
    "# 4. Display the dates of yesterday, today and tomorrow\n",
    "dt3=date.today()-timedelta(days=1)\n",
    "dt4=date.today()\n",
    "dt5=date.today()+timedelta(days=1)\n",
    "print(dt3,dt4,dt5)"
   ]
  },
  {
   "cell_type": "code",
   "execution_count": 167,
   "id": "4b88c499",
   "metadata": {},
   "outputs": [],
   "source": [
    "# Question 4\n",
    "\n",
    "string1=\"Great\" \n",
    "string2=\"Learning\"  \n",
    "string3=\"Python\""
   ]
  },
  {
   "cell_type": "code",
   "execution_count": 168,
   "id": "09d64882",
   "metadata": {},
   "outputs": [
    {
     "data": {
      "text/plain": [
       "'Great Learning Python'"
      ]
     },
     "execution_count": 168,
     "metadata": {},
     "output_type": "execute_result"
    }
   ],
   "source": [
    "# Concatenate them to create a single string called \"single_string\"\n",
    "single_string=str()\n",
    "single_string=string1 +\" \"+ string2 +\" \"+ string3\n",
    "single_string"
   ]
  },
  {
   "cell_type": "code",
   "execution_count": 162,
   "id": "5456555b",
   "metadata": {},
   "outputs": [
    {
     "data": {
      "text/plain": [
       "'Gn'"
      ]
     },
     "execution_count": 162,
     "metadata": {},
     "output_type": "execute_result"
    }
   ],
   "source": [
    "# Access and print the first and last characters of \"single_string\"\n",
    "Length=len(single_string)\n",
    "Length\n",
    "single_string[0]+ single_string[Length-1]\n",
    "\n"
   ]
  },
  {
   "cell_type": "code",
   "execution_count": 163,
   "id": "3dd6f3a2",
   "metadata": {},
   "outputs": [
    {
     "data": {
      "text/plain": [
       "'nohtyP gninraeL taerG'"
      ]
     },
     "execution_count": 163,
     "metadata": {},
     "output_type": "execute_result"
    }
   ],
   "source": [
    "# Reverse the \"single_string\" and save it in \"rev_string\"\n",
    "rev_string= single_string[::-1]\n",
    "rev_string"
   ]
  },
  {
   "cell_type": "code",
   "execution_count": 179,
   "id": "acb508f6",
   "metadata": {},
   "outputs": [
    {
     "name": "stdout",
     "output_type": "stream",
     "text": [
      "Learning\n"
     ]
    }
   ],
   "source": [
    "# Extract the word \"Learning\" from \"single_string\"\n",
    "words=single_string.split()\n",
    "print(words[1])\n",
    "\n"
   ]
  },
  {
   "cell_type": "code",
   "execution_count": 185,
   "id": "4c47d074",
   "metadata": {},
   "outputs": [],
   "source": [
    "# Question 5\n",
    "sent =\"Hello! Great Learning. Now start learning Python.\""
   ]
  },
  {
   "cell_type": "code",
   "execution_count": 182,
   "id": "21d97007",
   "metadata": {},
   "outputs": [
    {
     "data": {
      "text/plain": [
       "13"
      ]
     },
     "execution_count": 182,
     "metadata": {},
     "output_type": "execute_result"
    }
   ],
   "source": [
    "# a. In the given sentence where is the word \"Learning\"?:\n",
    "sent.find('Learning')"
   ]
  },
  {
   "cell_type": "code",
   "execution_count": 198,
   "id": "dd8f8516",
   "metadata": {},
   "outputs": [
    {
     "data": {
      "text/plain": [
       "1"
      ]
     },
     "execution_count": 198,
     "metadata": {},
     "output_type": "execute_result"
    }
   ],
   "source": [
    "# b. In the given sentence where is the first occurrence of the letter \"e\"?:\n",
    "sent.find('e')"
   ]
  },
  {
   "cell_type": "code",
   "execution_count": 206,
   "id": "41cd7f56",
   "metadata": {},
   "outputs": [
    {
     "data": {
      "text/plain": [
       "9"
      ]
     },
     "execution_count": 206,
     "metadata": {},
     "output_type": "execute_result"
    }
   ],
   "source": [
    "# c. In the given sentence where is the first occurrence of the letter \"e\" when you only search between position 5 and 10?:\n",
    "sent =\"Hello! Great Learning. Now start learning Python.\"\n",
    "a=sent[5:10+1]\n",
    "x=a.find('e')\n",
    "y=x+5\n",
    "y"
   ]
  },
  {
   "cell_type": "code",
   "execution_count": 207,
   "id": "458e4a2c",
   "metadata": {},
   "outputs": [
    {
     "data": {
      "text/plain": [
       "['Hello!', 'Great', 'Learning.', 'Now', 'start', 'learning', 'Python.']"
      ]
     },
     "execution_count": 207,
     "metadata": {},
     "output_type": "execute_result"
    }
   ],
   "source": [
    "# d. Display the list of words in the sentence\n",
    "sent =\"Hello! Great Learning. Now start learning Python.\"\n",
    "sent.split()"
   ]
  },
  {
   "cell_type": "code",
   "execution_count": 217,
   "id": "6097130f",
   "metadata": {},
   "outputs": [
    {
     "data": {
      "text/plain": [
       "'Empty DataFrame\\nColumns: [Given a list of tuples, consisting of employee_name and total_bonus_points. Find the best 3 employees who are having the highest score. Write a function find_best_employer, which takes the list of tuples as argument and prints the names of top three employees]\\nIndex: []'"
      ]
     },
     "execution_count": 217,
     "metadata": {},
     "output_type": "execute_result"
    }
   ],
   "source": [
    "# Question 6\n",
    "import pandas as pd\n",
    "a=str(pd.read_table(\"new.txt\"))\n",
    "a\n"
   ]
  },
  {
   "cell_type": "code",
   "execution_count": 222,
   "id": "70f4fd54",
   "metadata": {},
   "outputs": [
    {
     "name": "stdout",
     "output_type": "stream",
     "text": [
      "Top 5 most common words:\n",
      "of : 4 times\n",
      "the : 4 times\n",
      "a : 2 times\n",
      "list : 2 times\n",
      "tuples : 2 times\n"
     ]
    }
   ],
   "source": [
    "import re\n",
    "from collections import Counter\n",
    "words = re.findall(r'\\w+', a.lower())\n",
    "word_counts = Counter(words)\n",
    "sorted_word_counts = sorted(word_counts.items(), key=lambda x: x[1], reverse=True)\n",
    "print(\"Top 5 most common words:\")\n",
    "for word, count in sorted_word_counts[:5]:\n",
    "    print(word ,\":\", count, \"times\")"
   ]
  },
  {
   "cell_type": "code",
   "execution_count": 251,
   "id": "a1954dc2",
   "metadata": {},
   "outputs": [
    {
     "name": "stdout",
     "output_type": "stream",
     "text": [
      "The top three employees for the year are:\n",
      "1 : Velan\n",
      "2 : Reva\n",
      "3 : Sanju\n"
     ]
    }
   ],
   "source": [
    "# Question 7\n",
    "\n",
    "sample_input = [('Sanju', 321), ('Reva', 671), ('Darvin', 233), ('Velan', 922), ('Satya', 223), ('Vanathi', 102)]\n",
    "find_best_employer(sample_input)\n",
    "def find_best_employer(sample_input):\n",
    "    sorted_employees = sorted(employee_scores, key=lambda x: x[1], reverse=True)\n",
    "    print(\"The top three employees for the year are:\")\n",
    "    for i, (name, score) in enumerate(sorted_employees[:3]):\n",
    "        print(i,\":\",name)\n"
   ]
  },
  {
   "cell_type": "code",
   "execution_count": null,
   "id": "7278bf00",
   "metadata": {},
   "outputs": [],
   "source": []
  }
 ],
 "metadata": {
  "kernelspec": {
   "display_name": "Python 3 (ipykernel)",
   "language": "python",
   "name": "python3"
  },
  "language_info": {
   "codemirror_mode": {
    "name": "ipython",
    "version": 3
   },
   "file_extension": ".py",
   "mimetype": "text/x-python",
   "name": "python",
   "nbconvert_exporter": "python",
   "pygments_lexer": "ipython3",
   "version": "3.11.3"
  }
 },
 "nbformat": 4,
 "nbformat_minor": 5
}
