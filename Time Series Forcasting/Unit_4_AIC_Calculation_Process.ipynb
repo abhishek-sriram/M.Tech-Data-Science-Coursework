{
  "nbformat": 4,
  "nbformat_minor": 0,
  "metadata": {
    "colab": {
      "provenance": []
    },
    "kernelspec": {
      "name": "python3",
      "display_name": "Python 3"
    },
    "language_info": {
      "name": "python"
    }
  },
  "cells": [
    {
      "cell_type": "code",
      "execution_count": null,
      "metadata": {
        "id": "_WE_m2ryDdJL"
      },
      "outputs": [],
      "source": []
    },
    {
      "cell_type": "markdown",
      "source": [
        "##AIC Calculation"
      ],
      "metadata": {
        "id": "uNLwZCR3UiDX"
      }
    },
    {
      "cell_type": "markdown",
      "source": [
        "\n",
        "Given the time series data $ y = (23, 54, 65, 78, 36) $, we fit an ARMA(1,1) model to the data and obtain the residuals.\n",
        "\n",
        "Let $ n $ be the number of observations, $ \\sigma^2 $ be the estimated variance of the residuals, and $ p $ be the number of parameters in the model.\n",
        "\n",
        "The likelihood function for the ARMA(1,1) model is given by:\n",
        "\n",
        "$$\n",
        "L(\\phi, \\theta | y) = \\left( \\frac{1}{\\sqrt{2\\pi\\sigma^2}} \\right)^n \\exp \\left( -\\frac{1}{2\\sigma^2} \\sum_{t=1}^{n} (y_t - \\phi y_{t-1} - \\theta \\epsilon_{t-1})^2 \\right)\n",
        "$$\n",
        "\n",
        "The log-likelihood function is obtained by taking the natural logarithm of the likelihood function:\n",
        "\n",
        "$$\n",
        "\\log L(\\phi, \\theta | y) = -\\frac{n}{2} \\log(2\\pi\\sigma^2) - \\frac{1}{2\\sigma^2} \\sum_{t=1}^{n} (y_t - \\phi y_{t-1} - \\theta \\epsilon_{t-1})^2\n",
        "$$\n",
        "\n",
        "Substituting the given data and estimated parameters, we can calculate the log-likelihood.\n",
        "\n",
        "For the provided data:\n",
        "$$\n",
        "\\begin{align*}\n",
        "n & = 5 \\\\\n",
        "y & = (23, 54, 65, 78, 36)\n",
        "\\end{align*}\n",
        "$$\n",
        "\n",
        "We obtain the residuals $ \\epsilon_{t-1} $ from the fitted ARMA(1,1) model.\n",
        "\n",
        "Using the obtained residuals, we can compute the log-likelihood and subsequently the likelihood.\n",
        "\n"
      ],
      "metadata": {
        "id": "Ah5iaLpQptHO"
      }
    },
    {
      "cell_type": "markdown",
      "source": [],
      "metadata": {
        "id": "1EMmJA5mpsko"
      }
    },
    {
      "cell_type": "markdown",
      "source": [
        "\\textbf{Given data:}\n",
        "$$\n",
        "\\begin{array}{cccccc}\n",
        "t & : & 0 & 1 & 2 & 3 \\\\\n",
        "y & : & 23 & 54 & 65 & 78 \\\\\n",
        "\\end{array}\n",
        "$$\n",
        "\n",
        "\\textbf{ARMA(1,1) Model Parameters:}\n",
        "$$\n",
        "\\phi_1 = 0.5, \\quad \\theta_1 = 1.2, \\quad \\sigma^2 = 3.2\n",
        "$$\n",
        "\n",
        "\\textbf{Log-Likelihood Calculation:}\n",
        "\n",
        "The log-likelihood function for the ARMA(1,1) model is:\n",
        "$$\n",
        "\\begin{aligned}\n",
        "\\log L(\\phi_1, \\theta_1 | y) &= -\\frac{n}{2} \\log(2\\pi\\sigma^2) - \\frac{1}{2\\sigma^2} \\sum_{t=2}^{n} (y_t - \\phi_1 y_{t-1} - \\theta_1 \\epsilon_{t-1})^2 \\\\\n",
        "&= -\\frac{4}{2} \\log(2\\pi \\times 3.2) - \\frac{1}{2 \\times 3.2} \\sum_{t=2}^{4} (y_t - 0.5 y_{t-1} - 1.2 \\epsilon_{t-1})^2 \\\\\n",
        "&= -2 \\log(2\\pi \\times 3.2) - \\frac{1}{6.4} \\sum_{t=2}^{4} (y_t - 0.5 y_{t-1} - 1.2 \\epsilon_{t-1})^2 \\\\\n",
        "&= -2 \\log(6.4\\pi) - \\frac{1}{6.4} [(54 - 0.5 \\times 23 - 1.2 \\times 0)^2 \\\\\n",
        "&\\quad + (65 - 0.5 \\times 54 - 1.2 \\times 23)^2 \\\\\n",
        "&\\quad + (78 - 0.5 \\times 65 - 1.2 \\times 54)^2] \\\\\n",
        "&= -2 \\times 3.215 - \\frac{1}{6.4} [750.69 + 197.21 + 237.69] \\\\\n",
        "&= -6.43 - \\frac{1}{6.4} \\times 1185.59 \\\\\n",
        "&= -6.43 - 185.248 \\\\\n",
        "&= -191.678\n",
        "\\end{aligned}\n",
        "$$\n",
        "\n",
        "\\textbf{Number of Parameters:}\n",
        "For the ARMA(1,1) model, there are two parameters: $ \\phi_1 $ and $ \\theta_1 $.\n",
        "\n",
        "\\textbf{AIC Calculation:}\n",
        "\n",
        "Using the formula:\n",
        "$$ AIC = -2 \\times \\text{log-likelihood} + 2 \\times \\text{number of parameters} $$\n",
        "\n",
        "Substitute the values obtained into the formula:\n",
        "$$ AIC = -2 \\times (-191.678) + 2 \\times 2 $$\n",
        "$$ AIC = 383.356 + 4 $$\n",
        "$$ AIC = 387.356 $$\n",
        "\n",
        "So, the AIC for the ARMA(1,1) model with $ \\phi_1 = 0.5 $, $ \\theta_1 = 1.2 $, and $ \\sigma^2 = 3.2 $ using the provided data is $ 387.356 $.\n",
        "\n"
      ],
      "metadata": {
        "id": "FjdWDbe-r-qz"
      }
    },
    {
      "cell_type": "markdown",
      "source": [
        "\\textbf{Given data:}\n",
        "$$\n",
        "\\begin{array}{cccccc}\n",
        "t & : & 0 & 1 & 2 & 3 \\\\\n",
        "y & : & 23 & 54 & 65 & 78 \\\\\n",
        "\\end{array}\n",
        "$$\n",
        "\n",
        "\\textbf{ARMA(1,1) Model Parameters:}\n",
        "$$\n",
        "\\phi_1 = 1.5, \\quad \\theta_1 = 0.6, \\quad \\sigma^2 = 3.2\n",
        "$$\n",
        "\n",
        "\\textbf{Log-Likelihood Calculation:}\n",
        "\n",
        "The log-likelihood function for the ARMA(1,1) model is:\n",
        "$$\n",
        "\\begin{aligned}\n",
        "\\log L(\\phi_1, \\theta_1 | y) &= -\\frac{n}{2} \\log(2\\pi\\sigma^2) - \\frac{1}{2\\sigma^2} \\sum_{t=2}^{n} (y_t - \\phi_1 y_{t-1} - \\theta_1 \\epsilon_{t-1})^2 \\\\\n",
        "&= -\\frac{4}{2} \\log(2\\pi \\times 3.2) - \\frac{1}{2 \\times 3.2} \\sum_{t=2}^{4} (y_t - 1.5 y_{t-1} - 0.6 \\epsilon_{t-1})^2 \\\\\n",
        "&= -2 \\log(2\\pi \\times 3.2) - \\frac{1}{6.4} \\sum_{t=2}^{4} (y_t - 1.5 y_{t-1} - 0.6 \\epsilon_{t-1})^2 \\\\\n",
        "&= -2 \\log(6.4\\pi) - \\frac{1}{6.4} [(54 - 1.5 \\times 23 - 0.6 \\times 0)^2 \\\\\n",
        "&\\quad + (65 - 1.5 \\times 54 - 0.6 \\times 23)^2 \\\\\n",
        "&\\quad + (78 - 1.5 \\times 65 - 0.6 \\times 54)^2] \\\\\n",
        "&= -2 \\times 3.215 - \\frac{1}{6.4} [315.69 + 342.09 + 213.69] \\\\\n",
        "&= -6.43 - \\frac{1}{6.4} \\times 871.47 \\\\\n",
        "&= -6.43 - 135.98 \\\\\n",
        "&= -142.41\n",
        "\\end{aligned}\n",
        "$$\n",
        "\n",
        "\\textbf{Number of Parameters:}\n",
        "For the ARMA(1,1) model, there are two parameters: $ \\phi_1 $ and $ \\theta_1 $.\n",
        "\n",
        "\\textbf{AIC Calculation:}\n",
        "\n",
        "Using the formula:\n",
        "$$ AIC = -2 \\times \\text{log-likelihood} + 2 \\times \\text{number of parameters} $$\n",
        "\n",
        "Substitute the values obtained into the formula:\n",
        "$$ AIC = -2 \\times (-142.41) + 2 \\times 2 $$\n",
        "$$ AIC = 284.82 + 4 $$\n",
        "$$ AIC = 288.82 $$\n",
        "\n",
        "So, the AIC for the ARMA(1,1) model with $ \\phi_1 = 1.5 $, $ \\theta_1 = 0.6 $, and $ \\sigma^2 = 3.2 $ using the provided data is $ 288.82 $.\n",
        "\n"
      ],
      "metadata": {
        "id": "is0URQVhsA3s"
      }
    },
    {
      "cell_type": "markdown",
      "source": [],
      "metadata": {
        "id": "6nIGt9fBr-nN"
      }
    },
    {
      "cell_type": "markdown",
      "source": [],
      "metadata": {
        "id": "2qlwaVTbr-kp"
      }
    },
    {
      "cell_type": "markdown",
      "source": [],
      "metadata": {
        "id": "G6mcXE9mr-YW"
      }
    },
    {
      "cell_type": "code",
      "source": [
        "import numpy as np\n",
        "import statsmodels.api as sm\n",
        "\n",
        "# Given data\n",
        "y = np.array([23, 54, 65, 78, 36])\n",
        "\n",
        "# Fit ARMA(1,1) model\n",
        "arma_model = sm.tsa.ARMA(y, order=(1, 1))\n",
        "arma_result = arma_model.fit()\n",
        "\n",
        "# Get residuals\n",
        "residuals = arma_result.resid\n",
        "\n",
        "# Number of observations\n",
        "n = len(y)\n",
        "\n",
        "# Number of parameters\n",
        "num_params = 2  # AR(1) and MA(1) parameters\n",
        "\n",
        "# Estimate sigma^2\n",
        "sigma_squared = np.var(residuals)\n",
        "\n",
        "# Compute likelihood\n",
        "likelihood = (1 / np.sqrt(2 * np.pi * sigma_squared)) ** n \\\n",
        "    * np.exp(-0.5 * np.sum((residuals / np.sqrt(sigma_squared)) ** 2))\n",
        "\n",
        "# Compute log-likelihood\n",
        "log_likelihood = -0.5 * n * np.log(2 * np.pi * sigma_squared) \\\n",
        "    - 0.5 * np.sum((residuals / np.sqrt(sigma_squared)) ** 2)\n",
        "\n",
        "print(\"Likelihood:\", likelihood)\n",
        "print(\"Log-Likelihood:\", log_likelihood)\n"
      ],
      "metadata": {
        "colab": {
          "base_uri": "https://localhost:8080/",
          "height": 216
        },
        "id": "KletMZO0pr9g",
        "outputId": "ce6186a6-33dc-495b-c126-8caf8341dd0f"
      },
      "execution_count": null,
      "outputs": [
        {
          "output_type": "error",
          "ename": "AttributeError",
          "evalue": "module 'statsmodels.tsa.api' has no attribute 'ARMA'",
          "traceback": [
            "\u001b[0;31m---------------------------------------------------------------------------\u001b[0m",
            "\u001b[0;31mAttributeError\u001b[0m                            Traceback (most recent call last)",
            "\u001b[0;32m<ipython-input-33-19ad484fa487>\u001b[0m in \u001b[0;36m<cell line: 8>\u001b[0;34m()\u001b[0m\n\u001b[1;32m      6\u001b[0m \u001b[0;34m\u001b[0m\u001b[0m\n\u001b[1;32m      7\u001b[0m \u001b[0;31m# Fit ARMA(1,1) model\u001b[0m\u001b[0;34m\u001b[0m\u001b[0;34m\u001b[0m\u001b[0m\n\u001b[0;32m----> 8\u001b[0;31m \u001b[0marma_model\u001b[0m \u001b[0;34m=\u001b[0m \u001b[0msm\u001b[0m\u001b[0;34m.\u001b[0m\u001b[0mtsa\u001b[0m\u001b[0;34m.\u001b[0m\u001b[0mARMA\u001b[0m\u001b[0;34m(\u001b[0m\u001b[0my\u001b[0m\u001b[0;34m,\u001b[0m \u001b[0morder\u001b[0m\u001b[0;34m=\u001b[0m\u001b[0;34m(\u001b[0m\u001b[0;36m1\u001b[0m\u001b[0;34m,\u001b[0m \u001b[0;36m1\u001b[0m\u001b[0;34m)\u001b[0m\u001b[0;34m)\u001b[0m\u001b[0;34m\u001b[0m\u001b[0;34m\u001b[0m\u001b[0m\n\u001b[0m\u001b[1;32m      9\u001b[0m \u001b[0marma_result\u001b[0m \u001b[0;34m=\u001b[0m \u001b[0marma_model\u001b[0m\u001b[0;34m.\u001b[0m\u001b[0mfit\u001b[0m\u001b[0;34m(\u001b[0m\u001b[0;34m)\u001b[0m\u001b[0;34m\u001b[0m\u001b[0;34m\u001b[0m\u001b[0m\n\u001b[1;32m     10\u001b[0m \u001b[0;34m\u001b[0m\u001b[0m\n",
            "\u001b[0;31mAttributeError\u001b[0m: module 'statsmodels.tsa.api' has no attribute 'ARMA'"
          ]
        }
      ]
    },
    {
      "cell_type": "code",
      "source": [
        "import numpy as np\n",
        "import statsmodels.api as sm\n",
        "\n",
        "# Given data\n",
        "y = np.array([23, 54, 65, 78, 36])\n",
        "\n",
        "# Fit ARMA(1,1) model\n",
        "arma_model = sm.tsa.ARMA(y, order=(1, 1))\n",
        "arma_result = arma_model.fit()\n",
        "\n",
        "# Get residuals\n",
        "residuals = arma_result.resid\n",
        "\n",
        "# Number of observations\n",
        "n = len(y)\n",
        "\n",
        "# Number of parameters\n",
        "num_params = 2  # AR(1) and MA(1) parameters\n",
        "\n",
        "# Estimate sigma^2\n",
        "sigma_squared = np.var(residuals)\n",
        "\n",
        "# Compute log-likelihood\n",
        "log_likelihood = -0.5 * n * np.log(2 * np.pi * sigma_squared) \\\n",
        "    - 0.5 * np.sum((residuals[1:] - arma_result.params[0] * residuals[:-1])**2 / sigma_squared)\n",
        "\n",
        "# Calculate AIC\n",
        "aic = -2 * log_likelihood + 2 * num_params\n",
        "\n",
        "print(\"AIC:\", aic)\n"
      ],
      "metadata": {
        "colab": {
          "base_uri": "https://localhost:8080/",
          "height": 216
        },
        "id": "GHtppIaMrFHY",
        "outputId": "74429b61-3013-47fe-a24b-e6994da88126"
      },
      "execution_count": null,
      "outputs": [
        {
          "output_type": "error",
          "ename": "AttributeError",
          "evalue": "module 'statsmodels.tsa.api' has no attribute 'ARMA'",
          "traceback": [
            "\u001b[0;31m---------------------------------------------------------------------------\u001b[0m",
            "\u001b[0;31mAttributeError\u001b[0m                            Traceback (most recent call last)",
            "\u001b[0;32m<ipython-input-34-520924a4edd0>\u001b[0m in \u001b[0;36m<cell line: 8>\u001b[0;34m()\u001b[0m\n\u001b[1;32m      6\u001b[0m \u001b[0;34m\u001b[0m\u001b[0m\n\u001b[1;32m      7\u001b[0m \u001b[0;31m# Fit ARMA(1,1) model\u001b[0m\u001b[0;34m\u001b[0m\u001b[0;34m\u001b[0m\u001b[0m\n\u001b[0;32m----> 8\u001b[0;31m \u001b[0marma_model\u001b[0m \u001b[0;34m=\u001b[0m \u001b[0msm\u001b[0m\u001b[0;34m.\u001b[0m\u001b[0mtsa\u001b[0m\u001b[0;34m.\u001b[0m\u001b[0mARMA\u001b[0m\u001b[0;34m(\u001b[0m\u001b[0my\u001b[0m\u001b[0;34m,\u001b[0m \u001b[0morder\u001b[0m\u001b[0;34m=\u001b[0m\u001b[0;34m(\u001b[0m\u001b[0;36m1\u001b[0m\u001b[0;34m,\u001b[0m \u001b[0;36m1\u001b[0m\u001b[0;34m)\u001b[0m\u001b[0;34m)\u001b[0m\u001b[0;34m\u001b[0m\u001b[0;34m\u001b[0m\u001b[0m\n\u001b[0m\u001b[1;32m      9\u001b[0m \u001b[0marma_result\u001b[0m \u001b[0;34m=\u001b[0m \u001b[0marma_model\u001b[0m\u001b[0;34m.\u001b[0m\u001b[0mfit\u001b[0m\u001b[0;34m(\u001b[0m\u001b[0;34m)\u001b[0m\u001b[0;34m\u001b[0m\u001b[0;34m\u001b[0m\u001b[0m\n\u001b[1;32m     10\u001b[0m \u001b[0;34m\u001b[0m\u001b[0m\n",
            "\u001b[0;31mAttributeError\u001b[0m: module 'statsmodels.tsa.api' has no attribute 'ARMA'"
          ]
        }
      ]
    },
    {
      "cell_type": "code",
      "source": [
        "import numpy as np\n",
        "from statsmodels.tsa.ar_model import AutoReg\n",
        "\n",
        "# Given data\n",
        "y = np.array([23, 54, 65, 78, 36])\n",
        "\n",
        "# Fit ARMA(1,1) model\n",
        "arma_model = AutoReg(y, lags=1, trend='c', seasonal=False)\n",
        "arma_result = arma_model.fit()\n",
        "\n",
        "# Get residuals\n",
        "residuals = arma_result.resid\n",
        "\n",
        "# Number of observations\n",
        "n = len(y)\n",
        "\n",
        "# Number of parameters\n",
        "num_params = 2  # AR(1) and MA(1) parameters\n",
        "\n",
        "# Estimate sigma^2\n",
        "sigma_squared = np.var(residuals)\n",
        "\n",
        "# Compute likelihood\n",
        "likelihood = (1 / np.sqrt(2 * np.pi * sigma_squared)) ** n \\\n",
        "    * np.exp(-0.5 * np.sum((residuals / np.sqrt(sigma_squared)) ** 2))\n",
        "\n",
        "# Compute log-likelihood\n",
        "log_likelihood = -0.5 * n * np.log(2 * np.pi * sigma_squared) \\\n",
        "    - 0.5 * np.sum((residuals / np.sqrt(sigma_squared)) ** 2)\n",
        "\n",
        "print(\"Likelihood:\", likelihood)\n",
        "print(\"Log-Likelihood:\", log_likelihood)\n"
      ],
      "metadata": {
        "colab": {
          "base_uri": "https://localhost:8080/"
        },
        "id": "MuHTs1UCrVM0",
        "outputId": "7ed649ef-65e4-4faa-ad37-ffd533e2328d"
      },
      "execution_count": null,
      "outputs": [
        {
          "output_type": "stream",
          "name": "stdout",
          "text": [
            "Likelihood: 1.667914761177827e-09\n",
            "Log-Likelihood: -20.211691636727004\n"
          ]
        }
      ]
    },
    {
      "cell_type": "code",
      "source": [
        "import numpy as np\n",
        "from statsmodels.tsa.ar_model import AutoReg\n",
        "\n",
        "# Given data\n",
        "y = np.array([23, 54, 65, 78, 36])\n",
        "\n",
        "# Fit ARMA(1,1) model\n",
        "arma_model = AutoReg(y, lags=1, trend='c', seasonal=False)\n",
        "arma_result = arma_model.fit()\n",
        "\n",
        "# Get residuals\n",
        "residuals = arma_result.resid\n",
        "\n",
        "# Number of observations\n",
        "n = len(y)\n",
        "\n",
        "# Number of parameters\n",
        "num_params = 2  # AR(1) and MA(1) parameters\n",
        "\n",
        "# Estimate sigma^2\n",
        "sigma_squared = np.var(residuals)\n",
        "\n",
        "# Compute likelihood\n",
        "likelihood = (1 / np.sqrt(2 * np.pi * sigma_squared)) ** n \\\n",
        "    * np.exp(-0.5 * np.sum((residuals / np.sqrt(sigma_squared)) ** 2))\n",
        "\n",
        "# Compute log-likelihood\n",
        "log_likelihood = -0.5 * n * np.log(2 * np.pi * sigma_squared) \\\n",
        "    - 0.5 * np.sum((residuals / np.sqrt(sigma_squared)) ** 2)\n",
        "\n",
        "# Calculate AIC\n",
        "aic = -2 * log_likelihood + 2 * num_params\n",
        "\n",
        "print(\"Likelihood:\", likelihood)\n",
        "print(\"Log-Likelihood:\", log_likelihood)\n",
        "print(\"AIC:\", aic)\n"
      ],
      "metadata": {
        "colab": {
          "base_uri": "https://localhost:8080/"
        },
        "id": "XCsuivu7rgEC",
        "outputId": "22f04c15-10a5-4d69-df0b-09e87e706801"
      },
      "execution_count": null,
      "outputs": [
        {
          "output_type": "stream",
          "name": "stdout",
          "text": [
            "Likelihood: 1.667914761177827e-09\n",
            "Log-Likelihood: -20.211691636727004\n",
            "AIC: 44.42338327345401\n"
          ]
        }
      ]
    }
  ]
}