{
 "cells": [
  {
   "cell_type": "code",
   "execution_count": 1,
   "id": "0ebac1c3",
   "metadata": {},
   "outputs": [],
   "source": [
    "#Import the libraries\n",
    "\n",
    "import numpy as np\n",
    "from scipy.optimize import leastsq\n",
    "import matplotlib.pyplot as plt\n",
    "from   scipy import optimize\n",
    "#######################################\n",
    "#######################################\n",
    "import numpy as np\n",
    "import matplotlib.pyplot as plt\n",
    "from scipy.optimize import curve_fit\n",
    "\n",
    "import matplotlib as mpl\n",
    "from mpl_toolkits.mplot3d import Axes3D\n",
    "\n",
    "import matplotlib.pyplot as plt\n",
    "import numpy as np \n",
    "from scipy.integrate import odeint\n",
    "import pylab as p\n",
    "\n",
    "import sympy as sy\n",
    "import numpy as np\n",
    "sy.init_printing()\n"
   ]
  },
  {
   "cell_type": "code",
   "execution_count": 3,
   "id": "d949cec7",
   "metadata": {},
   "outputs": [],
   "source": [
    "# import xlrd\n",
    "\n",
    "import pandas as pd\n",
    "##file_location = \"Rajamane-15042019.xlsx\"\n",
    "# df1 = pd.read_csv(\"daily-total-female-births.csv\")\n",
    "# df = pd.read_csv(\"Stock.csv\")\n",
    "# df = pd.read_csv(\"AirPassengers (1).csv\")\n",
    "\n",
    "df=pd.read_csv(\"Gas1.csv\")\n"
   ]
  },
  {
   "cell_type": "code",
   "execution_count": 4,
   "id": "bbe72787",
   "metadata": {},
   "outputs": [
    {
     "data": {
      "text/html": [
       "<div>\n",
       "<style scoped>\n",
       "    .dataframe tbody tr th:only-of-type {\n",
       "        vertical-align: middle;\n",
       "    }\n",
       "\n",
       "    .dataframe tbody tr th {\n",
       "        vertical-align: top;\n",
       "    }\n",
       "\n",
       "    .dataframe thead th {\n",
       "        text-align: right;\n",
       "    }\n",
       "</style>\n",
       "<table border=\"1\" class=\"dataframe\">\n",
       "  <thead>\n",
       "    <tr style=\"text-align: right;\">\n",
       "      <th></th>\n",
       "      <th>t</th>\n",
       "      <th>x</th>\n",
       "    </tr>\n",
       "  </thead>\n",
       "  <tbody>\n",
       "    <tr>\n",
       "      <th>0</th>\n",
       "      <td>1</td>\n",
       "      <td>1709</td>\n",
       "    </tr>\n",
       "    <tr>\n",
       "      <th>1</th>\n",
       "      <td>2</td>\n",
       "      <td>1646</td>\n",
       "    </tr>\n",
       "    <tr>\n",
       "      <th>2</th>\n",
       "      <td>3</td>\n",
       "      <td>1794</td>\n",
       "    </tr>\n",
       "    <tr>\n",
       "      <th>3</th>\n",
       "      <td>4</td>\n",
       "      <td>1878</td>\n",
       "    </tr>\n",
       "    <tr>\n",
       "      <th>4</th>\n",
       "      <td>5</td>\n",
       "      <td>2173</td>\n",
       "    </tr>\n",
       "    <tr>\n",
       "      <th>...</th>\n",
       "      <td>...</td>\n",
       "      <td>...</td>\n",
       "    </tr>\n",
       "    <tr>\n",
       "      <th>471</th>\n",
       "      <td>472</td>\n",
       "      <td>49013</td>\n",
       "    </tr>\n",
       "    <tr>\n",
       "      <th>472</th>\n",
       "      <td>473</td>\n",
       "      <td>56624</td>\n",
       "    </tr>\n",
       "    <tr>\n",
       "      <th>473</th>\n",
       "      <td>474</td>\n",
       "      <td>61739</td>\n",
       "    </tr>\n",
       "    <tr>\n",
       "      <th>474</th>\n",
       "      <td>475</td>\n",
       "      <td>66600</td>\n",
       "    </tr>\n",
       "    <tr>\n",
       "      <th>475</th>\n",
       "      <td>476</td>\n",
       "      <td>60054</td>\n",
       "    </tr>\n",
       "  </tbody>\n",
       "</table>\n",
       "<p>476 rows × 2 columns</p>\n",
       "</div>"
      ],
      "text/plain": [
       "       t      x\n",
       "0      1   1709\n",
       "1      2   1646\n",
       "2      3   1794\n",
       "3      4   1878\n",
       "4      5   2173\n",
       "..   ...    ...\n",
       "471  472  49013\n",
       "472  473  56624\n",
       "473  474  61739\n",
       "474  475  66600\n",
       "475  476  60054\n",
       "\n",
       "[476 rows x 2 columns]"
      ]
     },
     "execution_count": 4,
     "metadata": {},
     "output_type": "execute_result"
    }
   ],
   "source": [
    "df"
   ]
  },
  {
   "cell_type": "code",
   "execution_count": 5,
   "id": "bb49f966",
   "metadata": {},
   "outputs": [],
   "source": [
    "df11=df.reset_index()['x']"
   ]
  },
  {
   "cell_type": "code",
   "execution_count": 6,
   "id": "2d049b37",
   "metadata": {
    "scrolled": true
   },
   "outputs": [],
   "source": [
    "df1=df11.reset_index(name='x')"
   ]
  },
  {
   "cell_type": "code",
   "execution_count": 7,
   "id": "84aff0cf",
   "metadata": {},
   "outputs": [
    {
     "data": {
      "text/plain": [
       "0       1709\n",
       "1       1646\n",
       "2       1794\n",
       "3       1878\n",
       "4       2173\n",
       "       ...  \n",
       "471    49013\n",
       "472    56624\n",
       "473    61739\n",
       "474    66600\n",
       "475    60054\n",
       "Name: x, Length: 476, dtype: int64"
      ]
     },
     "execution_count": 7,
     "metadata": {},
     "output_type": "execute_result"
    }
   ],
   "source": [
    "df1['x']"
   ]
  },
  {
   "cell_type": "code",
   "execution_count": 8,
   "id": "e26e20a4",
   "metadata": {},
   "outputs": [
    {
     "data": {
      "text/html": [
       "<div>\n",
       "<style scoped>\n",
       "    .dataframe tbody tr th:only-of-type {\n",
       "        vertical-align: middle;\n",
       "    }\n",
       "\n",
       "    .dataframe tbody tr th {\n",
       "        vertical-align: top;\n",
       "    }\n",
       "\n",
       "    .dataframe thead th {\n",
       "        text-align: right;\n",
       "    }\n",
       "</style>\n",
       "<table border=\"1\" class=\"dataframe\">\n",
       "  <thead>\n",
       "    <tr style=\"text-align: right;\">\n",
       "      <th></th>\n",
       "      <th>index</th>\n",
       "      <th>x</th>\n",
       "    </tr>\n",
       "  </thead>\n",
       "  <tbody>\n",
       "    <tr>\n",
       "      <th>0</th>\n",
       "      <td>0</td>\n",
       "      <td>1709</td>\n",
       "    </tr>\n",
       "    <tr>\n",
       "      <th>1</th>\n",
       "      <td>1</td>\n",
       "      <td>1646</td>\n",
       "    </tr>\n",
       "    <tr>\n",
       "      <th>2</th>\n",
       "      <td>2</td>\n",
       "      <td>1794</td>\n",
       "    </tr>\n",
       "    <tr>\n",
       "      <th>3</th>\n",
       "      <td>3</td>\n",
       "      <td>1878</td>\n",
       "    </tr>\n",
       "    <tr>\n",
       "      <th>4</th>\n",
       "      <td>4</td>\n",
       "      <td>2173</td>\n",
       "    </tr>\n",
       "    <tr>\n",
       "      <th>...</th>\n",
       "      <td>...</td>\n",
       "      <td>...</td>\n",
       "    </tr>\n",
       "    <tr>\n",
       "      <th>471</th>\n",
       "      <td>471</td>\n",
       "      <td>49013</td>\n",
       "    </tr>\n",
       "    <tr>\n",
       "      <th>472</th>\n",
       "      <td>472</td>\n",
       "      <td>56624</td>\n",
       "    </tr>\n",
       "    <tr>\n",
       "      <th>473</th>\n",
       "      <td>473</td>\n",
       "      <td>61739</td>\n",
       "    </tr>\n",
       "    <tr>\n",
       "      <th>474</th>\n",
       "      <td>474</td>\n",
       "      <td>66600</td>\n",
       "    </tr>\n",
       "    <tr>\n",
       "      <th>475</th>\n",
       "      <td>475</td>\n",
       "      <td>60054</td>\n",
       "    </tr>\n",
       "  </tbody>\n",
       "</table>\n",
       "<p>476 rows × 2 columns</p>\n",
       "</div>"
      ],
      "text/plain": [
       "     index      x\n",
       "0        0   1709\n",
       "1        1   1646\n",
       "2        2   1794\n",
       "3        3   1878\n",
       "4        4   2173\n",
       "..     ...    ...\n",
       "471    471  49013\n",
       "472    472  56624\n",
       "473    473  61739\n",
       "474    474  66600\n",
       "475    475  60054\n",
       "\n",
       "[476 rows x 2 columns]"
      ]
     },
     "execution_count": 8,
     "metadata": {},
     "output_type": "execute_result"
    }
   ],
   "source": [
    "df1"
   ]
  },
  {
   "cell_type": "code",
   "execution_count": 9,
   "id": "e6f8020a",
   "metadata": {},
   "outputs": [
    {
     "data": {
      "image/png": "[encoded data removed]",
      "text/latex": [
       "$\\displaystyle 476$"
      ],
      "text/plain": [
       "476"
      ]
     },
     "execution_count": 9,
     "metadata": {},
     "output_type": "execute_result"
    }
   ],
   "source": [
    "len(df1)"
   ]
  },
  {
   "cell_type": "code",
   "execution_count": 10,
   "id": "125641c7",
   "metadata": {},
   "outputs": [
    {
     "name": "stdout",
     "output_type": "stream",
     "text": [
      "n= 476 x= 0        0\n",
      "1        1\n",
      "2        2\n",
      "3        3\n",
      "4        4\n",
      "      ... \n",
      "471    471\n",
      "472    472\n",
      "473    473\n",
      "474    474\n",
      "475    475\n",
      "Name: index, Length: 476, dtype: int64\n"
     ]
    }
   ],
   "source": [
    "# x=df1[\"Year\"]\n",
    "# x1=df1[\"AvgTemp\"];   ####x2=df1.X2;x3=df1.X3;\n",
    "x=df1['index']\n",
    "x1=df1['x'];   ####x2=df1.X2;x3=df1.X3;\n",
    "y=x1;##+x2+x3;\n",
    "#print('x1=',x1,'x2=',x2,'x3=',x3,'y=',y)\n",
    "n=len(x1)\n",
    "print('n=',n, 'x=',x)"
   ]
  },
  {
   "cell_type": "code",
   "execution_count": null,
   "id": "3291f94f-f637-470b-a017-3284b9b9f48b",
   "metadata": {},
   "outputs": [],
   "source": [
    "y=a1*x+b1  #line fitting\n",
    "y=a2*x^2+b2*x+c2 #fitting polynomial of order 2"
   ]
  },
  {
   "cell_type": "code",
   "execution_count": null,
   "id": "bdee0f48-9679-4c0c-a2a9-7a1d6aa32272",
   "metadata": {},
   "outputs": [],
   "source": [
    "Σv = aΣu^2 +bΣu+nc (1)\n",
    "Σuv = aΣu^3 +bΣu^2 +cΣu (2)\n",
    "Σu^2v = aΣu^4 +bΣu^3 +cΣu^2 (3)"
   ]
  },
  {
   "cell_type": "code",
   "execution_count": 12,
   "id": "55578d8d",
   "metadata": {},
   "outputs": [],
   "source": [
    "sx=sum(x);\n",
    "sy=sum(y);\n",
    "sxx=sum(x*x);\n",
    "sxy=sum(x*y);\n",
    "###//////////\n",
    "sxxx=sum(x**3);\n",
    "sx4=sum(x**4);\n",
    "sxxy=sum((x**2)*y);\n"
   ]
  },
  {
   "cell_type": "code",
   "execution_count": 13,
   "id": "6cbcee29-14f2-4e42-812b-b8ee3caff56a",
   "metadata": {},
   "outputs": [
    {
     "ename": "SyntaxError",
     "evalue": "invalid decimal literal (864632161.py, line 15)",
     "output_type": "error",
     "traceback": [
      "\u001b[1;36m  Cell \u001b[1;32mIn[13], line 15\u001b[1;36m\u001b[0m\n\u001b[1;33m    bvec=[Σx Σxy Σx^2y]^T    #For fitting polynomial of order 2\u001b[0m\n\u001b[1;37m                    ^\u001b[0m\n\u001b[1;31mSyntaxError\u001b[0m\u001b[1;31m:\u001b[0m invalid decimal literal\n"
     ]
    }
   ],
   "source": [
    "A*xvec=bvec  #General Form of equations\n",
    "\n",
    "A1=[[sx,n],\n",
    "   [sxx,sx]]  #For Line Fit\n",
    "\n",
    "\n",
    "A2=[[sxx,sx,n],\n",
    "   [sxxx,sxx,sx],\n",
    "  [sx4, sxxx,sxx]]  #For fitting polynomial of order 2\n",
    "\n",
    "xvec=[a1 b1]^T  #For Line Fit\n",
    "xvec=[a2 b2 c2]^T # For fitting polynomial of order 2\n",
    "\n",
    "bvec=[Σx Σxy]^T  #For Line Fit\n",
    "bvec=[Σx Σxy Σx^2y]^T    #For fitting polynomial of order 2\n",
    "\n",
    "xvec=A^{-1}*bvec  #Matrix Inversion Method\n",
    "\n"
   ]
  },
  {
   "cell_type": "code",
   "execution_count": 14,
   "id": "1adc21a5",
   "metadata": {
    "scrolled": true
   },
   "outputs": [
    {
     "name": "stdout",
     "output_type": "stream",
     "text": [
      "A1= [[113050, 476], [35836850, 113050]]\n",
      "A2= [[35836850, 113050, 476], [12780302500, 35836850, 113050], [4861619903630, 12780302500, 35836850]]\n"
     ]
    }
   ],
   "source": [
    "A1=[[sx,n],\n",
    "   [sxx,sx]]\n",
    "print('A1=',A1)\n",
    "\n",
    "A2=[[sxx,sx,n],\n",
    "   [sxxx,sxx,sx],\n",
    "  [sx4, sxxx,sxx]]\n",
    "print('A2=',A2)"
   ]
  },
  {
   "cell_type": "code",
   "execution_count": 15,
   "id": "d20aa004",
   "metadata": {},
   "outputs": [],
   "source": [
    "b1=[[sy],[sxy]]\n",
    "b2=[[sy],[sxy],[sxxy]]"
   ]
  },
  {
   "cell_type": "code",
   "execution_count": 16,
   "id": "205b54b0",
   "metadata": {},
   "outputs": [
    {
     "name": "stdout",
     "output_type": "stream",
     "text": [
      "p1= [[-2.64256646e-05  1.11265956e-07]\n",
      " [ 8.37693568e-03 -2.64256646e-05]]\n",
      "p2= [[ 2.76419086e-07 -3.49897577e-09  7.36626478e-12]\n",
      " [-1.57724730e-04  1.77327945e-06 -3.49897577e-09]\n",
      " [ 1.87495619e-02 -1.57724730e-04  2.76419086e-07]]\n"
     ]
    }
   ],
   "source": [
    "p1=np.linalg.inv(A1); ##This linalg is a package comes in numpy which is required to do matrix operations\n",
    "print('p1=',p1)\n",
    "p2=np.linalg.inv(A2);\n",
    "print('p2=',p2)"
   ]
  },
  {
   "cell_type": "code",
   "execution_count": 17,
   "id": "cf8bcebb",
   "metadata": {},
   "outputs": [
    {
     "data": {
      "image/png": "[encoded data removed]",
      "text/latex": [
       "$\\displaystyle \\left( 2, \\  2\\right)$"
      ],
      "text/plain": [
       "(2, 2)"
      ]
     },
     "execution_count": 17,
     "metadata": {},
     "output_type": "execute_result"
    }
   ],
   "source": [
    "p1.shape\n"
   ]
  },
  {
   "cell_type": "code",
   "execution_count": 18,
   "id": "7c85b98e",
   "metadata": {},
   "outputs": [
    {
     "data": {
      "image/png": "[encoded data removed]",
      "text/latex": [
       "$\\displaystyle \\left( 3, \\  3\\right)$"
      ],
      "text/plain": [
       "(3, 3)"
      ]
     },
     "execution_count": 18,
     "metadata": {},
     "output_type": "execute_result"
    }
   ],
   "source": [
    "p2.shape"
   ]
  },
  {
   "cell_type": "code",
   "execution_count": 19,
   "id": "773112da",
   "metadata": {},
   "outputs": [
    {
     "name": "stdout",
     "output_type": "stream",
     "text": [
      "[127.6516415901018, -8901.993869245824]\n",
      "[0.18153506490855698, 41.42248575853682, -2089.89055855223]\n"
     ]
    }
   ],
   "source": [
    "soln=[sum(a0*b0 for a0,b0 in zip(p1_row,b1_col)) for b1_col in zip(*b1) \n",
    "      for p1_row in p1]\n",
    "print(soln)\n",
    "soln1=[sum(a0*b0 for a0,b0 in zip(p2_row,b2_col)) for b2_col in zip(*b2) \n",
    "       for p2_row in p2]\n",
    "print(soln1)"
   ]
  },
  {
   "cell_type": "code",
   "execution_count": 132,
   "id": "3f067dfe",
   "metadata": {},
   "outputs": [
    {
     "name": "stdout",
     "output_type": "stream",
     "text": [
      "value of a and b [127.65164159010169, -8901.993869245809]\n",
      "\n",
      "==========================================\n",
      "a,b= 127.65164159010169 -8901.993869245809\n",
      "\n",
      "==========================================\n",
      "0      -8901.993869\n",
      "1      -8774.342228\n",
      "2      -8646.690586\n",
      "3      -8519.038944\n",
      "4      -8391.387303\n",
      "           ...     \n",
      "471    51221.929320\n",
      "472    51349.580961\n",
      "473    51477.232603\n",
      "474    51604.884244\n",
      "475    51732.535886\n",
      "Name: index, Length: 476, dtype: float64\n",
      "\n",
      "==========================================\n",
      "0      10610.993869\n",
      "1      10420.342228\n",
      "2      10440.690586\n",
      "3      10397.038944\n",
      "4      10564.387303\n",
      "           ...     \n",
      "471    -2208.929320\n",
      "472     5274.419039\n",
      "473    10261.767397\n",
      "474    14995.115756\n",
      "475     8321.464114\n",
      "Length: 476, dtype: float64\n",
      "\n",
      "==========================================\n",
      "value of a1,b1 and c1 [0.1815350649085552, 41.42248575853773, -2089.890558552288]\n",
      "\n",
      "==========================================\n",
      "a,b,c= 0.1815350649085552 41.42248575853773 -2089.890558552288\n",
      "\n",
      "==========================================\n",
      "0      -2089.890559\n",
      "1      -2048.286538\n",
      "2      -2006.319447\n",
      "3      -1963.989286\n",
      "4      -1921.296054\n",
      "           ...     \n",
      "471    57692.020568\n",
      "472    57904.630620\n",
      "473    58117.603742\n",
      "474    58330.939934\n",
      "475    58544.639197\n",
      "Name: index, Length: 476, dtype: float64\n",
      "\n",
      "==========================================\n",
      "0      3798.890559\n",
      "1      3694.286538\n",
      "2      3800.319447\n",
      "3      3841.989286\n",
      "4      4094.296054\n",
      "          ...     \n",
      "471   -8679.020568\n",
      "472   -1280.630620\n",
      "473    3621.396258\n",
      "474    8269.060066\n",
      "475    1509.360803\n",
      "Length: 476, dtype: float64\n"
     ]
    }
   ],
   "source": [
    "print('value of a and b',soln)\n",
    "print('\\n==========================================')\n",
    "print('a,b=',soln[0],soln[1])\n",
    "print('\\n==========================================')\n",
    "y1=(soln[0]*x)+soln[1]\n",
    "err1=y-y1\n",
    "print(y1)\n",
    "print('\\n==========================================')\n",
    "print(err1)\n",
    "print('\\n==========================================')\n",
    "\n",
    "\n",
    "print('value of a1,b1 and c1',soln1)\n",
    "print('\\n==========================================')\n",
    "print('a,b,c=',soln1[0],soln1[1],soln1[2])\n",
    "print('\\n==========================================')\n",
    "y2=(soln1[0]*x**2)+(soln1[1]*x)+soln1[2]\n",
    "err2=y-y2\n",
    "print(y2)\n",
    "print('\\n==========================================')\n",
    "print(err2)\n",
    "\n",
    "\n"
   ]
  },
  {
   "cell_type": "code",
   "execution_count": 133,
   "id": "4f130035",
   "metadata": {},
   "outputs": [
    {
     "name": "stdout",
     "output_type": "stream",
     "text": [
      "E1= 3.014434140060219e+28\n",
      "E2= 3.0888334337480537e+28\n",
      "19267762407.75782\n",
      "14793991673.179804\n"
     ]
    }
   ],
   "source": [
    "E1=(sum(y1-soln[0]*sxy-soln[1]*sy)**2)\n",
    "##//sE1=sum(E1)\n",
    "print('E1=',E1)\n",
    "E2=(sum(y2-soln1[0]*sxxy-soln1[1]*sxy-soln1[2]*sy)**2)\n",
    "print('E2=',E2)\n",
    "\n",
    "\n",
    "se1=sum((y1-y)**2)\n",
    "print(se1)\n",
    "se2=sum((y2-y)**2)\n",
    "print(se2)"
   ]
  },
  {
   "cell_type": "code",
   "execution_count": 134,
   "id": "fc18a06e",
   "metadata": {},
   "outputs": [
    {
     "data": {
      "image/png": "[encoded data removed]",
      "text/plain": [
       "<Figure size 500x300 with 1 Axes>"
      ]
     },
     "metadata": {},
     "output_type": "display_data"
    }
   ],
   "source": [
    "#\n",
    "f1 = p.figure(figsize=(5,3))\n",
    "p.plot(x,y,'o-g', label=r'$Actual~Data$',linewidth=1)\n",
    "p.plot(x,y1,'--m', label=r'$Linear~Trend$',linewidth=2)\n",
    "p.plot(x,y2,'-.b', label=r'$Quadratic~ Trend$',linewidth=2)\n",
    "\n",
    "# p.plot(t1,residuals2(p1fit1, x1),'--y', label=r'$CurveTrend-1$')\n",
    "# p.plot(t1,residuals3(p2fit1, x1),'--r', label=r'$CurveTrend-2$')\n",
    "# #p.plot(sno, LCL_r1, 'b-', label='LCL',linewidth=2)\n",
    "# #p.plot(sno, UCL_r1, 'r-', label='UCL',linewidth=2)\n",
    "p.grid()\n",
    "p.legend(loc='best')\n",
    "p.xlabel('$x$',fontsize=18)\n",
    "p.ylabel('$t$',fontsize=18)\n",
    "p.title('Data Fitting',fontsize=18)\n",
    "plt.show()\n",
    "f1.savefig('least_sq_line_curve.png',dpi=300)"
   ]
  },
  {
   "cell_type": "code",
   "execution_count": 79,
   "id": "63e20701",
   "metadata": {},
   "outputs": [
    {
     "data": {
      "image/png": "[encoded data removed]",
      "text/latex": [
       "$\\displaystyle 2505$"
      ],
      "text/plain": [
       "2505"
      ]
     },
     "execution_count": 79,
     "metadata": {},
     "output_type": "execute_result"
    }
   ],
   "source": [
    "sum([352,356,357,358,360,361,361])"
   ]
  },
  {
   "cell_type": "markdown",
   "id": "6490b7e1-1cff-494d-a558-6732c9051c9e",
   "metadata": {},
   "source": [
    "Exercise:\n",
    "\n",
    "Extend the code for 3rd and 4th oreder polynomials."
   ]
  }
 ],
 "metadata": {
  "kernelspec": {
   "display_name": "Python 3 (ipykernel)",
   "language": "python",
   "name": "python3"
  },
  "language_info": {
   "codemirror_mode": {
    "name": "ipython",
    "version": 3
   },
   "file_extension": ".py",
   "mimetype": "text/x-python",
   "name": "python",
   "nbconvert_exporter": "python",
   "pygments_lexer": "ipython3",
   "version": "3.11.7"
  }
 },
 "nbformat": 4,
 "nbformat_minor": 5
}
